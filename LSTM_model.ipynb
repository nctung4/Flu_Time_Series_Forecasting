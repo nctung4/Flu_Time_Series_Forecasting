{
 "cells": [
  {
   "cell_type": "markdown",
   "metadata": {},
   "source": [
    "In this notebook I will apply the LSTM model into the data which was prepared in R."
   ]
  },
  {
   "cell_type": "markdown",
   "metadata": {},
   "source": [
    "### 1. Importing the libraries"
   ]
  },
  {
   "cell_type": "code",
   "execution_count": 75,
   "metadata": {},
   "outputs": [],
   "source": [
    "import pandas as pd\n",
    "import datetime\n",
    "import matplotlib.pyplot as plt\n",
    "import numpy as np\n",
    "import math\n",
    "from sklearn.preprocessing import MinMaxScaler\n",
    "from sklearn.metrics import mean_squared_error\n",
    "from tensorflow.keras.models import Sequential\n",
    "from tensorflow.keras.layers import Dense, LSTM"
   ]
  },
  {
   "cell_type": "code",
   "execution_count": 18,
   "metadata": {},
   "outputs": [],
   "source": [
    "fludat_pivot = pd.read_csv('./dataset/Flu_pivot.csv')"
   ]
  },
  {
   "cell_type": "code",
   "execution_count": 19,
   "metadata": {},
   "outputs": [
    {
     "name": "stdout",
     "output_type": "stream",
     "text": [
      "<class 'pandas.core.frame.DataFrame'>\n",
      "RangeIndex: 546 entries, 0 to 545\n",
      "Data columns (total 5 columns):\n",
      " #   Column     Non-Null Count  Dtype \n",
      "---  ------     --------------  ----- \n",
      " 0   sdate      546 non-null    object\n",
      " 1   Processed  546 non-null    int64 \n",
      " 2   A_total    546 non-null    int64 \n",
      " 3   B_total    546 non-null    int64 \n",
      " 4   All_total  546 non-null    int64 \n",
      "dtypes: int64(4), object(1)\n",
      "memory usage: 21.5+ KB\n"
     ]
    }
   ],
   "source": [
    "fludat_pivot.info()"
   ]
  },
  {
   "cell_type": "code",
   "execution_count": 20,
   "metadata": {},
   "outputs": [],
   "source": [
    "fludat_pivot['sdate'] = pd.to_datetime(fludat_pivot['sdate'])"
   ]
  },
  {
   "cell_type": "code",
   "execution_count": 21,
   "metadata": {},
   "outputs": [
    {
     "data": {
      "text/html": [
       "<div>\n",
       "<style scoped>\n",
       "    .dataframe tbody tr th:only-of-type {\n",
       "        vertical-align: middle;\n",
       "    }\n",
       "\n",
       "    .dataframe tbody tr th {\n",
       "        vertical-align: top;\n",
       "    }\n",
       "\n",
       "    .dataframe thead th {\n",
       "        text-align: right;\n",
       "    }\n",
       "</style>\n",
       "<table border=\"1\" class=\"dataframe\">\n",
       "  <thead>\n",
       "    <tr style=\"text-align: right;\">\n",
       "      <th></th>\n",
       "      <th>sdate</th>\n",
       "      <th>Processed</th>\n",
       "      <th>A_total</th>\n",
       "      <th>B_total</th>\n",
       "      <th>All_total</th>\n",
       "    </tr>\n",
       "  </thead>\n",
       "  <tbody>\n",
       "    <tr>\n",
       "      <th>0</th>\n",
       "      <td>2010-01-04</td>\n",
       "      <td>9312</td>\n",
       "      <td>1999</td>\n",
       "      <td>1</td>\n",
       "      <td>2000</td>\n",
       "    </tr>\n",
       "    <tr>\n",
       "      <th>1</th>\n",
       "      <td>2010-01-11</td>\n",
       "      <td>10728</td>\n",
       "      <td>1404</td>\n",
       "      <td>15</td>\n",
       "      <td>1419</td>\n",
       "    </tr>\n",
       "    <tr>\n",
       "      <th>2</th>\n",
       "      <td>2010-01-18</td>\n",
       "      <td>9027</td>\n",
       "      <td>1135</td>\n",
       "      <td>49</td>\n",
       "      <td>1184</td>\n",
       "    </tr>\n",
       "    <tr>\n",
       "      <th>3</th>\n",
       "      <td>2010-01-25</td>\n",
       "      <td>8030</td>\n",
       "      <td>515</td>\n",
       "      <td>18</td>\n",
       "      <td>533</td>\n",
       "    </tr>\n",
       "    <tr>\n",
       "      <th>4</th>\n",
       "      <td>2010-02-01</td>\n",
       "      <td>7788</td>\n",
       "      <td>502</td>\n",
       "      <td>14</td>\n",
       "      <td>516</td>\n",
       "    </tr>\n",
       "  </tbody>\n",
       "</table>\n",
       "</div>"
      ],
      "text/plain": [
       "       sdate  Processed  A_total  B_total  All_total\n",
       "0 2010-01-04       9312     1999        1       2000\n",
       "1 2010-01-11      10728     1404       15       1419\n",
       "2 2010-01-18       9027     1135       49       1184\n",
       "3 2010-01-25       8030      515       18        533\n",
       "4 2010-02-01       7788      502       14        516"
      ]
     },
     "execution_count": 21,
     "metadata": {},
     "output_type": "execute_result"
    }
   ],
   "source": [
    "fludat_pivot.head()"
   ]
  },
  {
   "cell_type": "code",
   "execution_count": 25,
   "metadata": {},
   "outputs": [],
   "source": [
    "forecast_data = fludat_pivot.set_index(fludat_pivot['sdate'])['All_total']"
   ]
  },
  {
   "cell_type": "code",
   "execution_count": 33,
   "metadata": {},
   "outputs": [],
   "source": [
    "forecast_data.name = 'Positive_cases'"
   ]
  },
  {
   "cell_type": "code",
   "execution_count": 35,
   "metadata": {},
   "outputs": [
    {
     "data": {
      "text/plain": [
       "sdate\n",
       "2010-01-04    2000\n",
       "2010-01-11    1419\n",
       "2010-01-18    1184\n",
       "2010-01-25     533\n",
       "2010-02-01     516\n",
       "              ... \n",
       "2020-05-18       3\n",
       "2020-05-25       3\n",
       "2020-06-01       1\n",
       "2020-06-08       4\n",
       "2020-06-15       0\n",
       "Name: Positive_cases, Length: 546, dtype: int64"
      ]
     },
     "execution_count": 35,
     "metadata": {},
     "output_type": "execute_result"
    }
   ],
   "source": [
    "forecast_data"
   ]
  },
  {
   "cell_type": "code",
   "execution_count": 29,
   "metadata": {},
   "outputs": [
    {
     "data": {
      "text/plain": [
       "[<matplotlib.lines.Line2D at 0x1eb9c59b760>]"
      ]
     },
     "execution_count": 29,
     "metadata": {},
     "output_type": "execute_result"
    },
    {
     "data": {
      "image/png": "[encoded data removed]",
      "text/plain": [
       "<Figure size 432x288 with 1 Axes>"
      ]
     },
     "metadata": {
      "needs_background": "light"
     },
     "output_type": "display_data"
    }
   ],
   "source": [
    "plt.plot(forecast_data)"
   ]
  },
  {
   "cell_type": "code",
   "execution_count": 38,
   "metadata": {},
   "outputs": [],
   "source": [
    " # LSTM are sensitive to the scale of the data, so we apply minmax scaler\n",
    "    \n",
    "scaler = MinMaxScaler(feature_range=(0,1))\n",
    "\n",
    "# Scaled array\n",
    "forecast_data_scaled = scaler.fit_transform(np.array(forecast_data).reshape(-1,1))"
   ]
  },
  {
   "cell_type": "code",
   "execution_count": 45,
   "metadata": {},
   "outputs": [],
   "source": [
    "# Splitting the dataset into train and test 80% - 20%\n",
    "\n",
    "train_size = int(len(forecast_data_scaled)*0.8)\n",
    "test_size = len(forecast_data_scaled)-train_size\n",
    "\n",
    "training_data = forecast_data_scaled[0:train_size,:]\n",
    "test_data = forecast_data_scaled[train_size:len(forecast_data_scaled),:]"
   ]
  },
  {
   "cell_type": "code",
   "execution_count": 53,
   "metadata": {},
   "outputs": [],
   "source": [
    "# Within the 'training_data' and 'test_data', we create x_train,x_test, y_train, y_test\n",
    "\n",
    "def create_data(dataset, time_step = 1):\n",
    "    data_X, data_Y = [], []\n",
    "    for i in range(len(dataset)-time_step-1):\n",
    "        a = dataset[i:(i+time_step),0]\n",
    "        data_X.append(a)\n",
    "        data_Y.append(dataset[i + time_step, 0])\n",
    "    return np.array(data_X), np.array(data_Y)"
   ]
  },
  {
   "cell_type": "code",
   "execution_count": 108,
   "metadata": {},
   "outputs": [],
   "source": [
    "# time_step hyperparameter tuning\n",
    "time_step = 5\n",
    "\n",
    "X_train, y_train = create_data(training_data, time_step)\n",
    "X_test, y_test = create_data(test_data, time_step)"
   ]
  },
  {
   "cell_type": "code",
   "execution_count": 109,
   "metadata": {},
   "outputs": [
    {
     "name": "stdout",
     "output_type": "stream",
     "text": [
      "X_train shape:  (430, 5) , y_train shape:  (430,)\n",
      "------------------------\n",
      "X_test shape:  (104, 5) , y_test shape:  (104,)\n"
     ]
    }
   ],
   "source": [
    "print('X_train shape: ',X_train.shape, ', y_train shape: ',y_train.shape)\n",
    "print('------------------------')\n",
    "print('X_test shape: ',X_test.shape, ', y_test shape: ',y_test.shape)"
   ]
  },
  {
   "cell_type": "markdown",
   "metadata": {},
   "source": [
    "### LSTM model"
   ]
  },
  {
   "cell_type": "code",
   "execution_count": 110,
   "metadata": {},
   "outputs": [],
   "source": [
    "# for LSTM we need to add an additional dimension\n",
    "X_train = X_train.reshape(X_train.shape[0], X_train.shape[1], 1)\n",
    "X_test = X_test.reshape(X_test.shape[0], X_test.shape[1], 1)"
   ]
  },
  {
   "cell_type": "code",
   "execution_count": 111,
   "metadata": {},
   "outputs": [],
   "source": [
    "# Create stack LSTM model\n",
    "model = Sequential()\n",
    "model.add(LSTM(50, return_sequences = True, input_shape = (100,1)))\n",
    "model.add(LSTM(50, return_sequences = True))\n",
    "model.add(LSTM(50))\n",
    "model.add(Dense(1))\n",
    "model.compile(loss='mean_squared_error', optimizer='adam')"
   ]
  },
  {
   "cell_type": "code",
   "execution_count": 112,
   "metadata": {},
   "outputs": [
    {
     "name": "stdout",
     "output_type": "stream",
     "text": [
      "Model: \"sequential_2\"\n",
      "_________________________________________________________________\n",
      "Layer (type)                 Output Shape              Param #   \n",
      "=================================================================\n",
      "lstm_6 (LSTM)                (None, 100, 50)           10400     \n",
      "_________________________________________________________________\n",
      "lstm_7 (LSTM)                (None, 100, 50)           20200     \n",
      "_________________________________________________________________\n",
      "lstm_8 (LSTM)                (None, 50)                20200     \n",
      "_________________________________________________________________\n",
      "dense_2 (Dense)              (None, 1)                 51        \n",
      "=================================================================\n",
      "Total params: 50,851\n",
      "Trainable params: 50,851\n",
      "Non-trainable params: 0\n",
      "_________________________________________________________________\n"
     ]
    }
   ],
   "source": [
    "model.summary()"
   ]
  },
  {
   "cell_type": "code",
   "execution_count": 113,
   "metadata": {},
   "outputs": [
    {
     "name": "stdout",
     "output_type": "stream",
     "text": [
      "Epoch 1/50\n",
      "WARNING:tensorflow:Model was constructed with shape (None, 100, 1) for input KerasTensor(type_spec=TensorSpec(shape=(None, 100, 1), dtype=tf.float32, name='lstm_6_input'), name='lstm_6_input', description=\"created by layer 'lstm_6_input'\"), but it was called on an input with incompatible shape (None, 5, 1).\n",
      "WARNING:tensorflow:Model was constructed with shape (None, 100, 1) for input KerasTensor(type_spec=TensorSpec(shape=(None, 100, 1), dtype=tf.float32, name='lstm_6_input'), name='lstm_6_input', description=\"created by layer 'lstm_6_input'\"), but it was called on an input with incompatible shape (None, 5, 1).\n",
      " 9/14 [==================>...........] - ETA: 0s - loss: 0.0298  WARNING:tensorflow:Model was constructed with shape (None, 100, 1) for input KerasTensor(type_spec=TensorSpec(shape=(None, 100, 1), dtype=tf.float32, name='lstm_6_input'), name='lstm_6_input', description=\"created by layer 'lstm_6_input'\"), but it was called on an input with incompatible shape (None, 5, 1).\n",
      "14/14 [==============================] - 6s 101ms/step - loss: 0.0275 - val_loss: 0.0386\n",
      "Epoch 2/50\n",
      "14/14 [==============================] - 0s 11ms/step - loss: 0.0153 - val_loss: 0.0285\n",
      "Epoch 3/50\n",
      "14/14 [==============================] - 0s 10ms/step - loss: 0.0112 - val_loss: 0.0298\n",
      "Epoch 4/50\n",
      "14/14 [==============================] - 0s 11ms/step - loss: 0.0108 - val_loss: 0.0276\n",
      "Epoch 5/50\n",
      "14/14 [==============================] - 0s 10ms/step - loss: 0.0119 - val_loss: 0.0280\n",
      "Epoch 6/50\n",
      "14/14 [==============================] - 0s 9ms/step - loss: 0.0101 - val_loss: 0.0267\n",
      "Epoch 7/50\n",
      "14/14 [==============================] - 0s 9ms/step - loss: 0.0098 - val_loss: 0.0257\n",
      "Epoch 8/50\n",
      "14/14 [==============================] - 0s 10ms/step - loss: 0.0086 - val_loss: 0.0255\n",
      "Epoch 9/50\n",
      "14/14 [==============================] - 0s 9ms/step - loss: 0.0097 - val_loss: 0.0244\n",
      "Epoch 10/50\n",
      "14/14 [==============================] - 0s 9ms/step - loss: 0.0087 - val_loss: 0.0218\n",
      "Epoch 11/50\n",
      "14/14 [==============================] - 0s 9ms/step - loss: 0.0081 - val_loss: 0.0209\n",
      "Epoch 12/50\n",
      "14/14 [==============================] - 0s 10ms/step - loss: 0.0079 - val_loss: 0.0181\n",
      "Epoch 13/50\n",
      "14/14 [==============================] - 0s 10ms/step - loss: 0.0061 - val_loss: 0.0165\n",
      "Epoch 14/50\n",
      "14/14 [==============================] - 0s 11ms/step - loss: 0.0065 - val_loss: 0.0126\n",
      "Epoch 15/50\n",
      "14/14 [==============================] - 0s 9ms/step - loss: 0.0043 - val_loss: 0.0077\n",
      "Epoch 16/50\n",
      "14/14 [==============================] - 0s 10ms/step - loss: 0.0034 - val_loss: 0.0072\n",
      "Epoch 17/50\n",
      "14/14 [==============================] - 0s 9ms/step - loss: 0.0032 - val_loss: 0.0068\n",
      "Epoch 18/50\n",
      "14/14 [==============================] - 0s 9ms/step - loss: 0.0026 - val_loss: 0.0050\n",
      "Epoch 19/50\n",
      "14/14 [==============================] - 0s 9ms/step - loss: 0.0022 - val_loss: 0.0048\n",
      "Epoch 20/50\n",
      "14/14 [==============================] - 0s 12ms/step - loss: 0.0017 - val_loss: 0.0055\n",
      "Epoch 21/50\n",
      "14/14 [==============================] - 0s 10ms/step - loss: 0.0019 - val_loss: 0.0042\n",
      "Epoch 22/50\n",
      "14/14 [==============================] - 0s 9ms/step - loss: 0.0022 - val_loss: 0.0043\n",
      "Epoch 23/50\n",
      "14/14 [==============================] - 0s 9ms/step - loss: 0.0014 - val_loss: 0.0041\n",
      "Epoch 24/50\n",
      "14/14 [==============================] - 0s 10ms/step - loss: 0.0013 - val_loss: 0.0037\n",
      "Epoch 25/50\n",
      "14/14 [==============================] - 0s 9ms/step - loss: 0.0013 - val_loss: 0.0040\n",
      "Epoch 26/50\n",
      "14/14 [==============================] - 0s 11ms/step - loss: 0.0014 - val_loss: 0.0036\n",
      "Epoch 27/50\n",
      "14/14 [==============================] - 0s 10ms/step - loss: 0.0015 - val_loss: 0.0036\n",
      "Epoch 28/50\n",
      "14/14 [==============================] - 0s 10ms/step - loss: 0.0016 - val_loss: 0.0033\n",
      "Epoch 29/50\n",
      "14/14 [==============================] - 0s 9ms/step - loss: 0.0011 - val_loss: 0.0031\n",
      "Epoch 30/50\n",
      "14/14 [==============================] - 0s 9ms/step - loss: 0.0013 - val_loss: 0.0029\n",
      "Epoch 31/50\n",
      "14/14 [==============================] - 0s 11ms/step - loss: 9.7345e-04 - val_loss: 0.0028\n",
      "Epoch 32/50\n",
      "14/14 [==============================] - 0s 10ms/step - loss: 9.9209e-04 - val_loss: 0.0029\n",
      "Epoch 33/50\n",
      "14/14 [==============================] - 0s 9ms/step - loss: 0.0013 - val_loss: 0.0028\n",
      "Epoch 34/50\n",
      "14/14 [==============================] - 0s 9ms/step - loss: 0.0011 - val_loss: 0.0030\n",
      "Epoch 35/50\n",
      "14/14 [==============================] - 0s 9ms/step - loss: 8.5288e-04 - val_loss: 0.0027\n",
      "Epoch 36/50\n",
      "14/14 [==============================] - 0s 10ms/step - loss: 8.5571e-04 - val_loss: 0.0026\n",
      "Epoch 37/50\n",
      "14/14 [==============================] - 0s 9ms/step - loss: 0.0010 - val_loss: 0.0027\n",
      "Epoch 38/50\n",
      "14/14 [==============================] - 0s 9ms/step - loss: 9.2623e-04 - val_loss: 0.0025\n",
      "Epoch 39/50\n",
      "14/14 [==============================] - 0s 12ms/step - loss: 8.7982e-04 - val_loss: 0.0025\n",
      "Epoch 40/50\n",
      "14/14 [==============================] - 0s 10ms/step - loss: 6.9704e-04 - val_loss: 0.0026\n",
      "Epoch 41/50\n",
      "14/14 [==============================] - 0s 9ms/step - loss: 5.8868e-04 - val_loss: 0.0025\n",
      "Epoch 42/50\n",
      "14/14 [==============================] - 0s 9ms/step - loss: 7.7609e-04 - val_loss: 0.0025\n",
      "Epoch 43/50\n",
      "14/14 [==============================] - 0s 9ms/step - loss: 6.5469e-04 - val_loss: 0.0024\n",
      "Epoch 44/50\n",
      "14/14 [==============================] - 0s 10ms/step - loss: 8.2007e-04 - val_loss: 0.0024\n",
      "Epoch 45/50\n",
      "14/14 [==============================] - 0s 11ms/step - loss: 6.0427e-04 - val_loss: 0.0024\n",
      "Epoch 46/50\n",
      "14/14 [==============================] - 0s 9ms/step - loss: 6.0228e-04 - val_loss: 0.0025\n",
      "Epoch 47/50\n",
      "14/14 [==============================] - 0s 10ms/step - loss: 8.5204e-04 - val_loss: 0.0023\n",
      "Epoch 48/50\n",
      "14/14 [==============================] - 0s 9ms/step - loss: 6.8747e-04 - val_loss: 0.0023\n",
      "Epoch 49/50\n",
      "14/14 [==============================] - 0s 9ms/step - loss: 6.1898e-04 - val_loss: 0.0023\n",
      "Epoch 50/50\n",
      "14/14 [==============================] - 0s 9ms/step - loss: 6.7881e-04 - val_loss: 0.0023\n"
     ]
    }
   ],
   "source": [
    "EPOCHS = 50\n",
    "H = model.fit(X_train,y_train,validation_data=(X_test, y_test), epochs = EPOCHS, batch_size = 32, verbose = 1)"
   ]
  },
  {
   "cell_type": "code",
   "execution_count": 114,
   "metadata": {},
   "outputs": [
    {
     "name": "stdout",
     "output_type": "stream",
     "text": [
      "WARNING:tensorflow:Model was constructed with shape (None, 100, 1) for input KerasTensor(type_spec=TensorSpec(shape=(None, 100, 1), dtype=tf.float32, name='lstm_6_input'), name='lstm_6_input', description=\"created by layer 'lstm_6_input'\"), but it was called on an input with incompatible shape (None, 5, 1).\n"
     ]
    }
   ],
   "source": [
    "# Prediction\n",
    "y_pred = model.predict(X_test)"
   ]
  },
  {
   "cell_type": "code",
   "execution_count": 115,
   "metadata": {},
   "outputs": [],
   "source": [
    "y_pred_realval = scaler.inverse_transform(y_pred)"
   ]
  },
  {
   "cell_type": "code",
   "execution_count": 116,
   "metadata": {},
   "outputs": [
    {
     "data": {
      "text/plain": [
       "0.04745117267778421"
      ]
     },
     "execution_count": 116,
     "metadata": {},
     "output_type": "execute_result"
    }
   ],
   "source": [
    "lstm_rmse = math.sqrt(mean_squared_error(y_test, y_pred))\n",
    "lstm_rmse"
   ]
  },
  {
   "cell_type": "code",
   "execution_count": 117,
   "metadata": {},
   "outputs": [
    {
     "data": {
      "image/png": "[encoded data removed]",
      "text/plain": [
       "<Figure size 432x288 with 1 Axes>"
      ]
     },
     "metadata": {
      "needs_background": "light"
     },
     "output_type": "display_data"
    }
   ],
   "source": [
    "# plotting\n",
    "look_back = 5\n",
    "test_predict = np.empty_like(forecast_data_scaled)\n",
    "test_predict[:,:] = np.nan\n",
    "test_predict[len(X_train) + (look_back*2)+1 : len(forecast_data_scaled)-1, :] = y_pred_realval\n",
    "plt.plot(scaler.inverse_transform(forecast_data_scaled))\n",
    "plt.plot(test_predict)\n",
    "plt.show()"
   ]
  },
  {
   "cell_type": "code",
   "execution_count": 118,
   "metadata": {},
   "outputs": [
    {
     "data": {
      "image/png": "[encoded data removed]",
      "text/plain": [
       "<Figure size 432x288 with 1 Axes>"
      ]
     },
     "metadata": {
      "needs_background": "light"
     },
     "output_type": "display_data"
    }
   ],
   "source": [
    "N = EPOCHS\n",
    "\n",
    "plt.plot(np.arange(0, N), H.history['loss'], label='train_loss')\n",
    "plt.plot(np.arange(0, N), H.history['val_loss'], label='val_loss')\n",
    "plt.title('Training - Loss')\n",
    "plt.xlabel('Epochs')\n",
    "plt.ylabel('Loss')\n",
    "plt.legend(loc='lower left')\n",
    "plt.savefig(\"./plot/LSTM_model_training_plot.png\")"
   ]
  },
  {
   "cell_type": "markdown",
   "metadata": {},
   "source": [
    "This is a good model, not over and underfitted."
   ]
  },
  {
   "cell_type": "markdown",
   "metadata": {},
   "source": [
    "### Predicting for 2 years (104 weeks)"
   ]
  },
  {
   "cell_type": "code",
   "execution_count": 120,
   "metadata": {},
   "outputs": [
    {
     "data": {
      "text/plain": [
       "110"
      ]
     },
     "execution_count": 120,
     "metadata": {},
     "output_type": "execute_result"
    }
   ],
   "source": [
    "len(test_data)"
   ]
  },
  {
   "cell_type": "code",
   "execution_count": 139,
   "metadata": {},
   "outputs": [
    {
     "name": "stdout",
     "output_type": "stream",
     "text": [
      "[0.006939306389540434, 0.012598161585628986, 0.022669196128845215, 0.037247300148010254, 0.057227786630392075, 0.08324230462312698, 0.11816228181123734, 0.1616498976945877, 0.2136305719614029, 0.2712876796722412, 0.3286057412624359, 0.3771117031574249, 0.4097318947315216, 0.42377838492393494, 0.42166000604629517, 0.40803512930870056, 0.38718393445014954, 0.36215466260910034, 0.3349825441837311, 0.30701500177383423, 0.2791815996170044, 0.2521817088127136, 0.22659428417682648, 0.20292939245700836, 0.1816529482603073, 0.16319283843040466, 0.14793655276298523, 0.13622872531414032, 0.1283753663301468, 0.12465202808380127, 0.12531164288520813, 0.13058020174503326, 0.14062577486038208, 0.15548592805862427, 0.17494451999664307, 0.1983664482831955, 0.22453300654888153, 0.25156939029693604, 0.27708491683006287, 0.2985893189907074, 0.3140798509120941, 0.32251739501953125, 0.3239375948905945, 0.31919237971305847, 0.309542179107666, 0.2963199317455292, 0.2807464301586151, 0.2638673186302185, 0.2465571165084839, 0.22954745590686798, 0.21345782279968262, 0.19881978631019592, 0.18609242141246796, 0.17567139863967896, 0.1678932160139084, 0.16303615272045135, 0.1613168865442276, 0.16288085281848907, 0.16778261959552765, 0.17595241963863373, 0.1871500015258789, 0.2009122371673584, 0.21651069819927216, 0.23294739425182343, 0.24901510775089264, 0.26343652606010437, 0.2750590443611145, 0.2830462157726288, 0.2869948446750641, 0.2869419455528259, 0.2832762598991394, 0.27660831809043884, 0.26764774322509766, 0.25711551308631897, 0.24569331109523773, 0.23400025069713593, 0.22258728742599487, 0.21193799376487732, 0.20247246325016022, 0.19454991817474365, 0.18846969306468964, 0.18446959555149078, 0.1827215701341629, 0.1833229511976242, 0.18628421425819397, 0.1915116310119629, 0.1987883299589157, 0.2077573984861374, 0.21791575849056244, 0.22862745821475983, 0.23916497826576233, 0.24877847731113434, 0.25678324699401855, 0.2626453638076782, 0.26604190468788147, 0.2668815553188324, 0.2652849853038788, 0.26153814792633057, 0.2560352385044098, 0.24922652542591095, 0.24157771468162537, 0.2335420399904251, 0.2255435734987259, 0.21796740591526031]\n"
     ]
    }
   ],
   "source": [
    "# We need the last 5 value from the test data to start the prediction\n",
    "x_input = test_data[len(test_data)-5:].reshape(1,-1)\n",
    "\n",
    "# x_input to list\n",
    "temp_input = list(x_input)\n",
    "temp_input = temp_input[0].tolist()\n",
    "\n",
    "\n",
    "# find next 104 value\n",
    "output = []\n",
    "time_step = 5\n",
    "i = 0\n",
    "\n",
    "while(i<104):\n",
    "    if(len(temp_input)>5):\n",
    "        # last 5 element after the first loop\n",
    "        x_input = np.array(temp_input[1:])\n",
    "        #reshaping\n",
    "        x_input = x_input.reshape(1,-1)\n",
    "        x_input = x_input.reshape(1, time_step, 1)\n",
    "        # predict\n",
    "        y_hat = model.predict(x_input, verbose = 0)\n",
    "        # adding to the temp list\n",
    "        temp_input.append(y_hat[0][0].tolist())\n",
    "        # change temp list to the last 5 value\n",
    "        temp_input = temp_input[1:]\n",
    "        # add prediction to output\n",
    "        output.append(y_hat[0][0].tolist())\n",
    "        i = i+1\n",
    "    \n",
    "    else:\n",
    "        # last 5 value reshape and predict\n",
    "        x_input = x_input.reshape(1, time_step, 1)\n",
    "        y_hat = model.predict(x_input, verbose = 0)\n",
    "        \n",
    "        # adding the value to temp input list\n",
    "        temp_input.append(y_hat[0][0].tolist())\n",
    "        # adding the value to output list\n",
    "        output.append(y_hat[0][0].tolist())\n",
    "        i = i+1\n",
    "\n",
    "print(output)"
   ]
  },
  {
   "cell_type": "code",
   "execution_count": 155,
   "metadata": {},
   "outputs": [],
   "source": [
    "y_pred_2yrs = scaler.inverse_transform(np.array(output).reshape(-1,1))"
   ]
  },
  {
   "cell_type": "code",
   "execution_count": 158,
   "metadata": {},
   "outputs": [
    {
     "data": {
      "text/plain": [
       "546"
      ]
     },
     "execution_count": 158,
     "metadata": {},
     "output_type": "execute_result"
    }
   ],
   "source": [
    "len(forecast_data)"
   ]
  },
  {
   "cell_type": "code",
   "execution_count": 159,
   "metadata": {},
   "outputs": [
    {
     "data": {
      "text/plain": [
       "[<matplotlib.lines.Line2D at 0x1ebd2776910>]"
      ]
     },
     "execution_count": 159,
     "metadata": {},
     "output_type": "execute_result"
    },
    {
     "data": {
      "image/png": "[encoded data removed]",
      "text/plain": [
       "<Figure size 432x288 with 1 Axes>"
      ]
     },
     "metadata": {
      "needs_background": "light"
     },
     "output_type": "display_data"
    }
   ],
   "source": [
    "plt.plot(np.arange(0,546),forecast_data)\n",
    "plt.plot(np.arange(546,546+104),y_pred_2yrs)"
   ]
  }
 ],
 "metadata": {
  "kernelspec": {
   "display_name": "Python 3",
   "language": "python",
   "name": "python3"
  },
  "language_info": {
   "codemirror_mode": {
    "name": "ipython",
    "version": 3
   },
   "file_extension": ".py",
   "mimetype": "text/x-python",
   "name": "python",
   "nbconvert_exporter": "python",
   "pygments_lexer": "ipython3",
   "version": "3.8.5"
  }
 },
 "nbformat": 4,
 "nbformat_minor": 4
}
