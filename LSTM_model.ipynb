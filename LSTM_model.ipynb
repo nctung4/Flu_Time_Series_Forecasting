{
 "cells": [
  {
   "cell_type": "markdown",
   "metadata": {},
   "source": [
    "In this notebook I will apply the LSTM model into the data which was prepared in R."
   ]
  },
  {
   "cell_type": "markdown",
   "metadata": {},
   "source": [
    "### 1. Importing the libraries"
   ]
  },
  {
   "cell_type": "code",
   "execution_count": 113,
   "metadata": {},
   "outputs": [],
   "source": [
    "import pandas as pd\n",
    "import datetime\n",
    "import matplotlib.pyplot as plt\n",
    "import numpy as np\n",
    "import math\n",
    "from sklearn.preprocessing import MinMaxScaler\n",
    "from sklearn.metrics import mean_squared_error\n",
    "from tensorflow.keras.models import Sequential\n",
    "from tensorflow.keras.layers import Dense, LSTM, Bidirectional, Dropout"
   ]
  },
  {
   "cell_type": "code",
   "execution_count": 2,
   "metadata": {},
   "outputs": [],
   "source": [
    "fludat_pivot = pd.read_csv('./dataset/Flu_pivot.csv')"
   ]
  },
  {
   "cell_type": "code",
   "execution_count": 3,
   "metadata": {},
   "outputs": [
    {
     "name": "stdout",
     "output_type": "stream",
     "text": [
      "<class 'pandas.core.frame.DataFrame'>\n",
      "RangeIndex: 546 entries, 0 to 545\n",
      "Data columns (total 5 columns):\n",
      " #   Column     Non-Null Count  Dtype \n",
      "---  ------     --------------  ----- \n",
      " 0   sdate      546 non-null    object\n",
      " 1   Processed  546 non-null    int64 \n",
      " 2   A_total    546 non-null    int64 \n",
      " 3   B_total    546 non-null    int64 \n",
      " 4   All_total  546 non-null    int64 \n",
      "dtypes: int64(4), object(1)\n",
      "memory usage: 21.5+ KB\n"
     ]
    }
   ],
   "source": [
    "fludat_pivot.info()"
   ]
  },
  {
   "cell_type": "code",
   "execution_count": 4,
   "metadata": {},
   "outputs": [],
   "source": [
    "fludat_pivot['sdate'] = pd.to_datetime(fludat_pivot['sdate'])"
   ]
  },
  {
   "cell_type": "code",
   "execution_count": 5,
   "metadata": {},
   "outputs": [
    {
     "data": {
      "text/html": [
       "<div>\n",
       "<style scoped>\n",
       "    .dataframe tbody tr th:only-of-type {\n",
       "        vertical-align: middle;\n",
       "    }\n",
       "\n",
       "    .dataframe tbody tr th {\n",
       "        vertical-align: top;\n",
       "    }\n",
       "\n",
       "    .dataframe thead th {\n",
       "        text-align: right;\n",
       "    }\n",
       "</style>\n",
       "<table border=\"1\" class=\"dataframe\">\n",
       "  <thead>\n",
       "    <tr style=\"text-align: right;\">\n",
       "      <th></th>\n",
       "      <th>sdate</th>\n",
       "      <th>Processed</th>\n",
       "      <th>A_total</th>\n",
       "      <th>B_total</th>\n",
       "      <th>All_total</th>\n",
       "    </tr>\n",
       "  </thead>\n",
       "  <tbody>\n",
       "    <tr>\n",
       "      <th>0</th>\n",
       "      <td>2010-01-04</td>\n",
       "      <td>9312</td>\n",
       "      <td>1999</td>\n",
       "      <td>1</td>\n",
       "      <td>2000</td>\n",
       "    </tr>\n",
       "    <tr>\n",
       "      <th>1</th>\n",
       "      <td>2010-01-11</td>\n",
       "      <td>10728</td>\n",
       "      <td>1404</td>\n",
       "      <td>15</td>\n",
       "      <td>1419</td>\n",
       "    </tr>\n",
       "    <tr>\n",
       "      <th>2</th>\n",
       "      <td>2010-01-18</td>\n",
       "      <td>9027</td>\n",
       "      <td>1135</td>\n",
       "      <td>49</td>\n",
       "      <td>1184</td>\n",
       "    </tr>\n",
       "    <tr>\n",
       "      <th>3</th>\n",
       "      <td>2010-01-25</td>\n",
       "      <td>8030</td>\n",
       "      <td>515</td>\n",
       "      <td>18</td>\n",
       "      <td>533</td>\n",
       "    </tr>\n",
       "    <tr>\n",
       "      <th>4</th>\n",
       "      <td>2010-02-01</td>\n",
       "      <td>7788</td>\n",
       "      <td>502</td>\n",
       "      <td>14</td>\n",
       "      <td>516</td>\n",
       "    </tr>\n",
       "  </tbody>\n",
       "</table>\n",
       "</div>"
      ],
      "text/plain": [
       "       sdate  Processed  A_total  B_total  All_total\n",
       "0 2010-01-04       9312     1999        1       2000\n",
       "1 2010-01-11      10728     1404       15       1419\n",
       "2 2010-01-18       9027     1135       49       1184\n",
       "3 2010-01-25       8030      515       18        533\n",
       "4 2010-02-01       7788      502       14        516"
      ]
     },
     "execution_count": 5,
     "metadata": {},
     "output_type": "execute_result"
    }
   ],
   "source": [
    "fludat_pivot.head()"
   ]
  },
  {
   "cell_type": "code",
   "execution_count": 6,
   "metadata": {},
   "outputs": [],
   "source": [
    "forecast_data = fludat_pivot.set_index(fludat_pivot['sdate'])['All_total']"
   ]
  },
  {
   "cell_type": "code",
   "execution_count": 7,
   "metadata": {},
   "outputs": [],
   "source": [
    "forecast_data.name = 'Positive_cases'"
   ]
  },
  {
   "cell_type": "code",
   "execution_count": 75,
   "metadata": {},
   "outputs": [
    {
     "data": {
      "text/plain": [
       "sdate\n",
       "2010-01-04    2000\n",
       "2010-01-11    1419\n",
       "2010-01-18    1184\n",
       "2010-01-25     533\n",
       "2010-02-01     516\n",
       "              ... \n",
       "2020-05-18       3\n",
       "2020-05-25       3\n",
       "2020-06-01       1\n",
       "2020-06-08       4\n",
       "2020-06-15       0\n",
       "Name: Positive_cases, Length: 546, dtype: int64"
      ]
     },
     "execution_count": 75,
     "metadata": {},
     "output_type": "execute_result"
    }
   ],
   "source": [
    "forecast_data"
   ]
  },
  {
   "cell_type": "code",
   "execution_count": 76,
   "metadata": {},
   "outputs": [
    {
     "data": {
      "text/plain": [
       "[<matplotlib.lines.Line2D at 0x22589539640>]"
      ]
     },
     "execution_count": 76,
     "metadata": {},
     "output_type": "execute_result"
    },
    {
     "data": {
      "image/png": "[encoded data removed]",
      "text/plain": [
       "<Figure size 432x288 with 1 Axes>"
      ]
     },
     "metadata": {
      "needs_background": "light"
     },
     "output_type": "display_data"
    }
   ],
   "source": [
    "plt.plot(forecast_data)"
   ]
  },
  {
   "cell_type": "code",
   "execution_count": 82,
   "metadata": {},
   "outputs": [
    {
     "data": {
      "text/plain": [
       "array([2000, 1419], dtype=int64)"
      ]
     },
     "execution_count": 82,
     "metadata": {},
     "output_type": "execute_result"
    }
   ],
   "source": [
    "np.array(forecast_data[:2])"
   ]
  },
  {
   "cell_type": "code",
   "execution_count": 84,
   "metadata": {},
   "outputs": [],
   "source": [
    "# Splitting the dataset into train and test 80% - 20%\n",
    "\n",
    "train_size = int(len(forecast_data)*0.8)\n",
    "test_size = len(forecast_data)-train_size\n",
    "\n",
    "training_data = np.array(forecast_data[0:train_size])\n",
    "test_data = np.array(forecast_data[train_size:len(forecast_data)])"
   ]
  },
  {
   "cell_type": "code",
   "execution_count": 86,
   "metadata": {},
   "outputs": [],
   "source": [
    " # LSTM are sensitive to the scale of the data, so we apply minmax scaler\n",
    "scaler = MinMaxScaler(feature_range=(0,1))\n",
    "\n",
    "# Scaled array\n",
    "training_data_scaled = scaler.fit_transform(training_data.reshape(-1,1))\n",
    "test_data_scaled = scaler.transform(test_data.reshape(-1,1))"
   ]
  },
  {
   "cell_type": "code",
   "execution_count": 91,
   "metadata": {},
   "outputs": [
    {
     "data": {
      "text/plain": [
       "(436, 1)"
      ]
     },
     "execution_count": 91,
     "metadata": {},
     "output_type": "execute_result"
    }
   ],
   "source": [
    "training_data_scaled.shape"
   ]
  },
  {
   "cell_type": "code",
   "execution_count": 92,
   "metadata": {},
   "outputs": [
    {
     "data": {
      "text/plain": [
       "(110, 1)"
      ]
     },
     "execution_count": 92,
     "metadata": {},
     "output_type": "execute_result"
    }
   ],
   "source": [
    "test_data_scaled.shape"
   ]
  },
  {
   "cell_type": "code",
   "execution_count": 99,
   "metadata": {},
   "outputs": [
    {
     "data": {
      "text/plain": [
       "[0.10455806164634465, 0.07415354021665184, 0.061855670103092786]"
      ]
     },
     "execution_count": 99,
     "metadata": {},
     "output_type": "execute_result"
    }
   ],
   "source": [
    "training_data_scaled[0:3,0].tolist()"
   ]
  },
  {
   "cell_type": "code",
   "execution_count": 100,
   "metadata": {},
   "outputs": [],
   "source": [
    "# Within the 'training_data' and 'test_data', we create x_train,x_test, y_train, y_test\n",
    "\n",
    "def create_data(dataset, time_step = 1):\n",
    "    data_X, data_Y = [], []\n",
    "    for i in range(len(dataset)-time_step-1):\n",
    "        a = dataset[i:(i+time_step),0]\n",
    "        data_X.append(a.tolist())\n",
    "        data_Y.append(dataset[i + time_step, 0].tolist())\n",
    "    return np.array(data_X), np.array(data_Y)"
   ]
  },
  {
   "cell_type": "code",
   "execution_count": 101,
   "metadata": {},
   "outputs": [],
   "source": [
    "# time_step hyperparameter tuning\n",
    "time_step = 3\n",
    "\n",
    "X_train, y_train = create_data(training_data_scaled, time_step)\n",
    "X_test, y_test = create_data(test_data_scaled, time_step)"
   ]
  },
  {
   "cell_type": "code",
   "execution_count": 102,
   "metadata": {},
   "outputs": [
    {
     "name": "stdout",
     "output_type": "stream",
     "text": [
      "X_train shape:  (432, 3) , y_train shape:  (432,)\n",
      "------------------------\n",
      "X_test shape:  (106, 3) , y_test shape:  (106,)\n"
     ]
    }
   ],
   "source": [
    "print('X_train shape: ',X_train.shape, ', y_train shape: ',y_train.shape)\n",
    "print('------------------------')\n",
    "print('X_test shape: ',X_test.shape, ', y_test shape: ',y_test.shape)"
   ]
  },
  {
   "cell_type": "markdown",
   "metadata": {},
   "source": [
    "### LSTM model"
   ]
  },
  {
   "cell_type": "code",
   "execution_count": 104,
   "metadata": {},
   "outputs": [],
   "source": [
    "# for LSTM we need to add an additional dimension\n",
    "X_train = X_train.reshape(X_train.shape[0], X_train.shape[1], 1)\n",
    "X_test = X_test.reshape(X_test.shape[0], X_test.shape[1], 1)"
   ]
  },
  {
   "cell_type": "code",
   "execution_count": 57,
   "metadata": {},
   "outputs": [],
   "source": [
    "# Create stack LSTM model\n",
    "model = Sequential()\n",
    "model.add(LSTM(50, return_sequences = True, input_shape = (3,1)))\n",
    "model.add(LSTM(50, return_sequences = True))\n",
    "model.add(LSTM(50))\n",
    "model.add(Dense(1))\n",
    "model.compile(loss='mean_squared_error', optimizer='adam')"
   ]
  },
  {
   "cell_type": "code",
   "execution_count": 114,
   "metadata": {},
   "outputs": [],
   "source": [
    "model = Sequential()\n",
    "model.add(Bidirectional(LSTM(units=64, input_shape=(3,1))))\n",
    "model.add(Dropout(0.2))\n",
    "model.add(Dense(1))\n",
    "model.compile(loss='mean_squared_error', optimizer='adam')"
   ]
  },
  {
   "cell_type": "code",
   "execution_count": 115,
   "metadata": {},
   "outputs": [
    {
     "ename": "ValueError",
     "evalue": "This model has not yet been built. Build the model first by calling `build()` or calling `fit()` with some data, or specify an `input_shape` argument in the first layer(s) for automatic build.",
     "output_type": "error",
     "traceback": [
      "\u001b[1;31m---------------------------------------------------------------------------\u001b[0m",
      "\u001b[1;31mValueError\u001b[0m                                Traceback (most recent call last)",
      "\u001b[1;32m<ipython-input-115-5f15418b3570>\u001b[0m in \u001b[0;36m<module>\u001b[1;34m\u001b[0m\n\u001b[1;32m----> 1\u001b[1;33m \u001b[0mmodel\u001b[0m\u001b[1;33m.\u001b[0m\u001b[0msummary\u001b[0m\u001b[1;33m(\u001b[0m\u001b[1;33m)\u001b[0m\u001b[1;33m\u001b[0m\u001b[1;33m\u001b[0m\u001b[0m\n\u001b[0m",
      "\u001b[1;32m~\\anaconda3\\lib\\site-packages\\tensorflow\\python\\keras\\engine\\training.py\u001b[0m in \u001b[0;36msummary\u001b[1;34m(self, line_length, positions, print_fn)\u001b[0m\n\u001b[0;32m   2374\u001b[0m     \"\"\"\n\u001b[0;32m   2375\u001b[0m     \u001b[1;32mif\u001b[0m \u001b[1;32mnot\u001b[0m \u001b[0mself\u001b[0m\u001b[1;33m.\u001b[0m\u001b[0mbuilt\u001b[0m\u001b[1;33m:\u001b[0m\u001b[1;33m\u001b[0m\u001b[1;33m\u001b[0m\u001b[0m\n\u001b[1;32m-> 2376\u001b[1;33m       raise ValueError('This model has not yet been built. '\n\u001b[0m\u001b[0;32m   2377\u001b[0m                        \u001b[1;34m'Build the model first by calling `build()` or calling '\u001b[0m\u001b[1;33m\u001b[0m\u001b[1;33m\u001b[0m\u001b[0m\n\u001b[0;32m   2378\u001b[0m                        \u001b[1;34m'`fit()` with some data, or specify '\u001b[0m\u001b[1;33m\u001b[0m\u001b[1;33m\u001b[0m\u001b[0m\n",
      "\u001b[1;31mValueError\u001b[0m: This model has not yet been built. Build the model first by calling `build()` or calling `fit()` with some data, or specify an `input_shape` argument in the first layer(s) for automatic build."
     ]
    }
   ],
   "source": [
    "model.summary()"
   ]
  },
  {
   "cell_type": "code",
   "execution_count": 118,
   "metadata": {},
   "outputs": [
    {
     "name": "stdout",
     "output_type": "stream",
     "text": [
      "Epoch 1/40\n",
      "324/324 [==============================] - 1s 2ms/step - loss: 0.0012 - val_loss: 0.0105\n",
      "Epoch 2/40\n",
      "324/324 [==============================] - 1s 2ms/step - loss: 0.0018 - val_loss: 0.0060\n",
      "Epoch 3/40\n",
      "324/324 [==============================] - 1s 2ms/step - loss: 0.0014 - val_loss: 0.0019\n",
      "Epoch 4/40\n",
      "324/324 [==============================] - 1s 2ms/step - loss: 9.1556e-04 - val_loss: 0.0025\n",
      "Epoch 5/40\n",
      "324/324 [==============================] - 1s 2ms/step - loss: 0.0011 - val_loss: 0.0022\n",
      "Epoch 6/40\n",
      "324/324 [==============================] - 1s 2ms/step - loss: 9.2994e-04 - val_loss: 0.0031\n",
      "Epoch 7/40\n",
      "324/324 [==============================] - 1s 2ms/step - loss: 7.6136e-04 - val_loss: 0.0022\n",
      "Epoch 8/40\n",
      "324/324 [==============================] - 1s 2ms/step - loss: 9.0793e-04 - val_loss: 0.0018\n",
      "Epoch 9/40\n",
      "324/324 [==============================] - 1s 2ms/step - loss: 8.7944e-04 - val_loss: 0.0028\n",
      "Epoch 10/40\n",
      "324/324 [==============================] - 1s 3ms/step - loss: 9.3365e-04 - val_loss: 0.0024\n",
      "Epoch 11/40\n",
      "324/324 [==============================] - 1s 2ms/step - loss: 0.0011 - val_loss: 0.0022\n",
      "Epoch 12/40\n",
      "324/324 [==============================] - 1s 2ms/step - loss: 7.1476e-04 - val_loss: 0.0022\n",
      "Epoch 13/40\n",
      "324/324 [==============================] - 1s 2ms/step - loss: 8.5736e-04 - val_loss: 0.0027\n",
      "Epoch 14/40\n",
      "324/324 [==============================] - 1s 2ms/step - loss: 9.0527e-04 - val_loss: 0.0029\n",
      "Epoch 15/40\n",
      "324/324 [==============================] - 1s 3ms/step - loss: 9.7209e-04 - val_loss: 0.0027\n",
      "Epoch 16/40\n",
      "324/324 [==============================] - 1s 3ms/step - loss: 0.0011 - val_loss: 0.0031\n",
      "Epoch 17/40\n",
      "324/324 [==============================] - 1s 3ms/step - loss: 7.6384e-04 - val_loss: 0.0016\n",
      "Epoch 18/40\n",
      "324/324 [==============================] - 1s 3ms/step - loss: 9.3436e-04 - val_loss: 0.0017- ETA: 0s - loss: 8.2163\n",
      "Epoch 19/40\n",
      "324/324 [==============================] - 1s 3ms/step - loss: 0.0013 - val_loss: 0.0023TA: 0s - loss: 0.\n",
      "Epoch 20/40\n",
      "324/324 [==============================] - 1s 3ms/step - loss: 9.6371e-04 - val_loss: 0.0024\n",
      "Epoch 21/40\n",
      "324/324 [==============================] - 1s 2ms/step - loss: 8.7364e-04 - val_loss: 0.0022\n",
      "Epoch 22/40\n",
      "324/324 [==============================] - 1s 3ms/step - loss: 8.2911e-04 - val_loss: 0.00220e-0 - ETA: 0s - loss: 6.4612e\n",
      "Epoch 23/40\n",
      "324/324 [==============================] - 1s 3ms/step - loss: 9.9850e-04 - val_loss: 0.0051\n",
      "Epoch 24/40\n",
      "324/324 [==============================] - 1s 3ms/step - loss: 0.0011 - val_loss: 0.0019\n",
      "Epoch 25/40\n",
      "324/324 [==============================] - 1s 2ms/step - loss: 0.0012 - val_loss: 0.0023\n",
      "Epoch 26/40\n",
      "324/324 [==============================] - 1s 3ms/step - loss: 0.0017 - val_loss: 0.0026\n",
      "Epoch 27/40\n",
      "324/324 [==============================] - 1s 3ms/step - loss: 8.1092e-04 - val_loss: 0.0020\n",
      "Epoch 28/40\n",
      "324/324 [==============================] - 1s 3ms/step - loss: 9.9556e-04 - val_loss: 0.0020\n",
      "Epoch 29/40\n",
      "324/324 [==============================] - 1s 3ms/step - loss: 0.0012 - val_loss: 0.0016\n",
      "Epoch 30/40\n",
      "324/324 [==============================] - 1s 3ms/step - loss: 0.0015 - val_loss: 0.0022\n",
      "Epoch 31/40\n",
      "324/324 [==============================] - 1s 3ms/step - loss: 7.2626e-04 - val_loss: 0.0020\n",
      "Epoch 32/40\n",
      "324/324 [==============================] - 1s 3ms/step - loss: 7.7519e-04 - val_loss: 0.0017\n",
      "Epoch 33/40\n",
      "324/324 [==============================] - 1s 3ms/step - loss: 0.0010 - val_loss: 0.0017\n",
      "Epoch 34/40\n",
      "324/324 [==============================] - 1s 3ms/step - loss: 8.4662e-04 - val_loss: 0.0019\n",
      "Epoch 35/40\n",
      "324/324 [==============================] - 1s 3ms/step - loss: 7.8218e-04 - val_loss: 0.0031\n",
      "Epoch 36/40\n",
      "324/324 [==============================] - 1s 3ms/step - loss: 8.5629e-04 - val_loss: 0.0015\n",
      "Epoch 37/40\n",
      "324/324 [==============================] - 1s 3ms/step - loss: 9.1540e-04 - val_loss: 0.0025\n",
      "Epoch 38/40\n",
      "324/324 [==============================] - 1s 3ms/step - loss: 7.9435e-04 - val_loss: 0.0024\n",
      "Epoch 39/40\n",
      "324/324 [==============================] - 1s 3ms/step - loss: 9.6527e-04 - val_loss: 0.0016\n",
      "Epoch 40/40\n",
      "324/324 [==============================] - 1s 3ms/step - loss: 7.6096e-04 - val_loss: 0.0017\n"
     ]
    }
   ],
   "source": [
    "EPOCHS = 40\n",
    "H = model.fit(X_train,y_train, epochs = EPOCHS, batch_size = 1, validation_split=0.25, shuffle=False, verbose = 1)"
   ]
  },
  {
   "cell_type": "code",
   "execution_count": 119,
   "metadata": {},
   "outputs": [
    {
     "data": {
      "image/png": "[encoded data removed]",
      "text/plain": [
       "<Figure size 432x288 with 1 Axes>"
      ]
     },
     "metadata": {
      "needs_background": "light"
     },
     "output_type": "display_data"
    }
   ],
   "source": [
    "N = EPOCHS\n",
    "\n",
    "plt.plot(np.arange(0, N), H.history['loss'], label='train_loss')\n",
    "plt.plot(np.arange(0, N), H.history['val_loss'], label='val_loss')\n",
    "plt.title('Training - Loss')\n",
    "plt.xlabel('Epochs')\n",
    "plt.ylabel('Loss')\n",
    "plt.legend(loc='lower left')\n",
    "plt.savefig(\"./plot/LSTM_model_training_plot.png\")"
   ]
  },
  {
   "cell_type": "code",
   "execution_count": 121,
   "metadata": {},
   "outputs": [],
   "source": [
    "# Prediction\n",
    "y_pred = model.predict(X_test)"
   ]
  },
  {
   "cell_type": "code",
   "execution_count": 122,
   "metadata": {},
   "outputs": [],
   "source": [
    "y_pred_realval = scaler.inverse_transform(y_pred)"
   ]
  },
  {
   "cell_type": "code",
   "execution_count": 129,
   "metadata": {},
   "outputs": [
    {
     "name": "stdout",
     "output_type": "stream",
     "text": [
      "Scaled RMSE:  0.05547289815985165\n",
      "Inverse scaled RMSE:  1062.0316109366051\n"
     ]
    }
   ],
   "source": [
    "lstm_rmse = math.sqrt(mean_squared_error(y_test, y_pred))\n",
    "print('Scaled RMSE: ',lstm_rmse)\n",
    "print('Inverse scaled RMSE: ', scaler.inverse_transform(np.array(lstm_rmse).reshape(1,-1))[0][0])"
   ]
  },
  {
   "cell_type": "code",
   "execution_count": 124,
   "metadata": {},
   "outputs": [
    {
     "data": {
      "image/png": "[encoded data removed]",
      "text/plain": [
       "<Figure size 432x288 with 1 Axes>"
      ]
     },
     "metadata": {
      "needs_background": "light"
     },
     "output_type": "display_data"
    }
   ],
   "source": [
    "# plotting\n",
    "look_back = 3\n",
    "test_predict = np.empty_like(forecast_data_scaled)\n",
    "test_predict[:,:] = np.nan\n",
    "test_predict[len(X_train) + (look_back*2)+1 : len(forecast_data_scaled)-1, :] = y_pred_realval\n",
    "plt.plot(scaler.inverse_transform(forecast_data_scaled))\n",
    "plt.plot(test_predict)\n",
    "plt.show()"
   ]
  },
  {
   "cell_type": "markdown",
   "metadata": {},
   "source": [
    "This is a good model, not over and underfitted."
   ]
  },
  {
   "cell_type": "markdown",
   "metadata": {},
   "source": [
    "### Predicting for 2 years (104 weeks)"
   ]
  },
  {
   "cell_type": "code",
   "execution_count": 130,
   "metadata": {},
   "outputs": [
    {
     "data": {
      "text/plain": [
       "110"
      ]
     },
     "execution_count": 130,
     "metadata": {},
     "output_type": "execute_result"
    }
   ],
   "source": [
    "len(test_data)"
   ]
  },
  {
   "cell_type": "code",
   "execution_count": 261,
   "metadata": {},
   "outputs": [
    {
     "name": "stdout",
     "output_type": "stream",
     "text": [
      "[[-5.23313622e-05  1.04662724e-04 -1.04662724e-04]]\n",
      "---\n",
      "[[-5.23313622e-05]\n",
      " [ 1.04662724e-04]\n",
      " [-1.04662724e-04]]\n",
      "---\n",
      "[[ 0.00010466]\n",
      " [-0.00010466]\n",
      " [ 0.02790079]]\n"
     ]
    }
   ],
   "source": [
    "x_input = test_data_scaled[len(test_data_scaled)-3:].reshape(1,-1)\n",
    "prediction_arr = x_input.reshape(3,1)\n",
    "temp_arr = np.vstack((x_input[:,1:].reshape(2,1),asd))\n",
    "print(x_input)\n",
    "print('---')\n",
    "print(prediction_arr)\n",
    "print('---')\n",
    "print(temp_arr)"
   ]
  },
  {
   "cell_type": "code",
   "execution_count": 262,
   "metadata": {},
   "outputs": [
    {
     "name": "stdout",
     "output_type": "stream",
     "text": [
      "[[[-5.23313622e-05]\n",
      "  [ 1.04662724e-04]\n",
      "  [-1.04662724e-04]]\n",
      "\n",
      " [[ 1.04662724e-04]\n",
      "  [-1.04662724e-04]\n",
      "  [ 2.79007852e-02]]]\n"
     ]
    }
   ],
   "source": [
    "prediction_arr = np.stack((prediction_arr,temp_arr))\n",
    "print(prediction_arr)"
   ]
  },
  {
   "cell_type": "code",
   "execution_count": 275,
   "metadata": {},
   "outputs": [
    {
     "data": {
      "text/plain": [
       "array([[ 0.00010466],\n",
       "       [-0.00010466],\n",
       "       [ 0.02790079]])"
      ]
     },
     "execution_count": 275,
     "metadata": {},
     "output_type": "execute_result"
    }
   ],
   "source": [
    "temp_arr"
   ]
  },
  {
   "cell_type": "code",
   "execution_count": 280,
   "metadata": {},
   "outputs": [
    {
     "data": {
      "text/plain": [
       "array([[[-5.23313622e-05],\n",
       "        [ 1.04662724e-04],\n",
       "        [-1.04662724e-04]],\n",
       "\n",
       "       [[ 1.04662724e-04],\n",
       "        [-1.04662724e-04],\n",
       "        [ 2.79007852e-02]],\n",
       "\n",
       "       [[ 1.04662724e-04],\n",
       "        [-1.04662724e-04],\n",
       "        [ 2.79007852e-02]]])"
      ]
     },
     "execution_count": 280,
     "metadata": {},
     "output_type": "execute_result"
    }
   ],
   "source": [
    "np.append(prediction_arr,temp_arr.reshape(1,3,1), axis=0)"
   ]
  },
  {
   "cell_type": "code",
   "execution_count": 286,
   "metadata": {},
   "outputs": [
    {
     "name": "stdout",
     "output_type": "stream",
     "text": [
      "[0.027900785207748413, 0.07653191685676575, 0.1605224460363388, 0.28428930044174194, 0.4513952136039734, 0.642491340637207, 0.8066637516021729, 0.8811414241790771, 0.8516197204589844, 0.7687242031097412, 0.6840196847915649, 0.6132614016532898, 0.5569127202033997, 0.5144193172454834, 0.48529312014579773, 0.46891558170318604, 0.464417427778244, 0.4704916179180145, 0.4851933419704437, 0.5058092474937439, 0.5289332866668701, 0.5508654713630676, 0.5683110356330872, 0.5791311264038086, 0.582770824432373, 0.5801410675048828, 0.573068380355835, 0.5636483430862427, 0.5537712574005127, 0.544890284538269, 0.5379645824432373, 0.5334901809692383, 0.5315632820129395, 0.5319534540176392, 0.5341842770576477, 0.5376229882240295, 0.5415788888931274, 0.5454028844833374, 0.5485745668411255, 0.5507605075836182, 0.5518345832824707, 0.5518596172332764, 0.5510402917861938, 0.5496621131896973, 0.5480314493179321, 0.5464268922805786, 0.545066237449646, 0.544089674949646, 0.5435570478439331, 0.5434557795524597, 0.5437166690826416, 0.5442339181900024]\n",
      "---------------------------------\n",
      "[[[-5.23313622e-05]\n",
      "  [ 1.04662724e-04]\n",
      "  [-1.04662724e-04]]\n",
      "\n",
      " [[ 1.04662724e-04]\n",
      "  [-1.04662724e-04]\n",
      "  [ 2.79007852e-02]]\n",
      "\n",
      " [[-1.04662724e-04]\n",
      "  [ 2.79007852e-02]\n",
      "  [ 7.65319169e-02]]\n",
      "\n",
      " [[ 2.79007852e-02]\n",
      "  [ 7.65319169e-02]\n",
      "  [ 1.60522446e-01]]\n",
      "\n",
      " [[ 7.65319169e-02]\n",
      "  [ 1.60522446e-01]\n",
      "  [ 2.84289300e-01]]\n",
      "\n",
      " [[ 1.60522446e-01]\n",
      "  [ 2.84289300e-01]\n",
      "  [ 4.51395214e-01]]\n",
      "\n",
      " [[ 2.84289300e-01]\n",
      "  [ 4.51395214e-01]\n",
      "  [ 6.42491341e-01]]\n",
      "\n",
      " [[ 4.51395214e-01]\n",
      "  [ 6.42491341e-01]\n",
      "  [ 8.06663752e-01]]\n",
      "\n",
      " [[ 6.42491341e-01]\n",
      "  [ 8.06663752e-01]\n",
      "  [ 8.81141424e-01]]\n",
      "\n",
      " [[ 8.06663752e-01]\n",
      "  [ 8.81141424e-01]\n",
      "  [ 8.51619720e-01]]\n",
      "\n",
      " [[ 8.81141424e-01]\n",
      "  [ 8.51619720e-01]\n",
      "  [ 7.68724203e-01]]\n",
      "\n",
      " [[ 8.51619720e-01]\n",
      "  [ 7.68724203e-01]\n",
      "  [ 6.84019685e-01]]\n",
      "\n",
      " [[ 7.68724203e-01]\n",
      "  [ 6.84019685e-01]\n",
      "  [ 6.13261402e-01]]\n",
      "\n",
      " [[ 6.84019685e-01]\n",
      "  [ 6.13261402e-01]\n",
      "  [ 5.56912720e-01]]\n",
      "\n",
      " [[ 6.13261402e-01]\n",
      "  [ 5.56912720e-01]\n",
      "  [ 5.14419317e-01]]\n",
      "\n",
      " [[ 5.56912720e-01]\n",
      "  [ 5.14419317e-01]\n",
      "  [ 4.85293120e-01]]\n",
      "\n",
      " [[ 5.14419317e-01]\n",
      "  [ 4.85293120e-01]\n",
      "  [ 4.68915582e-01]]\n",
      "\n",
      " [[ 4.85293120e-01]\n",
      "  [ 4.68915582e-01]\n",
      "  [ 4.64417428e-01]]\n",
      "\n",
      " [[ 4.68915582e-01]\n",
      "  [ 4.64417428e-01]\n",
      "  [ 4.70491618e-01]]\n",
      "\n",
      " [[ 4.64417428e-01]\n",
      "  [ 4.70491618e-01]\n",
      "  [ 4.85193342e-01]]\n",
      "\n",
      " [[ 4.70491618e-01]\n",
      "  [ 4.85193342e-01]\n",
      "  [ 5.05809247e-01]]\n",
      "\n",
      " [[ 4.85193342e-01]\n",
      "  [ 5.05809247e-01]\n",
      "  [ 5.28933287e-01]]\n",
      "\n",
      " [[ 5.05809247e-01]\n",
      "  [ 5.28933287e-01]\n",
      "  [ 5.50865471e-01]]\n",
      "\n",
      " [[ 5.28933287e-01]\n",
      "  [ 5.50865471e-01]\n",
      "  [ 5.68311036e-01]]\n",
      "\n",
      " [[ 5.50865471e-01]\n",
      "  [ 5.68311036e-01]\n",
      "  [ 5.79131126e-01]]\n",
      "\n",
      " [[ 5.68311036e-01]\n",
      "  [ 5.79131126e-01]\n",
      "  [ 5.82770824e-01]]\n",
      "\n",
      " [[ 5.79131126e-01]\n",
      "  [ 5.82770824e-01]\n",
      "  [ 5.80141068e-01]]\n",
      "\n",
      " [[ 5.82770824e-01]\n",
      "  [ 5.80141068e-01]\n",
      "  [ 5.73068380e-01]]\n",
      "\n",
      " [[ 5.80141068e-01]\n",
      "  [ 5.73068380e-01]\n",
      "  [ 5.63648343e-01]]\n",
      "\n",
      " [[ 5.73068380e-01]\n",
      "  [ 5.63648343e-01]\n",
      "  [ 5.53771257e-01]]\n",
      "\n",
      " [[ 5.63648343e-01]\n",
      "  [ 5.53771257e-01]\n",
      "  [ 5.44890285e-01]]\n",
      "\n",
      " [[ 5.53771257e-01]\n",
      "  [ 5.44890285e-01]\n",
      "  [ 5.37964582e-01]]\n",
      "\n",
      " [[ 5.44890285e-01]\n",
      "  [ 5.37964582e-01]\n",
      "  [ 5.33490181e-01]]\n",
      "\n",
      " [[ 5.37964582e-01]\n",
      "  [ 5.33490181e-01]\n",
      "  [ 5.31563282e-01]]\n",
      "\n",
      " [[ 5.33490181e-01]\n",
      "  [ 5.31563282e-01]\n",
      "  [ 5.31953454e-01]]\n",
      "\n",
      " [[ 5.31563282e-01]\n",
      "  [ 5.31953454e-01]\n",
      "  [ 5.34184277e-01]]\n",
      "\n",
      " [[ 5.31953454e-01]\n",
      "  [ 5.34184277e-01]\n",
      "  [ 5.37622988e-01]]\n",
      "\n",
      " [[ 5.34184277e-01]\n",
      "  [ 5.37622988e-01]\n",
      "  [ 5.41578889e-01]]\n",
      "\n",
      " [[ 5.37622988e-01]\n",
      "  [ 5.41578889e-01]\n",
      "  [ 5.45402884e-01]]\n",
      "\n",
      " [[ 5.41578889e-01]\n",
      "  [ 5.45402884e-01]\n",
      "  [ 5.48574567e-01]]\n",
      "\n",
      " [[ 5.45402884e-01]\n",
      "  [ 5.48574567e-01]\n",
      "  [ 5.50760508e-01]]\n",
      "\n",
      " [[ 5.48574567e-01]\n",
      "  [ 5.50760508e-01]\n",
      "  [ 5.51834583e-01]]\n",
      "\n",
      " [[ 5.50760508e-01]\n",
      "  [ 5.51834583e-01]\n",
      "  [ 5.51859617e-01]]\n",
      "\n",
      " [[ 5.51834583e-01]\n",
      "  [ 5.51859617e-01]\n",
      "  [ 5.51040292e-01]]\n",
      "\n",
      " [[ 5.51859617e-01]\n",
      "  [ 5.51040292e-01]\n",
      "  [ 5.49662113e-01]]\n",
      "\n",
      " [[ 5.51040292e-01]\n",
      "  [ 5.49662113e-01]\n",
      "  [ 5.48031449e-01]]\n",
      "\n",
      " [[ 5.49662113e-01]\n",
      "  [ 5.48031449e-01]\n",
      "  [ 5.46426892e-01]]\n",
      "\n",
      " [[ 5.48031449e-01]\n",
      "  [ 5.46426892e-01]\n",
      "  [ 5.45066237e-01]]\n",
      "\n",
      " [[ 5.46426892e-01]\n",
      "  [ 5.45066237e-01]\n",
      "  [ 5.44089675e-01]]\n",
      "\n",
      " [[ 5.45066237e-01]\n",
      "  [ 5.44089675e-01]\n",
      "  [ 5.43557048e-01]]\n",
      "\n",
      " [[ 5.44089675e-01]\n",
      "  [ 5.43557048e-01]\n",
      "  [ 5.43455780e-01]]\n",
      "\n",
      " [[ 5.43557048e-01]\n",
      "  [ 5.43455780e-01]\n",
      "  [ 5.43716669e-01]]\n",
      "\n",
      " [[ 5.43455780e-01]\n",
      "  [ 5.43716669e-01]\n",
      "  [ 5.44233918e-01]]]\n"
     ]
    }
   ],
   "source": [
    "# We need the last 5 value from the test data to start the prediction\n",
    "x_input = test_data_scaled[len(test_data_scaled)-3:].reshape(1,-1)\n",
    "\n",
    "# x_input to list\n",
    "temp_input = list(x_input)\n",
    "temp_input = temp_input[0].tolist()\n",
    "\n",
    "# prediction_array\n",
    "prediction_arr = x_input.reshape(3,1)\n",
    "\n",
    "# find next 104 value\n",
    "output = []\n",
    "time_step = 3\n",
    "i = 0\n",
    "\n",
    "while(i<52):\n",
    "    if(len(temp_input)>3):\n",
    "        # last 5 element after the first loop\n",
    "        x_input = np.array(temp_input[1:])\n",
    "        #reshaping\n",
    "        x_input = x_input.reshape(1,-1)\n",
    "        x_input = x_input.reshape(1, time_step, 1)\n",
    "        # predict\n",
    "        y_hat = model.predict(x_input, verbose = 0)\n",
    "        \n",
    "        # add to final pred arr\n",
    "        temp_arr = np.vstack((x_input[:,1:].reshape(2,1),y_hat))\n",
    "        prediction_arr = np.append(prediction_arr,temp_arr.reshape(1,3,1), axis=0)\n",
    "        \n",
    "        # adding to the temp list\n",
    "        temp_input.append(y_hat[0][0].tolist())\n",
    "        # change temp list to the last 5 value\n",
    "        temp_input = temp_input[1:]\n",
    "        # add prediction to output\n",
    "        output.append(y_hat[0][0].tolist())\n",
    "        i = i+1\n",
    "    \n",
    "    else:\n",
    "        # last 5 value reshape and predict\n",
    "        x_input = x_input.reshape(1, time_step, 1)\n",
    "        y_hat = model.predict(x_input, verbose = 0)\n",
    "        \n",
    "        # add to final prediction arr\n",
    "        temp_arr = np.vstack((x_input[:,1:].reshape(2,1),y_hat))\n",
    "        prediction_arr = np.stack((prediction_arr,temp_arr))\n",
    "        \n",
    "        # adding the value to temp input list\n",
    "        temp_input.append(y_hat[0][0].tolist())\n",
    "        # adding the value to output list\n",
    "        output.append(y_hat[0][0].tolist())\n",
    "        i = i+1\n",
    "\n",
    "prediction_arr = prediction_arr.reshape(prediction_arr.shape[0],prediction_arr.shape[1],1)\n",
    "print(output)\n",
    "print('---------------------------------')\n",
    "print(prediction_arr)"
   ]
  },
  {
   "cell_type": "code",
   "execution_count": 290,
   "metadata": {},
   "outputs": [],
   "source": [
    "y_pred_2yrs = model.predict(prediction_arr)\n",
    "y_pred_2yrs = scaler.inverse_transform(y_pred_2yrs.reshape(1,-1))"
   ]
  },
  {
   "cell_type": "code",
   "execution_count": 144,
   "metadata": {},
   "outputs": [
    {
     "data": {
      "text/plain": [
       "546"
      ]
     },
     "execution_count": 144,
     "metadata": {},
     "output_type": "execute_result"
    }
   ],
   "source": [
    "len(forecast_data)"
   ]
  },
  {
   "cell_type": "code",
   "execution_count": 298,
   "metadata": {},
   "outputs": [
    {
     "data": {
      "text/plain": [
       "(53,)"
      ]
     },
     "execution_count": 298,
     "metadata": {},
     "output_type": "execute_result"
    }
   ],
   "source": [
    "y_pred_2yrs[0].shape"
   ]
  },
  {
   "cell_type": "code",
   "execution_count": 301,
   "metadata": {},
   "outputs": [
    {
     "data": {
      "text/plain": [
       "array([[  535.1567,  1464.4484,  3069.4236,  5434.4844,  8627.711 ,\n",
       "        12279.367 , 15416.538 , 16839.732 , 16275.602 , 14691.551 ,\n",
       "        13072.935 , 11720.8125, 10644.046 ,  9832.038 ,  9275.466 ,\n",
       "         8962.509 ,  8876.553 ,  8992.624 ,  9273.56  ,  9667.508 ,\n",
       "        10109.387 , 10528.488 , 10861.856 , 11068.617 , 11138.168 ,\n",
       "        11087.916 , 10952.766 , 10772.756 , 10584.015 , 10414.309 ,\n",
       "        10281.965 , 10196.464 , 10159.642 , 10167.099 , 10209.727 ,\n",
       "        10275.437 , 10351.028 , 10424.104 , 10484.712 , 10526.482 ,\n",
       "        10547.007 , 10547.486 , 10531.829 , 10505.493 , 10474.333 ,\n",
       "        10443.672 , 10417.671 , 10399.01  , 10388.832 , 10386.8955,\n",
       "        10391.882 , 10401.766 , 10414.232 ]], dtype=float32)"
      ]
     },
     "execution_count": 301,
     "metadata": {},
     "output_type": "execute_result"
    }
   ],
   "source": [
    "y_pred_2yrs"
   ]
  },
  {
   "cell_type": "code",
   "execution_count": 300,
   "metadata": {},
   "outputs": [
    {
     "data": {
      "text/plain": [
       "[<matplotlib.lines.Line2D at 0x225880bf220>]"
      ]
     },
     "execution_count": 300,
     "metadata": {},
     "output_type": "execute_result"
    },
    {
     "data": {
      "image/png": "[encoded data removed]",
      "text/plain": [
       "<Figure size 432x288 with 1 Axes>"
      ]
     },
     "metadata": {
      "needs_background": "light"
     },
     "output_type": "display_data"
    }
   ],
   "source": [
    "plt.plot(np.arange(0,546),forecast_data)\n",
    "plt.plot(np.arange(546,546+53),y_pred_2yrs[0])"
   ]
  },
  {
   "cell_type": "code",
   "execution_count": null,
   "metadata": {},
   "outputs": [],
   "source": []
  }
 ],
 "metadata": {
  "kernelspec": {
   "display_name": "Python 3",
   "language": "python",
   "name": "python3"
  },
  "language_info": {
   "codemirror_mode": {
    "name": "ipython",
    "version": 3
   },
   "file_extension": ".py",
   "mimetype": "text/x-python",
   "name": "python",
   "nbconvert_exporter": "python",
   "pygments_lexer": "ipython3",
   "version": "3.8.5"
  }
 },
 "nbformat": 4,
 "nbformat_minor": 4
}
