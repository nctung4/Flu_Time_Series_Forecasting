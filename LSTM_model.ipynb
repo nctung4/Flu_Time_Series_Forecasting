{
 "cells": [
  {
   "cell_type": "markdown",
   "metadata": {},
   "source": [
    "# Flu Time Series Forecast - LSTM model\n",
    "_Cong Tung Nguyen (June 2021)_ \n",
    "<br>\n",
    "----"
   ]
  },
  {
   "cell_type": "markdown",
   "metadata": {},
   "source": [
    "In this notebook I will apply on of the mostly used deep learning model for time series analysis, which is the LSTM model. I will use the data which was prepared in the R file."
   ]
  },
  {
   "cell_type": "markdown",
   "metadata": {},
   "source": [
    "### LSTM intuition:"
   ]
  },
  {
   "cell_type": "markdown",
   "metadata": {},
   "source": [
    "Traditional neural networks do not have the ability, to use the information in the past, or we can also say that they do not have a memory cell, which helps the model to decide what is going to happen in the future.\n",
    "\n",
    "The solution for this issue is the RNN (Recurrent Neural Network). They are networks with loops in them, allowing information to persist. A recurrent neural network can be thought of as multiple copies of the same network, each passing a message to a successor.\n",
    "\n",
    "**Vanishing Gradient Problem:** \n",
    "\n",
    "In ANN the Gradient Descent algorithm finds the global minimum of the cost function for the network setup. Basically, the information travels through the neural network from input neurons to the output neurons, while the error is calculated and propagated back through the network to update the weights.\n",
    "\n",
    "In RNN all the neurons far back in time contributed in calculating the output. So in the backpropagation process, we have to go all the way back in time into these neurons. During the backprop, we need to pass the derivative from back to front, which involves multiplying a number less than 1 for many times. In RNN the network can be really deep, because we have to go all the way back in each time, therefore at some point the gradient will become extremely small  (almost zero), and eventually the neurons will stop learning. \n",
    "\n",
    "The RNN unfortunately is not capable of learning long term dependencies in practice. The LSTM networks are the solution for this issue.\n",
    "\n",
    "**Long Short Term Memory (LSTM):**\n",
    "\n",
    "The LSTM is a special kind of RNN, which is capable of handling long term dependencies. The standtard RNN has a very simple structure, for instance a single tanh layer. LSTM also a chain like structure like RNN, but it has 4 layers instead of one single layer. There are 4 parts of the LSTM network. \n",
    "\n",
    "It has a **memory cell**, which runs straight down the entire chain, with only some minor linear interactions. The **forget gate layer's** task is to decide what information we are going to throw away from the memory cell. The **input gate layer** decides what new information we are going to store in the memory cell. The last part is the **output gate layer**, which generates the output. This output will be based on our memory cell's state, but will be a filtered version.\n",
    "\n",
    "So the most important thing is that the LSTM does have the ability to remove or add information into the memory cell, carefully regulated by structures called gates. \n",
    "\n",
    "**LSTM network:**\n",
    "\n",
    "<img src=\"plot/LSTM2.png\" style=\"width: 50em;\">"
   ]
  },
  {
   "cell_type": "markdown",
   "metadata": {},
   "source": [
    "### 1. Importing the libraries:"
   ]
  },
  {
   "cell_type": "code",
   "execution_count": 1,
   "metadata": {},
   "outputs": [],
   "source": [
    "import pandas as pd\n",
    "import datetime\n",
    "import matplotlib.pyplot as plt\n",
    "import numpy as np\n",
    "import math\n",
    "import datetime\n",
    "import dataframe_image as dfi\n",
    "from sklearn.preprocessing import MinMaxScaler\n",
    "from sklearn.metrics import mean_squared_error, mean_absolute_error\n",
    "from tensorflow.keras.models import Sequential\n",
    "from tensorflow.keras.layers import Dense, LSTM, Bidirectional, Dropout"
   ]
  },
  {
   "cell_type": "markdown",
   "metadata": {},
   "source": [
    "### 2. Importing the dataset:"
   ]
  },
  {
   "cell_type": "code",
   "execution_count": 2,
   "metadata": {},
   "outputs": [],
   "source": [
    "fludat_pivot = pd.read_csv('./dataset/Flu_pivot.csv')"
   ]
  },
  {
   "cell_type": "code",
   "execution_count": 3,
   "metadata": {},
   "outputs": [
    {
     "name": "stdout",
     "output_type": "stream",
     "text": [
      "<class 'pandas.core.frame.DataFrame'>\n",
      "RangeIndex: 546 entries, 0 to 545\n",
      "Data columns (total 5 columns):\n",
      " #   Column     Non-Null Count  Dtype \n",
      "---  ------     --------------  ----- \n",
      " 0   sdate      546 non-null    object\n",
      " 1   Processed  546 non-null    int64 \n",
      " 2   A_total    546 non-null    int64 \n",
      " 3   B_total    546 non-null    int64 \n",
      " 4   All_total  546 non-null    int64 \n",
      "dtypes: int64(4), object(1)\n",
      "memory usage: 21.5+ KB\n"
     ]
    }
   ],
   "source": [
    "fludat_pivot.info()"
   ]
  },
  {
   "cell_type": "code",
   "execution_count": 4,
   "metadata": {},
   "outputs": [],
   "source": [
    "# Parsing to datetime\n",
    "fludat_pivot['sdate'] = pd.to_datetime(fludat_pivot['sdate'])"
   ]
  },
  {
   "cell_type": "markdown",
   "metadata": {},
   "source": [
    "### 3. Data understanding:"
   ]
  },
  {
   "cell_type": "code",
   "execution_count": 5,
   "metadata": {},
   "outputs": [
    {
     "data": {
      "text/html": [
       "<div>\n",
       "<style scoped>\n",
       "    .dataframe tbody tr th:only-of-type {\n",
       "        vertical-align: middle;\n",
       "    }\n",
       "\n",
       "    .dataframe tbody tr th {\n",
       "        vertical-align: top;\n",
       "    }\n",
       "\n",
       "    .dataframe thead th {\n",
       "        text-align: right;\n",
       "    }\n",
       "</style>\n",
       "<table border=\"1\" class=\"dataframe\">\n",
       "  <thead>\n",
       "    <tr style=\"text-align: right;\">\n",
       "      <th></th>\n",
       "      <th>sdate</th>\n",
       "      <th>Processed</th>\n",
       "      <th>A_total</th>\n",
       "      <th>B_total</th>\n",
       "      <th>All_total</th>\n",
       "    </tr>\n",
       "  </thead>\n",
       "  <tbody>\n",
       "    <tr>\n",
       "      <th>0</th>\n",
       "      <td>2010-01-04</td>\n",
       "      <td>9312</td>\n",
       "      <td>1999</td>\n",
       "      <td>1</td>\n",
       "      <td>2000</td>\n",
       "    </tr>\n",
       "    <tr>\n",
       "      <th>1</th>\n",
       "      <td>2010-01-11</td>\n",
       "      <td>10728</td>\n",
       "      <td>1404</td>\n",
       "      <td>15</td>\n",
       "      <td>1419</td>\n",
       "    </tr>\n",
       "    <tr>\n",
       "      <th>2</th>\n",
       "      <td>2010-01-18</td>\n",
       "      <td>9027</td>\n",
       "      <td>1135</td>\n",
       "      <td>49</td>\n",
       "      <td>1184</td>\n",
       "    </tr>\n",
       "    <tr>\n",
       "      <th>3</th>\n",
       "      <td>2010-01-25</td>\n",
       "      <td>8030</td>\n",
       "      <td>515</td>\n",
       "      <td>18</td>\n",
       "      <td>533</td>\n",
       "    </tr>\n",
       "    <tr>\n",
       "      <th>4</th>\n",
       "      <td>2010-02-01</td>\n",
       "      <td>7788</td>\n",
       "      <td>502</td>\n",
       "      <td>14</td>\n",
       "      <td>516</td>\n",
       "    </tr>\n",
       "  </tbody>\n",
       "</table>\n",
       "</div>"
      ],
      "text/plain": [
       "       sdate  Processed  A_total  B_total  All_total\n",
       "0 2010-01-04       9312     1999        1       2000\n",
       "1 2010-01-11      10728     1404       15       1419\n",
       "2 2010-01-18       9027     1135       49       1184\n",
       "3 2010-01-25       8030      515       18        533\n",
       "4 2010-02-01       7788      502       14        516"
      ]
     },
     "execution_count": 5,
     "metadata": {},
     "output_type": "execute_result"
    }
   ],
   "source": [
    "fludat_pivot.head()"
   ]
  },
  {
   "cell_type": "code",
   "execution_count": 6,
   "metadata": {},
   "outputs": [],
   "source": [
    "# Extract year,month,day from date\n",
    "fludat_pivot['year'] = fludat_pivot['sdate'].dt.year\n",
    "fludat_pivot['month'] = fludat_pivot['sdate'].dt.month\n",
    "fludat_pivot['day'] = fludat_pivot['sdate'].dt.day"
   ]
  },
  {
   "cell_type": "code",
   "execution_count": 7,
   "metadata": {},
   "outputs": [
    {
     "data": {
      "text/html": [
       "<div>\n",
       "<style scoped>\n",
       "    .dataframe tbody tr th:only-of-type {\n",
       "        vertical-align: middle;\n",
       "    }\n",
       "\n",
       "    .dataframe tbody tr th {\n",
       "        vertical-align: top;\n",
       "    }\n",
       "\n",
       "    .dataframe thead th {\n",
       "        text-align: right;\n",
       "    }\n",
       "</style>\n",
       "<table border=\"1\" class=\"dataframe\">\n",
       "  <thead>\n",
       "    <tr style=\"text-align: right;\">\n",
       "      <th></th>\n",
       "      <th>sdate</th>\n",
       "      <th>Processed</th>\n",
       "      <th>A_total</th>\n",
       "      <th>B_total</th>\n",
       "      <th>All_total</th>\n",
       "      <th>year</th>\n",
       "      <th>month</th>\n",
       "      <th>day</th>\n",
       "    </tr>\n",
       "  </thead>\n",
       "  <tbody>\n",
       "    <tr>\n",
       "      <th>0</th>\n",
       "      <td>2010-01-04</td>\n",
       "      <td>9312</td>\n",
       "      <td>1999</td>\n",
       "      <td>1</td>\n",
       "      <td>2000</td>\n",
       "      <td>2010</td>\n",
       "      <td>1</td>\n",
       "      <td>4</td>\n",
       "    </tr>\n",
       "    <tr>\n",
       "      <th>1</th>\n",
       "      <td>2010-01-11</td>\n",
       "      <td>10728</td>\n",
       "      <td>1404</td>\n",
       "      <td>15</td>\n",
       "      <td>1419</td>\n",
       "      <td>2010</td>\n",
       "      <td>1</td>\n",
       "      <td>11</td>\n",
       "    </tr>\n",
       "    <tr>\n",
       "      <th>2</th>\n",
       "      <td>2010-01-18</td>\n",
       "      <td>9027</td>\n",
       "      <td>1135</td>\n",
       "      <td>49</td>\n",
       "      <td>1184</td>\n",
       "      <td>2010</td>\n",
       "      <td>1</td>\n",
       "      <td>18</td>\n",
       "    </tr>\n",
       "    <tr>\n",
       "      <th>3</th>\n",
       "      <td>2010-01-25</td>\n",
       "      <td>8030</td>\n",
       "      <td>515</td>\n",
       "      <td>18</td>\n",
       "      <td>533</td>\n",
       "      <td>2010</td>\n",
       "      <td>1</td>\n",
       "      <td>25</td>\n",
       "    </tr>\n",
       "    <tr>\n",
       "      <th>4</th>\n",
       "      <td>2010-02-01</td>\n",
       "      <td>7788</td>\n",
       "      <td>502</td>\n",
       "      <td>14</td>\n",
       "      <td>516</td>\n",
       "      <td>2010</td>\n",
       "      <td>2</td>\n",
       "      <td>1</td>\n",
       "    </tr>\n",
       "  </tbody>\n",
       "</table>\n",
       "</div>"
      ],
      "text/plain": [
       "       sdate  Processed  A_total  B_total  All_total  year  month  day\n",
       "0 2010-01-04       9312     1999        1       2000  2010      1    4\n",
       "1 2010-01-11      10728     1404       15       1419  2010      1   11\n",
       "2 2010-01-18       9027     1135       49       1184  2010      1   18\n",
       "3 2010-01-25       8030      515       18        533  2010      1   25\n",
       "4 2010-02-01       7788      502       14        516  2010      2    1"
      ]
     },
     "execution_count": 7,
     "metadata": {},
     "output_type": "execute_result"
    }
   ],
   "source": [
    "fludat_pivot.head()"
   ]
  },
  {
   "cell_type": "code",
   "execution_count": 8,
   "metadata": {},
   "outputs": [
    {
     "data": {
      "image/png": "[encoded data removed]",
      "text/plain": [
       "<Figure size 1080x432 with 1 Axes>"
      ]
     },
     "metadata": {
      "needs_background": "light"
     },
     "output_type": "display_data"
    }
   ],
   "source": [
    "# Check the data through line plot\n",
    "plt.figure(figsize=(15,6))\n",
    "plt.plot(fludat_pivot[['Processed','A_total','B_total','All_total']])\n",
    "plt.legend(['Processed','A_total','B_total','All_total'])\n",
    "plt.title('Flu time series')\n",
    "plt.show()"
   ]
  },
  {
   "cell_type": "code",
   "execution_count": 9,
   "metadata": {},
   "outputs": [
    {
     "data": {
      "text/html": [
       "<div>\n",
       "<style scoped>\n",
       "    .dataframe tbody tr th:only-of-type {\n",
       "        vertical-align: middle;\n",
       "    }\n",
       "\n",
       "    .dataframe tbody tr th {\n",
       "        vertical-align: top;\n",
       "    }\n",
       "\n",
       "    .dataframe thead th {\n",
       "        text-align: right;\n",
       "    }\n",
       "</style>\n",
       "<table border=\"1\" class=\"dataframe\">\n",
       "  <thead>\n",
       "    <tr style=\"text-align: right;\">\n",
       "      <th></th>\n",
       "      <th>month</th>\n",
       "      <th>All_total</th>\n",
       "    </tr>\n",
       "  </thead>\n",
       "  <tbody>\n",
       "    <tr>\n",
       "      <th>0</th>\n",
       "      <td>1</td>\n",
       "      <td>8640.625000</td>\n",
       "    </tr>\n",
       "    <tr>\n",
       "      <th>1</th>\n",
       "      <td>2</td>\n",
       "      <td>10849.133333</td>\n",
       "    </tr>\n",
       "    <tr>\n",
       "      <th>2</th>\n",
       "      <td>3</td>\n",
       "      <td>5264.041667</td>\n",
       "    </tr>\n",
       "    <tr>\n",
       "      <th>3</th>\n",
       "      <td>4</td>\n",
       "      <td>1551.791667</td>\n",
       "    </tr>\n",
       "    <tr>\n",
       "      <th>4</th>\n",
       "      <td>5</td>\n",
       "      <td>283.916667</td>\n",
       "    </tr>\n",
       "    <tr>\n",
       "      <th>5</th>\n",
       "      <td>6</td>\n",
       "      <td>50.911111</td>\n",
       "    </tr>\n",
       "    <tr>\n",
       "      <th>6</th>\n",
       "      <td>7</td>\n",
       "      <td>22.044444</td>\n",
       "    </tr>\n",
       "    <tr>\n",
       "      <th>7</th>\n",
       "      <td>8</td>\n",
       "      <td>18.250000</td>\n",
       "    </tr>\n",
       "    <tr>\n",
       "      <th>8</th>\n",
       "      <td>9</td>\n",
       "      <td>29.279070</td>\n",
       "    </tr>\n",
       "    <tr>\n",
       "      <th>9</th>\n",
       "      <td>10</td>\n",
       "      <td>112.044444</td>\n",
       "    </tr>\n",
       "    <tr>\n",
       "      <th>10</th>\n",
       "      <td>11</td>\n",
       "      <td>456.000000</td>\n",
       "    </tr>\n",
       "    <tr>\n",
       "      <th>11</th>\n",
       "      <td>12</td>\n",
       "      <td>3106.333333</td>\n",
       "    </tr>\n",
       "  </tbody>\n",
       "</table>\n",
       "</div>"
      ],
      "text/plain": [
       "    month     All_total\n",
       "0       1   8640.625000\n",
       "1       2  10849.133333\n",
       "2       3   5264.041667\n",
       "3       4   1551.791667\n",
       "4       5    283.916667\n",
       "5       6     50.911111\n",
       "6       7     22.044444\n",
       "7       8     18.250000\n",
       "8       9     29.279070\n",
       "9      10    112.044444\n",
       "10     11    456.000000\n",
       "11     12   3106.333333"
      ]
     },
     "execution_count": 9,
     "metadata": {},
     "output_type": "execute_result"
    }
   ],
   "source": [
    "# Pivot table to check the average of each month (Positive cases)\n",
    "fludat_pivot.groupby(['month'], as_index=False)['All_total'].mean()"
   ]
  },
  {
   "cell_type": "code",
   "execution_count": 10,
   "metadata": {},
   "outputs": [
    {
     "data": {
      "image/png": "[encoded data removed]",
      "text/plain": [
       "<Figure size 864x432 with 1 Axes>"
      ]
     },
     "metadata": {
      "needs_background": "light"
     },
     "output_type": "display_data"
    }
   ],
   "source": [
    "# Which month is the peak in average\n",
    "plt.figure(figsize=(12,6))\n",
    "plt.plot(fludat_pivot.groupby(['month'], as_index=False)['All_total'].mean()['All_total'])\n",
    "plt.xticks(fludat_pivot.groupby(['month'], as_index=False)['All_total'].mean().index)\n",
    "plt.title('Peak detection')\n",
    "plt.show()"
   ]
  },
  {
   "cell_type": "markdown",
   "metadata": {},
   "source": [
    "The peak is around december, january, february as we can see it from the graph."
   ]
  },
  {
   "cell_type": "markdown",
   "metadata": {},
   "source": [
    "#### Anomaly detection"
   ]
  },
  {
   "cell_type": "code",
   "execution_count": 17,
   "metadata": {},
   "outputs": [],
   "source": [
    "# Anomaly detection Seasonal method\n",
    "months_deviation = fludat_pivot.groupby(['month'])['All_total'].std()"
   ]
  },
  {
   "cell_type": "code",
   "execution_count": 19,
   "metadata": {},
   "outputs": [
    {
     "data": {
      "text/plain": [
       "Text(0, 0.5, 'Total Positive Cases')"
      ]
     },
     "execution_count": 19,
     "metadata": {},
     "output_type": "execute_result"
    },
    {
     "data": {
      "image/png": "[encoded data removed]",
      "text/plain": [
       "<Figure size 720x288 with 1 Axes>"
      ]
     },
     "metadata": {
      "needs_background": "light"
     },
     "output_type": "display_data"
    }
   ],
   "source": [
    "plt.figure(figsize=(10,4))\n",
    "plt.plot(months_deviation)\n",
    "plt.title('Deviation by Month', fontsize=20)\n",
    "plt.ylabel('Total Positive Cases', fontsize=16)"
   ]
  },
  {
   "cell_type": "markdown",
   "metadata": {},
   "source": [
    "In january and february the deviations are much bigger, that indicates that there could be an anomaly existing."
   ]
  },
  {
   "cell_type": "markdown",
   "metadata": {},
   "source": [
    "**January:**"
   ]
  },
  {
   "cell_type": "code",
   "execution_count": 34,
   "metadata": {},
   "outputs": [],
   "source": [
    "# January data\n",
    "anomaly_temp_df = fludat_pivot[fludat_pivot['sdate'].dt.month == 1]"
   ]
  },
  {
   "cell_type": "code",
   "execution_count": 48,
   "metadata": {},
   "outputs": [
    {
     "data": {
      "text/html": [
       "<div>\n",
       "<style scoped>\n",
       "    .dataframe tbody tr th:only-of-type {\n",
       "        vertical-align: middle;\n",
       "    }\n",
       "\n",
       "    .dataframe tbody tr th {\n",
       "        vertical-align: top;\n",
       "    }\n",
       "\n",
       "    .dataframe thead th {\n",
       "        text-align: right;\n",
       "    }\n",
       "</style>\n",
       "<table border=\"1\" class=\"dataframe\">\n",
       "  <thead>\n",
       "    <tr style=\"text-align: right;\">\n",
       "      <th></th>\n",
       "      <th>sdate</th>\n",
       "      <th>Processed</th>\n",
       "      <th>A_total</th>\n",
       "      <th>B_total</th>\n",
       "      <th>All_total</th>\n",
       "      <th>year</th>\n",
       "      <th>month</th>\n",
       "      <th>day</th>\n",
       "    </tr>\n",
       "  </thead>\n",
       "  <tbody>\n",
       "    <tr>\n",
       "      <th>473</th>\n",
       "      <td>2019-01-28</td>\n",
       "      <td>54128</td>\n",
       "      <td>24017</td>\n",
       "      <td>136</td>\n",
       "      <td>24153</td>\n",
       "      <td>2019</td>\n",
       "      <td>1</td>\n",
       "      <td>28</td>\n",
       "    </tr>\n",
       "  </tbody>\n",
       "</table>\n",
       "</div>"
      ],
      "text/plain": [
       "         sdate  Processed  A_total  B_total  All_total  year  month  day\n",
       "473 2019-01-28      54128    24017      136      24153  2019      1   28"
      ]
     },
     "execution_count": 48,
     "metadata": {},
     "output_type": "execute_result"
    }
   ],
   "source": [
    "# Check for minimum dev\n",
    "min_dev = 9999999\n",
    "curr_anomaly = None\n",
    "for date in anomaly_temp_df.index:\n",
    "    other_data = anomaly_temp_df[anomaly_temp_df.index != date]\n",
    "    curr_dev = other_data['All_total'].std()\n",
    "    if curr_dev < min_dev:\n",
    "        min_dev = curr_dev\n",
    "        curr_anomaly = date\n",
    "\n",
    "anomaly_temp_df[anomaly_temp_df.index == curr_anomaly]"
   ]
  },
  {
   "cell_type": "markdown",
   "metadata": {},
   "source": [
    "**February:**"
   ]
  },
  {
   "cell_type": "code",
   "execution_count": 49,
   "metadata": {},
   "outputs": [],
   "source": [
    "# February data\n",
    "anomaly_temp_df = fludat_pivot[fludat_pivot['sdate'].dt.month == 2]"
   ]
  },
  {
   "cell_type": "code",
   "execution_count": 50,
   "metadata": {},
   "outputs": [
    {
     "data": {
      "text/html": [
       "<div>\n",
       "<style scoped>\n",
       "    .dataframe tbody tr th:only-of-type {\n",
       "        vertical-align: middle;\n",
       "    }\n",
       "\n",
       "    .dataframe tbody tr th {\n",
       "        vertical-align: top;\n",
       "    }\n",
       "\n",
       "    .dataframe thead th {\n",
       "        text-align: right;\n",
       "    }\n",
       "</style>\n",
       "<table border=\"1\" class=\"dataframe\">\n",
       "  <thead>\n",
       "    <tr style=\"text-align: right;\">\n",
       "      <th></th>\n",
       "      <th>sdate</th>\n",
       "      <th>Processed</th>\n",
       "      <th>A_total</th>\n",
       "      <th>B_total</th>\n",
       "      <th>All_total</th>\n",
       "      <th>year</th>\n",
       "      <th>month</th>\n",
       "      <th>day</th>\n",
       "    </tr>\n",
       "  </thead>\n",
       "  <tbody>\n",
       "    <tr>\n",
       "      <th>474</th>\n",
       "      <td>2019-02-04</td>\n",
       "      <td>61041</td>\n",
       "      <td>27344</td>\n",
       "      <td>97</td>\n",
       "      <td>27441</td>\n",
       "      <td>2019</td>\n",
       "      <td>2</td>\n",
       "      <td>4</td>\n",
       "    </tr>\n",
       "  </tbody>\n",
       "</table>\n",
       "</div>"
      ],
      "text/plain": [
       "         sdate  Processed  A_total  B_total  All_total  year  month  day\n",
       "474 2019-02-04      61041    27344       97      27441  2019      2    4"
      ]
     },
     "execution_count": 50,
     "metadata": {},
     "output_type": "execute_result"
    }
   ],
   "source": [
    "# Check for minimum dev\n",
    "min_dev = 9999999\n",
    "curr_anomaly = None\n",
    "for date in anomaly_temp_df.index:\n",
    "    other_data = anomaly_temp_df[anomaly_temp_df.index != date]\n",
    "    curr_dev = other_data['All_total'].std()\n",
    "    if curr_dev < min_dev:\n",
    "        min_dev = curr_dev\n",
    "        curr_anomaly = date\n",
    "\n",
    "anomaly_temp_df[anomaly_temp_df.index == curr_anomaly]"
   ]
  },
  {
   "cell_type": "code",
   "execution_count": 12,
   "metadata": {},
   "outputs": [
    {
     "data": {
      "text/plain": [
       "sdate\n",
       "2010-01-04    2000\n",
       "2010-01-11    1419\n",
       "2010-01-18    1184\n",
       "2010-01-25     533\n",
       "2010-02-01     516\n",
       "              ... \n",
       "2020-05-18       3\n",
       "2020-05-25       3\n",
       "2020-06-01       1\n",
       "2020-06-08       4\n",
       "2020-06-15       0\n",
       "Name: Positive_cases, Length: 546, dtype: int64"
      ]
     },
     "execution_count": 12,
     "metadata": {},
     "output_type": "execute_result"
    }
   ],
   "source": [
    "# Series\n",
    "forecast_data = fludat_pivot.set_index(fludat_pivot['sdate'])['All_total']\n",
    "forecast_data.name = 'Positive_cases'\n",
    "forecast_data"
   ]
  },
  {
   "cell_type": "code",
   "execution_count": 13,
   "metadata": {},
   "outputs": [
    {
     "data": {
      "text/plain": [
       "[<matplotlib.lines.Line2D at 0x2364840ca90>]"
      ]
     },
     "execution_count": 13,
     "metadata": {},
     "output_type": "execute_result"
    },
    {
     "data": {
      "image/png": "[encoded data removed]",
      "text/plain": [
       "<Figure size 432x288 with 1 Axes>"
      ]
     },
     "metadata": {
      "needs_background": "light"
     },
     "output_type": "display_data"
    }
   ],
   "source": [
    "# Plot series\n",
    "plt.plot(forecast_data)"
   ]
  },
  {
   "cell_type": "markdown",
   "metadata": {},
   "source": [
    "### 4. Data preparation for modeling:"
   ]
  },
  {
   "cell_type": "code",
   "execution_count": 14,
   "metadata": {},
   "outputs": [],
   "source": [
    "# Splitting the dataset into train and test 80% - 20%\n",
    "train_size = int(len(forecast_data)*0.8)\n",
    "test_size = len(forecast_data)-train_size\n",
    "\n",
    "training_data = np.array(forecast_data[0:train_size])\n",
    "test_data = np.array(forecast_data[train_size:len(forecast_data)])"
   ]
  },
  {
   "cell_type": "code",
   "execution_count": 15,
   "metadata": {},
   "outputs": [],
   "source": [
    " # LSTM are sensitive to the scale of the data, so we apply minmax scaler\n",
    "scaler = MinMaxScaler(feature_range=(0,1))\n",
    "\n",
    "# Scaled array\n",
    "training_data_scaled = scaler.fit_transform(training_data.reshape(-1,1))\n",
    "test_data_scaled = scaler.transform(test_data.reshape(-1,1))"
   ]
  },
  {
   "cell_type": "code",
   "execution_count": 16,
   "metadata": {},
   "outputs": [
    {
     "data": {
      "text/plain": [
       "(436, 1)"
      ]
     },
     "execution_count": 16,
     "metadata": {},
     "output_type": "execute_result"
    }
   ],
   "source": [
    "training_data_scaled.shape"
   ]
  },
  {
   "cell_type": "code",
   "execution_count": 17,
   "metadata": {},
   "outputs": [
    {
     "data": {
      "text/plain": [
       "(110, 1)"
      ]
     },
     "execution_count": 17,
     "metadata": {},
     "output_type": "execute_result"
    }
   ],
   "source": [
    "test_data_scaled.shape"
   ]
  },
  {
   "cell_type": "code",
   "execution_count": 18,
   "metadata": {},
   "outputs": [],
   "source": [
    "# Within the 'training_data' and 'test_data', we create x_train,x_test, y_train, y_test\n",
    "def create_data(dataset, time_step = 1):\n",
    "    data_X, data_Y = [], []\n",
    "    for i in range(len(dataset)-time_step-1):\n",
    "        a = dataset[i:(i+time_step),0]\n",
    "        data_X.append(a.tolist())\n",
    "        data_Y.append(dataset[i + time_step, 0].tolist())\n",
    "    return np.array(data_X), np.array(data_Y)"
   ]
  },
  {
   "cell_type": "code",
   "execution_count": 19,
   "metadata": {},
   "outputs": [],
   "source": [
    "# Time_step hyperparameter tuning\n",
    "time_step = 3\n",
    "\n",
    "X_train, y_train = create_data(training_data_scaled, time_step)\n",
    "X_test, y_test = create_data(test_data_scaled, time_step)"
   ]
  },
  {
   "cell_type": "code",
   "execution_count": 20,
   "metadata": {},
   "outputs": [
    {
     "name": "stdout",
     "output_type": "stream",
     "text": [
      "X_train shape:  (432, 3) , y_train shape:  (432,)\n",
      "------------------------\n",
      "X_test shape:  (106, 3) , y_test shape:  (106,)\n"
     ]
    }
   ],
   "source": [
    "print('X_train shape: ',X_train.shape, ', y_train shape: ',y_train.shape)\n",
    "print('------------------------')\n",
    "print('X_test shape: ',X_test.shape, ', y_test shape: ',y_test.shape)"
   ]
  },
  {
   "cell_type": "markdown",
   "metadata": {},
   "source": [
    "### 5. Modeling:"
   ]
  },
  {
   "cell_type": "markdown",
   "metadata": {},
   "source": [
    "We are going to try out different LSTM architectures."
   ]
  },
  {
   "cell_type": "code",
   "execution_count": 21,
   "metadata": {},
   "outputs": [],
   "source": [
    "# For LSTM we need to add an additional dimension\n",
    "X_train = X_train.reshape(X_train.shape[0], X_train.shape[1], 1)\n",
    "X_test = X_test.reshape(X_test.shape[0], X_test.shape[1], 1)"
   ]
  },
  {
   "cell_type": "markdown",
   "metadata": {},
   "source": [
    "#### a) Vanilla LSTM"
   ]
  },
  {
   "cell_type": "code",
   "execution_count": 22,
   "metadata": {},
   "outputs": [],
   "source": [
    "# Create stack LSTM model\n",
    "model = Sequential()\n",
    "model.add(LSTM(50, input_shape = (3,1)))\n",
    "model.add(Dropout(0.2))\n",
    "model.add(Dense(1))\n",
    "model.compile(loss='mean_squared_error', optimizer='adam')"
   ]
  },
  {
   "cell_type": "code",
   "execution_count": 23,
   "metadata": {},
   "outputs": [
    {
     "name": "stdout",
     "output_type": "stream",
     "text": [
      "Epoch 1/50\n",
      "108/108 [==============================] - 3s 14ms/step - loss: 0.0155 - val_loss: 0.0253\n",
      "Epoch 2/50\n",
      "108/108 [==============================] - 0s 2ms/step - loss: 0.0066 - val_loss: 0.0151\n",
      "Epoch 3/50\n",
      "108/108 [==============================] - 0s 2ms/step - loss: 0.0045 - val_loss: 0.0144\n",
      "Epoch 4/50\n",
      "108/108 [==============================] - 0s 2ms/step - loss: 0.0042 - val_loss: 0.0141\n",
      "Epoch 5/50\n",
      "108/108 [==============================] - 0s 2ms/step - loss: 0.0040 - val_loss: 0.0133\n",
      "Epoch 6/50\n",
      "108/108 [==============================] - 0s 2ms/step - loss: 0.0041 - val_loss: 0.0129\n",
      "Epoch 7/50\n",
      "108/108 [==============================] - 0s 2ms/step - loss: 0.0039 - val_loss: 0.0123\n",
      "Epoch 8/50\n",
      "108/108 [==============================] - 0s 2ms/step - loss: 0.0038 - val_loss: 0.0117\n",
      "Epoch 9/50\n",
      "108/108 [==============================] - 0s 2ms/step - loss: 0.0034 - val_loss: 0.0109\n",
      "Epoch 10/50\n",
      "108/108 [==============================] - 0s 2ms/step - loss: 0.0034 - val_loss: 0.0103\n",
      "Epoch 11/50\n",
      "108/108 [==============================] - 0s 2ms/step - loss: 0.0030 - val_loss: 0.0096\n",
      "Epoch 12/50\n",
      "108/108 [==============================] - 0s 2ms/step - loss: 0.0031 - val_loss: 0.0091\n",
      "Epoch 13/50\n",
      "108/108 [==============================] - 0s 2ms/step - loss: 0.0024 - val_loss: 0.0082\n",
      "Epoch 14/50\n",
      "108/108 [==============================] - 0s 2ms/step - loss: 0.0025 - val_loss: 0.0065\n",
      "Epoch 15/50\n",
      "108/108 [==============================] - 0s 2ms/step - loss: 0.0021 - val_loss: 0.0055\n",
      "Epoch 16/50\n",
      "108/108 [==============================] - 0s 2ms/step - loss: 0.0018 - val_loss: 0.0053\n",
      "Epoch 17/50\n",
      "108/108 [==============================] - 0s 2ms/step - loss: 0.0015 - val_loss: 0.0046\n",
      "Epoch 18/50\n",
      "108/108 [==============================] - 0s 2ms/step - loss: 0.0022 - val_loss: 0.0046\n",
      "Epoch 19/50\n",
      "108/108 [==============================] - 0s 2ms/step - loss: 0.0013 - val_loss: 0.0047\n",
      "Epoch 20/50\n",
      "108/108 [==============================] - 0s 2ms/step - loss: 0.0013 - val_loss: 0.0045\n",
      "Epoch 21/50\n",
      "108/108 [==============================] - 0s 2ms/step - loss: 0.0013 - val_loss: 0.0048\n",
      "Epoch 22/50\n",
      "108/108 [==============================] - 0s 2ms/step - loss: 0.0020 - val_loss: 0.0058\n",
      "Epoch 23/50\n",
      "108/108 [==============================] - 0s 2ms/step - loss: 0.0027 - val_loss: 0.0045\n",
      "Epoch 24/50\n",
      "108/108 [==============================] - 0s 2ms/step - loss: 0.0015 - val_loss: 0.0035\n",
      "Epoch 25/50\n",
      "108/108 [==============================] - 0s 2ms/step - loss: 8.7439e-04 - val_loss: 0.0035\n",
      "Epoch 26/50\n",
      "108/108 [==============================] - 0s 2ms/step - loss: 8.5887e-04 - val_loss: 0.0036\n",
      "Epoch 27/50\n",
      "108/108 [==============================] - 0s 2ms/step - loss: 0.0013 - val_loss: 0.0044\n",
      "Epoch 28/50\n",
      "108/108 [==============================] - 0s 2ms/step - loss: 0.0010 - val_loss: 0.0034\n",
      "Epoch 29/50\n",
      "108/108 [==============================] - 0s 2ms/step - loss: 7.7466e-04 - val_loss: 0.0032\n",
      "Epoch 30/50\n",
      "108/108 [==============================] - 0s 2ms/step - loss: 0.0011 - val_loss: 0.0037\n",
      "Epoch 31/50\n",
      "108/108 [==============================] - 0s 2ms/step - loss: 0.0018 - val_loss: 0.0032\n",
      "Epoch 32/50\n",
      "108/108 [==============================] - 0s 2ms/step - loss: 6.7066e-04 - val_loss: 0.0035\n",
      "Epoch 33/50\n",
      "108/108 [==============================] - 0s 2ms/step - loss: 9.8144e-04 - val_loss: 0.0027\n",
      "Epoch 34/50\n",
      "108/108 [==============================] - 0s 2ms/step - loss: 8.2395e-04 - val_loss: 0.0026\n",
      "Epoch 35/50\n",
      "108/108 [==============================] - 0s 2ms/step - loss: 8.7182e-04 - val_loss: 0.0029\n",
      "Epoch 36/50\n",
      "108/108 [==============================] - 0s 2ms/step - loss: 8.6108e-04 - val_loss: 0.0031\n",
      "Epoch 37/50\n",
      "108/108 [==============================] - 0s 2ms/step - loss: 6.2290e-04 - val_loss: 0.0027\n",
      "Epoch 38/50\n",
      "108/108 [==============================] - 0s 2ms/step - loss: 7.0480e-04 - val_loss: 0.0025\n",
      "Epoch 39/50\n",
      "108/108 [==============================] - 0s 2ms/step - loss: 8.3367e-04 - val_loss: 0.0029\n",
      "Epoch 40/50\n",
      "108/108 [==============================] - 0s 2ms/step - loss: 8.0395e-04 - val_loss: 0.0028\n",
      "Epoch 41/50\n",
      "108/108 [==============================] - 0s 2ms/step - loss: 7.9788e-04 - val_loss: 0.0021\n",
      "Epoch 42/50\n",
      "108/108 [==============================] - 0s 2ms/step - loss: 6.6025e-04 - val_loss: 0.0018\n",
      "Epoch 43/50\n",
      "108/108 [==============================] - 0s 2ms/step - loss: 5.8174e-04 - val_loss: 0.0018\n",
      "Epoch 44/50\n",
      "108/108 [==============================] - 0s 2ms/step - loss: 7.6770e-04 - val_loss: 0.0021\n",
      "Epoch 45/50\n",
      "108/108 [==============================] - 0s 2ms/step - loss: 6.5209e-04 - val_loss: 0.0026\n",
      "Epoch 46/50\n",
      "108/108 [==============================] - 0s 2ms/step - loss: 6.4677e-04 - val_loss: 0.0019\n",
      "Epoch 47/50\n",
      "108/108 [==============================] - 0s 2ms/step - loss: 6.1706e-04 - val_loss: 0.0021\n",
      "Epoch 48/50\n",
      "108/108 [==============================] - 0s 2ms/step - loss: 9.0917e-04 - val_loss: 0.0020\n",
      "Epoch 49/50\n",
      "108/108 [==============================] - 0s 2ms/step - loss: 9.9525e-04 - val_loss: 0.0017\n",
      "Epoch 50/50\n",
      "108/108 [==============================] - 0s 2ms/step - loss: 6.5983e-04 - val_loss: 0.0015\n"
     ]
    }
   ],
   "source": [
    "# Training\n",
    "EPOCHS = 50\n",
    "H = model.fit(X_train,y_train, epochs = EPOCHS, batch_size = 3, validation_split=0.25, shuffle=False, verbose = 1)"
   ]
  },
  {
   "cell_type": "code",
   "execution_count": 24,
   "metadata": {},
   "outputs": [
    {
     "name": "stdout",
     "output_type": "stream",
     "text": [
      "Model: \"sequential\"\n",
      "_________________________________________________________________\n",
      "Layer (type)                 Output Shape              Param #   \n",
      "=================================================================\n",
      "lstm (LSTM)                  (None, 50)                10400     \n",
      "_________________________________________________________________\n",
      "dropout (Dropout)            (None, 50)                0         \n",
      "_________________________________________________________________\n",
      "dense (Dense)                (None, 1)                 51        \n",
      "=================================================================\n",
      "Total params: 10,451\n",
      "Trainable params: 10,451\n",
      "Non-trainable params: 0\n",
      "_________________________________________________________________\n"
     ]
    }
   ],
   "source": [
    "# Summary\n",
    "model.summary()"
   ]
  },
  {
   "cell_type": "code",
   "execution_count": 25,
   "metadata": {},
   "outputs": [
    {
     "data": {
      "image/png": "[encoded data removed]",
      "text/plain": [
       "<Figure size 432x288 with 1 Axes>"
      ]
     },
     "metadata": {
      "needs_background": "light"
     },
     "output_type": "display_data"
    }
   ],
   "source": [
    "# Plot the training and validation loss\n",
    "N = EPOCHS\n",
    "\n",
    "plt.plot(np.arange(0, N), H.history['loss'], label='train_loss')\n",
    "plt.plot(np.arange(0, N), H.history['val_loss'], label='val_loss')\n",
    "plt.title('Training - Loss')\n",
    "plt.xlabel('Epochs')\n",
    "plt.ylabel('Loss')\n",
    "plt.legend(loc='lower left')\n",
    "plt.savefig(\"./plot/LSTM_model1_training_plot.png\")"
   ]
  },
  {
   "cell_type": "code",
   "execution_count": 26,
   "metadata": {},
   "outputs": [],
   "source": [
    "# Prediction and inverse scaling\n",
    "y_pred = model.predict(X_test)\n",
    "y_pred_realval = scaler.inverse_transform(y_pred)"
   ]
  },
  {
   "cell_type": "code",
   "execution_count": 27,
   "metadata": {},
   "outputs": [
    {
     "name": "stdout",
     "output_type": "stream",
     "text": [
      "Scaled RMSE:  0.046728236485535195\n",
      "Inverse scaled RMSE:  894.929871002092\n",
      "Scaled MAE:  0.027243339258134394\n",
      "Inverse scaled MAE:  522.5929698836901\n"
     ]
    }
   ],
   "source": [
    "# Accuracy\n",
    "lstm_rmse = math.sqrt(mean_squared_error(y_test, y_pred))\n",
    "lstm_mae = mean_absolute_error(y_test,y_pred)\n",
    "print('Scaled RMSE: ',lstm_rmse)\n",
    "print('Inverse scaled RMSE: ', scaler.inverse_transform(np.array(lstm_rmse).reshape(1,-1))[0][0])\n",
    "print('Scaled MAE: ',lstm_mae)\n",
    "print('Inverse scaled MAE: ', scaler.inverse_transform(np.array(lstm_mae).reshape(1,-1))[0][0])"
   ]
  },
  {
   "cell_type": "code",
   "execution_count": 28,
   "metadata": {},
   "outputs": [
    {
     "name": "stdout",
     "output_type": "stream",
     "text": [
      "(106, 1)\n",
      "(546, 1)\n"
     ]
    }
   ],
   "source": [
    "print(y_pred_realval.shape)\n",
    "print(np.array(forecast_data).reshape(len(forecast_data),1).shape)"
   ]
  },
  {
   "cell_type": "code",
   "execution_count": 29,
   "metadata": {},
   "outputs": [
    {
     "data": {
      "text/plain": [
       "[<matplotlib.lines.Line2D at 0x236543ea2e0>]"
      ]
     },
     "execution_count": 29,
     "metadata": {},
     "output_type": "execute_result"
    },
    {
     "data": {
      "image/png": "[encoded data removed]",
      "text/plain": [
       "<Figure size 432x288 with 1 Axes>"
      ]
     },
     "metadata": {
      "needs_background": "light"
     },
     "output_type": "display_data"
    }
   ],
   "source": [
    "# Plotting the prediction and the actual value\n",
    "test_predict = np.empty_like(np.array(forecast_data).reshape(len(forecast_data),1))\n",
    "test_predict[:,:] = np.nan\n",
    "test_predict = np.where(test_predict == -9223372036854775808, np.nan, test_predict)\n",
    "test_predict[546-106:,:] = y_pred_realval\n",
    "plt.plot(np.array(forecast_data).reshape(len(forecast_data),1))\n",
    "plt.plot(test_predict)"
   ]
  },
  {
   "cell_type": "markdown",
   "metadata": {},
   "source": [
    "#### b) Stacked LSTM"
   ]
  },
  {
   "cell_type": "code",
   "execution_count": 30,
   "metadata": {},
   "outputs": [],
   "source": [
    "# Create stack LSTM model\n",
    "model = Sequential()\n",
    "\n",
    "model.add(LSTM(50, return_sequences = True, input_shape = (3,1)))\n",
    "model.add(Dropout(0.2))\n",
    "\n",
    "model.add(LSTM(50))\n",
    "model.add(Dropout(0.2))\n",
    "\n",
    "model.add(Dense(1))\n",
    "model.compile(loss='mean_squared_error', optimizer='adam')"
   ]
  },
  {
   "cell_type": "code",
   "execution_count": 31,
   "metadata": {},
   "outputs": [
    {
     "name": "stdout",
     "output_type": "stream",
     "text": [
      "Epoch 1/50\n",
      "324/324 [==============================] - 5s 5ms/step - loss: 0.0142 - val_loss: 0.0208\n",
      "Epoch 2/50\n",
      "324/324 [==============================] - 1s 2ms/step - loss: 0.0090 - val_loss: 0.0219\n",
      "Epoch 3/50\n",
      "324/324 [==============================] - 1s 2ms/step - loss: 0.0072 - val_loss: 0.0162\n",
      "Epoch 4/50\n",
      "324/324 [==============================] - 1s 2ms/step - loss: 0.0058 - val_loss: 0.0137\n",
      "Epoch 5/50\n",
      "324/324 [==============================] - 1s 2ms/step - loss: 0.0055 - val_loss: 0.0125\n",
      "Epoch 6/50\n",
      "324/324 [==============================] - 1s 2ms/step - loss: 0.0041 - val_loss: 0.0081\n",
      "Epoch 7/50\n",
      "324/324 [==============================] - 1s 2ms/step - loss: 0.0034 - val_loss: 0.0050\n",
      "Epoch 8/50\n",
      "324/324 [==============================] - 1s 2ms/step - loss: 0.0037 - val_loss: 0.0051\n",
      "Epoch 9/50\n",
      "324/324 [==============================] - 1s 2ms/step - loss: 0.0029 - val_loss: 0.0040\n",
      "Epoch 10/50\n",
      "324/324 [==============================] - 1s 2ms/step - loss: 0.0017 - val_loss: 0.0035\n",
      "Epoch 11/50\n",
      "324/324 [==============================] - 1s 2ms/step - loss: 0.0018 - val_loss: 0.0025\n",
      "Epoch 12/50\n",
      "324/324 [==============================] - 1s 2ms/step - loss: 0.0012 - val_loss: 0.0028\n",
      "Epoch 13/50\n",
      "324/324 [==============================] - 1s 2ms/step - loss: 0.0014 - val_loss: 0.0022\n",
      "Epoch 14/50\n",
      "324/324 [==============================] - 1s 2ms/step - loss: 0.0018 - val_loss: 0.0022\n",
      "Epoch 15/50\n",
      "324/324 [==============================] - 1s 2ms/step - loss: 0.0013 - val_loss: 0.0023\n",
      "Epoch 16/50\n",
      "324/324 [==============================] - 1s 3ms/step - loss: 0.0013 - val_loss: 0.0057\n",
      "Epoch 17/50\n",
      "324/324 [==============================] - 1s 2ms/step - loss: 0.0026 - val_loss: 0.0023\n",
      "Epoch 18/50\n",
      "324/324 [==============================] - 1s 2ms/step - loss: 0.0012 - val_loss: 0.0020\n",
      "Epoch 19/50\n",
      "324/324 [==============================] - 1s 2ms/step - loss: 9.6187e-04 - val_loss: 0.0036\n",
      "Epoch 20/50\n",
      "324/324 [==============================] - 1s 2ms/step - loss: 0.0014 - val_loss: 0.0020\n",
      "Epoch 21/50\n",
      "324/324 [==============================] - 1s 2ms/step - loss: 0.0012 - val_loss: 0.0019\n",
      "Epoch 22/50\n",
      "324/324 [==============================] - 1s 2ms/step - loss: 0.0011 - val_loss: 0.0019\n",
      "Epoch 23/50\n",
      "324/324 [==============================] - 1s 2ms/step - loss: 0.0011 - val_loss: 0.0037\n",
      "Epoch 24/50\n",
      "324/324 [==============================] - 1s 3ms/step - loss: 0.0017 - val_loss: 0.0024\n",
      "Epoch 25/50\n",
      "324/324 [==============================] - 1s 3ms/step - loss: 0.0011 - val_loss: 0.0017\n",
      "Epoch 26/50\n",
      "324/324 [==============================] - 1s 3ms/step - loss: 0.0013 - val_loss: 0.0017\n",
      "Epoch 27/50\n",
      "324/324 [==============================] - 1s 2ms/step - loss: 0.0011 - val_loss: 0.0023\n",
      "Epoch 28/50\n",
      "324/324 [==============================] - 1s 3ms/step - loss: 0.0012 - val_loss: 0.0057\n",
      "Epoch 29/50\n",
      "324/324 [==============================] - 1s 2ms/step - loss: 0.0017 - val_loss: 0.0039\n",
      "Epoch 30/50\n",
      "324/324 [==============================] - 1s 3ms/step - loss: 0.0015 - val_loss: 0.0014\n",
      "Epoch 31/50\n",
      "324/324 [==============================] - 1s 2ms/step - loss: 9.6790e-04 - val_loss: 0.0049\n",
      "Epoch 32/50\n",
      "324/324 [==============================] - 1s 2ms/step - loss: 0.0014 - val_loss: 0.0019\n",
      "Epoch 33/50\n",
      "324/324 [==============================] - 1s 2ms/step - loss: 0.0011 - val_loss: 0.0037\n",
      "Epoch 34/50\n",
      "324/324 [==============================] - 1s 2ms/step - loss: 0.0015 - val_loss: 0.0022\n",
      "Epoch 35/50\n",
      "324/324 [==============================] - 1s 2ms/step - loss: 0.0010 - val_loss: 0.0032\n",
      "Epoch 36/50\n",
      "324/324 [==============================] - 1s 2ms/step - loss: 0.0012 - val_loss: 0.0016\n",
      "Epoch 37/50\n",
      "324/324 [==============================] - 1s 2ms/step - loss: 0.0012 - val_loss: 0.0013\n",
      "Epoch 38/50\n",
      "324/324 [==============================] - 1s 3ms/step - loss: 0.0011 - val_loss: 0.0020\n",
      "Epoch 39/50\n",
      "324/324 [==============================] - 1s 2ms/step - loss: 0.0012 - val_loss: 0.0042\n",
      "Epoch 40/50\n",
      "324/324 [==============================] - 1s 2ms/step - loss: 0.0015 - val_loss: 0.0023\n",
      "Epoch 41/50\n",
      "324/324 [==============================] - 1s 2ms/step - loss: 8.2524e-04 - val_loss: 0.0018\n",
      "Epoch 42/50\n",
      "324/324 [==============================] - 1s 2ms/step - loss: 8.7905e-04 - val_loss: 0.0022\n",
      "Epoch 43/50\n",
      "324/324 [==============================] - 1s 2ms/step - loss: 0.0010 - val_loss: 0.0041\n",
      "Epoch 44/50\n",
      "324/324 [==============================] - 1s 2ms/step - loss: 0.0014 - val_loss: 0.0024\n",
      "Epoch 45/50\n",
      "324/324 [==============================] - 1s 3ms/step - loss: 0.0013 - val_loss: 0.0058\n",
      "Epoch 46/50\n",
      "324/324 [==============================] - 1s 2ms/step - loss: 0.0026 - val_loss: 0.0031\n",
      "Epoch 47/50\n",
      "324/324 [==============================] - 1s 2ms/step - loss: 0.0012 - val_loss: 0.0022\n",
      "Epoch 48/50\n",
      "324/324 [==============================] - 1s 3ms/step - loss: 7.1356e-04 - val_loss: 0.0045\n",
      "Epoch 49/50\n",
      "324/324 [==============================] - 1s 2ms/step - loss: 0.0011 - val_loss: 0.0016\n",
      "Epoch 50/50\n",
      "324/324 [==============================] - 1s 3ms/step - loss: 0.0012 - val_loss: 0.0032\n"
     ]
    }
   ],
   "source": [
    "# Training\n",
    "EPOCHS = 50\n",
    "H = model.fit(X_train,y_train, epochs = EPOCHS, batch_size = 1, validation_split=0.25, shuffle=False, verbose = 1)"
   ]
  },
  {
   "cell_type": "code",
   "execution_count": 32,
   "metadata": {},
   "outputs": [
    {
     "name": "stdout",
     "output_type": "stream",
     "text": [
      "Model: \"sequential_1\"\n",
      "_________________________________________________________________\n",
      "Layer (type)                 Output Shape              Param #   \n",
      "=================================================================\n",
      "lstm_1 (LSTM)                (None, 3, 50)             10400     \n",
      "_________________________________________________________________\n",
      "dropout_1 (Dropout)          (None, 3, 50)             0         \n",
      "_________________________________________________________________\n",
      "lstm_2 (LSTM)                (None, 50)                20200     \n",
      "_________________________________________________________________\n",
      "dropout_2 (Dropout)          (None, 50)                0         \n",
      "_________________________________________________________________\n",
      "dense_1 (Dense)              (None, 1)                 51        \n",
      "=================================================================\n",
      "Total params: 30,651\n",
      "Trainable params: 30,651\n",
      "Non-trainable params: 0\n",
      "_________________________________________________________________\n"
     ]
    }
   ],
   "source": [
    "# Summary\n",
    "model.summary()"
   ]
  },
  {
   "cell_type": "code",
   "execution_count": 33,
   "metadata": {},
   "outputs": [
    {
     "data": {
      "image/png": "[encoded data removed]",
      "text/plain": [
       "<Figure size 432x288 with 1 Axes>"
      ]
     },
     "metadata": {
      "needs_background": "light"
     },
     "output_type": "display_data"
    }
   ],
   "source": [
    "# Plot training and validation loss\n",
    "N = EPOCHS\n",
    "\n",
    "plt.plot(np.arange(0, N), H.history['loss'], label='train_loss')\n",
    "plt.plot(np.arange(0, N), H.history['val_loss'], label='val_loss')\n",
    "plt.title('Training - Loss')\n",
    "plt.xlabel('Epochs')\n",
    "plt.ylabel('Loss')\n",
    "plt.legend(loc='lower left')\n",
    "plt.savefig(\"./plot/LSTM_model2_training_plot.png\")"
   ]
  },
  {
   "cell_type": "code",
   "execution_count": 34,
   "metadata": {},
   "outputs": [],
   "source": [
    "# Prediction and inverse scale\n",
    "y_pred = model.predict(X_test)\n",
    "y_pred_realval = scaler.inverse_transform(y_pred)"
   ]
  },
  {
   "cell_type": "code",
   "execution_count": 35,
   "metadata": {},
   "outputs": [
    {
     "name": "stdout",
     "output_type": "stream",
     "text": [
      "Scaled RMSE:  0.07533754680237224\n",
      "Inverse scaled RMSE:  1441.6251818465314\n",
      "Scaled MAE:  0.04558165812137425\n",
      "Inverse scaled MAE:  873.0199050413405\n"
     ]
    }
   ],
   "source": [
    "# Accuracy\n",
    "lstm_rmse = math.sqrt(mean_squared_error(y_test, y_pred))\n",
    "lstm_mae = mean_absolute_error(y_test,y_pred)\n",
    "print('Scaled RMSE: ',lstm_rmse)\n",
    "print('Inverse scaled RMSE: ', scaler.inverse_transform(np.array(lstm_rmse).reshape(1,-1))[0][0])\n",
    "print('Scaled MAE: ',lstm_mae)\n",
    "print('Inverse scaled MAE: ', scaler.inverse_transform(np.array(lstm_mae).reshape(1,-1))[0][0])"
   ]
  },
  {
   "cell_type": "code",
   "execution_count": 36,
   "metadata": {},
   "outputs": [
    {
     "name": "stdout",
     "output_type": "stream",
     "text": [
      "(106, 1)\n",
      "(546, 1)\n"
     ]
    }
   ],
   "source": [
    "print(y_pred_realval.shape)\n",
    "print(np.array(forecast_data).reshape(len(forecast_data),1).shape)"
   ]
  },
  {
   "cell_type": "code",
   "execution_count": 37,
   "metadata": {},
   "outputs": [
    {
     "data": {
      "text/plain": [
       "[<matplotlib.lines.Line2D at 0x2365b691d60>]"
      ]
     },
     "execution_count": 37,
     "metadata": {},
     "output_type": "execute_result"
    },
    {
     "data": {
      "image/png": "[encoded data removed]",
      "text/plain": [
       "<Figure size 432x288 with 1 Axes>"
      ]
     },
     "metadata": {
      "needs_background": "light"
     },
     "output_type": "display_data"
    }
   ],
   "source": [
    "# Plotting the prediction and the actual values\n",
    "test_predict = np.empty_like(np.array(forecast_data).reshape(len(forecast_data),1))\n",
    "test_predict[:,:] = np.nan\n",
    "test_predict = np.where(test_predict == -9223372036854775808, np.nan, test_predict)\n",
    "test_predict[546-106:,:] = y_pred_realval\n",
    "plt.plot(np.array(forecast_data).reshape(len(forecast_data),1))\n",
    "plt.plot(test_predict)"
   ]
  },
  {
   "cell_type": "markdown",
   "metadata": {},
   "source": [
    "#### c) Bidirectional LSTM"
   ]
  },
  {
   "cell_type": "code",
   "execution_count": 38,
   "metadata": {},
   "outputs": [],
   "source": [
    "# Create model\n",
    "model = Sequential()\n",
    "model.add(Bidirectional(LSTM(units=50, input_shape=(3,1))))\n",
    "model.add(Dropout(0.1))\n",
    "model.add(Dense(1))\n",
    "model.compile(loss='mean_squared_error', optimizer='adam')"
   ]
  },
  {
   "cell_type": "code",
   "execution_count": 39,
   "metadata": {},
   "outputs": [
    {
     "name": "stdout",
     "output_type": "stream",
     "text": [
      "Epoch 1/50\n",
      "324/324 [==============================] - 5s 4ms/step - loss: 0.0118 - val_loss: 0.0146\n",
      "Epoch 2/50\n",
      "324/324 [==============================] - 1s 2ms/step - loss: 0.0054 - val_loss: 0.0113\n",
      "Epoch 3/50\n",
      "324/324 [==============================] - 1s 2ms/step - loss: 0.0041 - val_loss: 0.0090\n",
      "Epoch 4/50\n",
      "324/324 [==============================] - 1s 2ms/step - loss: 0.0034 - val_loss: 0.0073\n",
      "Epoch 5/50\n",
      "324/324 [==============================] - 1s 2ms/step - loss: 0.0030 - val_loss: 0.0055\n",
      "Epoch 6/50\n",
      "324/324 [==============================] - 1s 2ms/step - loss: 0.0023 - val_loss: 0.0043\n",
      "Epoch 7/50\n",
      "324/324 [==============================] - 1s 2ms/step - loss: 0.0016 - val_loss: 0.0056\n",
      "Epoch 8/50\n",
      "324/324 [==============================] - 1s 2ms/step - loss: 0.0013 - val_loss: 0.0107\n",
      "Epoch 9/50\n",
      "324/324 [==============================] - 1s 2ms/step - loss: 0.0019 - val_loss: 0.0039\n",
      "Epoch 10/50\n",
      "324/324 [==============================] - 1s 2ms/step - loss: 0.0012 - val_loss: 0.0040\n",
      "Epoch 11/50\n",
      "324/324 [==============================] - 1s 2ms/step - loss: 0.0012 - val_loss: 0.0061\n",
      "Epoch 12/50\n",
      "324/324 [==============================] - 1s 2ms/step - loss: 0.0012 - val_loss: 0.0081\n",
      "Epoch 13/50\n",
      "324/324 [==============================] - 1s 2ms/step - loss: 0.0011 - val_loss: 0.0038\n",
      "Epoch 14/50\n",
      "324/324 [==============================] - 1s 2ms/step - loss: 9.9644e-04 - val_loss: 0.0037\n",
      "Epoch 15/50\n",
      "324/324 [==============================] - 1s 2ms/step - loss: 0.0010 - val_loss: 0.0033\n",
      "Epoch 16/50\n",
      "324/324 [==============================] - 1s 2ms/step - loss: 7.3909e-04 - val_loss: 0.0129\n",
      "Epoch 17/50\n",
      "324/324 [==============================] - 1s 2ms/step - loss: 0.0020 - val_loss: 0.0041\n",
      "Epoch 18/50\n",
      "324/324 [==============================] - 1s 2ms/step - loss: 9.3290e-04 - val_loss: 0.0030\n",
      "Epoch 19/50\n",
      "324/324 [==============================] - 1s 2ms/step - loss: 7.1842e-04 - val_loss: 0.0027\n",
      "Epoch 20/50\n",
      "324/324 [==============================] - 1s 2ms/step - loss: 0.0011 - val_loss: 0.0027\n",
      "Epoch 21/50\n",
      "324/324 [==============================] - 1s 2ms/step - loss: 0.0010 - val_loss: 0.0025\n",
      "Epoch 22/50\n",
      "324/324 [==============================] - 1s 2ms/step - loss: 7.8022e-04 - val_loss: 0.0030\n",
      "Epoch 23/50\n",
      "324/324 [==============================] - 1s 2ms/step - loss: 5.9261e-04 - val_loss: 0.0020\n",
      "Epoch 24/50\n",
      "324/324 [==============================] - 1s 2ms/step - loss: 6.2584e-04 - val_loss: 0.0069\n",
      "Epoch 25/50\n",
      "324/324 [==============================] - 1s 2ms/step - loss: 0.0012 - val_loss: 0.0023\n",
      "Epoch 26/50\n",
      "324/324 [==============================] - 1s 2ms/step - loss: 5.9848e-04 - val_loss: 0.0024\n",
      "Epoch 27/50\n",
      "324/324 [==============================] - 1s 2ms/step - loss: 6.6312e-04 - val_loss: 0.0018\n",
      "Epoch 28/50\n",
      "324/324 [==============================] - 1s 2ms/step - loss: 9.5500e-04 - val_loss: 0.0019\n",
      "Epoch 29/50\n",
      "324/324 [==============================] - 1s 2ms/step - loss: 8.0620e-04 - val_loss: 0.0021\n",
      "Epoch 30/50\n",
      "324/324 [==============================] - 1s 2ms/step - loss: 6.3288e-04 - val_loss: 0.0021\n",
      "Epoch 31/50\n",
      "324/324 [==============================] - 1s 2ms/step - loss: 9.1154e-04 - val_loss: 0.0026\n",
      "Epoch 32/50\n",
      "324/324 [==============================] - 1s 2ms/step - loss: 0.0010 - val_loss: 0.0020\n",
      "Epoch 33/50\n",
      "324/324 [==============================] - 1s 2ms/step - loss: 6.3972e-04 - val_loss: 0.0018\n",
      "Epoch 34/50\n",
      "324/324 [==============================] - 1s 2ms/step - loss: 5.7241e-04 - val_loss: 0.0033\n",
      "Epoch 35/50\n",
      "324/324 [==============================] - 1s 2ms/step - loss: 9.5893e-04 - val_loss: 0.0019\n",
      "Epoch 36/50\n",
      "324/324 [==============================] - 1s 2ms/step - loss: 5.9385e-04 - val_loss: 0.0025\n",
      "Epoch 37/50\n",
      "324/324 [==============================] - 1s 2ms/step - loss: 5.7282e-04 - val_loss: 0.0016\n",
      "Epoch 38/50\n",
      "324/324 [==============================] - 1s 2ms/step - loss: 6.4992e-04 - val_loss: 0.0015\n",
      "Epoch 39/50\n",
      "324/324 [==============================] - 1s 2ms/step - loss: 6.5975e-04 - val_loss: 0.0017\n",
      "Epoch 40/50\n",
      "324/324 [==============================] - 1s 2ms/step - loss: 6.7261e-04 - val_loss: 0.0043\n",
      "Epoch 41/50\n",
      "324/324 [==============================] - 1s 2ms/step - loss: 0.0011 - val_loss: 0.0026\n",
      "Epoch 42/50\n",
      "324/324 [==============================] - 1s 2ms/step - loss: 6.7031e-04 - val_loss: 0.0017\n",
      "Epoch 43/50\n",
      "324/324 [==============================] - 1s 2ms/step - loss: 6.4299e-04 - val_loss: 0.0023\n",
      "Epoch 44/50\n",
      "324/324 [==============================] - 1s 2ms/step - loss: 5.7209e-04 - val_loss: 0.0014\n",
      "Epoch 45/50\n",
      "324/324 [==============================] - 1s 2ms/step - loss: 4.6742e-04 - val_loss: 0.0016\n",
      "Epoch 46/50\n",
      "324/324 [==============================] - 1s 2ms/step - loss: 6.1556e-04 - val_loss: 0.0018\n",
      "Epoch 47/50\n",
      "324/324 [==============================] - 1s 2ms/step - loss: 6.9337e-04 - val_loss: 0.0015\n",
      "Epoch 48/50\n",
      "324/324 [==============================] - 1s 2ms/step - loss: 7.6395e-04 - val_loss: 0.0018\n",
      "Epoch 49/50\n",
      "324/324 [==============================] - 1s 2ms/step - loss: 0.0011 - val_loss: 0.0023\n",
      "Epoch 50/50\n",
      "324/324 [==============================] - 1s 2ms/step - loss: 9.7487e-04 - val_loss: 0.0020\n"
     ]
    }
   ],
   "source": [
    "# Training\n",
    "EPOCHS = 50\n",
    "H = model.fit(X_train,y_train, epochs = EPOCHS, batch_size = 1, validation_split=0.25, shuffle=False, verbose = 1)"
   ]
  },
  {
   "cell_type": "code",
   "execution_count": 40,
   "metadata": {},
   "outputs": [
    {
     "name": "stdout",
     "output_type": "stream",
     "text": [
      "Model: \"sequential_2\"\n",
      "_________________________________________________________________\n",
      "Layer (type)                 Output Shape              Param #   \n",
      "=================================================================\n",
      "bidirectional (Bidirectional (1, 100)                  20800     \n",
      "_________________________________________________________________\n",
      "dropout_3 (Dropout)          (1, 100)                  0         \n",
      "_________________________________________________________________\n",
      "dense_2 (Dense)              (1, 1)                    101       \n",
      "=================================================================\n",
      "Total params: 20,901\n",
      "Trainable params: 20,901\n",
      "Non-trainable params: 0\n",
      "_________________________________________________________________\n"
     ]
    }
   ],
   "source": [
    "# Summary\n",
    "model.summary()"
   ]
  },
  {
   "cell_type": "code",
   "execution_count": 41,
   "metadata": {},
   "outputs": [
    {
     "data": {
      "image/png": "[encoded data removed]",
      "text/plain": [
       "<Figure size 432x288 with 1 Axes>"
      ]
     },
     "metadata": {
      "needs_background": "light"
     },
     "output_type": "display_data"
    }
   ],
   "source": [
    "# Plot training and validation loss\n",
    "N = EPOCHS\n",
    "\n",
    "plt.plot(np.arange(0, N), H.history['loss'], label='train_loss')\n",
    "plt.plot(np.arange(0, N), H.history['val_loss'], label='val_loss')\n",
    "plt.title('Training - Loss')\n",
    "plt.xlabel('Epochs')\n",
    "plt.ylabel('Loss')\n",
    "plt.legend(loc='lower left')\n",
    "plt.savefig(\"./plot/LSTM_model3_training_plot.png\")"
   ]
  },
  {
   "cell_type": "code",
   "execution_count": 42,
   "metadata": {},
   "outputs": [],
   "source": [
    "# Prediction and inverse scale\n",
    "y_pred = model.predict(X_test)\n",
    "y_pred_realval = scaler.inverse_transform(y_pred)"
   ]
  },
  {
   "cell_type": "code",
   "execution_count": 43,
   "metadata": {},
   "outputs": [
    {
     "name": "stdout",
     "output_type": "stream",
     "text": [
      "Scaled RMSE:  0.05363523545170041\n",
      "Inverse scaled RMSE:  1026.915714246543\n",
      "Scaled MAE:  0.04110357978995931\n",
      "Inverse scaled MAE:  787.4483062063324\n"
     ]
    }
   ],
   "source": [
    "# Accuracy\n",
    "lstm_rmse = math.sqrt(mean_squared_error(y_test, y_pred))\n",
    "lstm_mae = mean_absolute_error(y_test,y_pred)\n",
    "print('Scaled RMSE: ',lstm_rmse)\n",
    "print('Inverse scaled RMSE: ', scaler.inverse_transform(np.array(lstm_rmse).reshape(1,-1))[0][0])\n",
    "print('Scaled MAE: ',lstm_mae)\n",
    "print('Inverse scaled MAE: ', scaler.inverse_transform(np.array(lstm_mae).reshape(1,-1))[0][0])"
   ]
  },
  {
   "cell_type": "code",
   "execution_count": 44,
   "metadata": {},
   "outputs": [
    {
     "name": "stdout",
     "output_type": "stream",
     "text": [
      "(106, 1)\n",
      "(546, 1)\n"
     ]
    }
   ],
   "source": [
    "print(y_pred_realval.shape)\n",
    "print(np.array(forecast_data).reshape(len(forecast_data),1).shape)"
   ]
  },
  {
   "cell_type": "code",
   "execution_count": 45,
   "metadata": {},
   "outputs": [
    {
     "data": {
      "text/plain": [
       "[<matplotlib.lines.Line2D at 0x23653d6a610>]"
      ]
     },
     "execution_count": 45,
     "metadata": {},
     "output_type": "execute_result"
    },
    {
     "data": {
      "image/png": "[encoded data removed]",
      "text/plain": [
       "<Figure size 432x288 with 1 Axes>"
      ]
     },
     "metadata": {
      "needs_background": "light"
     },
     "output_type": "display_data"
    }
   ],
   "source": [
    "# Plotting the prediction and the actual values\n",
    "test_predict = np.empty_like(np.array(forecast_data).reshape(len(forecast_data),1))\n",
    "test_predict[:,:] = np.nan\n",
    "test_predict = np.where(test_predict == -9223372036854775808, np.nan, test_predict)\n",
    "test_predict[546-106:,:] = y_pred_realval\n",
    "plt.plot(np.array(forecast_data).reshape(len(forecast_data),1))\n",
    "plt.plot(test_predict)"
   ]
  },
  {
   "cell_type": "markdown",
   "metadata": {},
   "source": [
    "#### d) Stacked LSTM with relu activation function"
   ]
  },
  {
   "cell_type": "code",
   "execution_count": 46,
   "metadata": {},
   "outputs": [],
   "source": [
    "# Create model\n",
    "model = Sequential()\n",
    "\n",
    "model.add(LSTM(units=50, activation='relu', return_sequences = True, input_shape=(3,1)))\n",
    "model.add(Dropout(0.2))\n",
    "\n",
    "model.add(LSTM(units=50, activation='relu'))\n",
    "model.add(Dropout(0.2))\n",
    "\n",
    "model.add(Dense(1))\n",
    "\n",
    "model.compile(loss='mean_squared_error', optimizer='adam')"
   ]
  },
  {
   "cell_type": "code",
   "execution_count": 47,
   "metadata": {},
   "outputs": [
    {
     "name": "stdout",
     "output_type": "stream",
     "text": [
      "Epoch 1/50\n",
      "324/324 [==============================] - 2s 3ms/step - loss: 0.0187 - val_loss: 0.0231\n",
      "Epoch 2/50\n",
      "324/324 [==============================] - 1s 2ms/step - loss: 0.0090 - val_loss: 0.0199\n",
      "Epoch 3/50\n",
      "324/324 [==============================] - 1s 2ms/step - loss: 0.0075 - val_loss: 0.0164\n",
      "Epoch 4/50\n",
      "324/324 [==============================] - 1s 2ms/step - loss: 0.0070 - val_loss: 0.0142\n",
      "Epoch 5/50\n",
      "324/324 [==============================] - 1s 2ms/step - loss: 0.0048 - val_loss: 0.0120\n",
      "Epoch 6/50\n",
      "324/324 [==============================] - 1s 2ms/step - loss: 0.0050 - val_loss: 0.0075\n",
      "Epoch 7/50\n",
      "324/324 [==============================] - 1s 2ms/step - loss: 0.0039 - val_loss: 0.0062\n",
      "Epoch 8/50\n",
      "324/324 [==============================] - 1s 2ms/step - loss: 0.0036 - val_loss: 0.0043\n",
      "Epoch 9/50\n",
      "324/324 [==============================] - 1s 2ms/step - loss: 0.0027 - val_loss: 0.0052\n",
      "Epoch 10/50\n",
      "324/324 [==============================] - 1s 2ms/step - loss: 0.0024 - val_loss: 0.0042\n",
      "Epoch 11/50\n",
      "324/324 [==============================] - 1s 2ms/step - loss: 0.0026 - val_loss: 0.0075\n",
      "Epoch 12/50\n",
      "324/324 [==============================] - 1s 2ms/step - loss: 0.0035 - val_loss: 0.0045\n",
      "Epoch 13/50\n",
      "324/324 [==============================] - 1s 2ms/step - loss: 0.0019 - val_loss: 0.0044\n",
      "Epoch 14/50\n",
      "324/324 [==============================] - 1s 2ms/step - loss: 0.0023 - val_loss: 0.0075\n",
      "Epoch 15/50\n",
      "324/324 [==============================] - 1s 2ms/step - loss: 0.0036 - val_loss: 0.0048\n",
      "Epoch 16/50\n",
      "324/324 [==============================] - 1s 2ms/step - loss: 0.0019 - val_loss: 0.0040\n",
      "Epoch 17/50\n",
      "324/324 [==============================] - 1s 2ms/step - loss: 0.0014 - val_loss: 0.0031\n",
      "Epoch 18/50\n",
      "324/324 [==============================] - 1s 2ms/step - loss: 0.0015 - val_loss: 0.0075\n",
      "Epoch 19/50\n",
      "324/324 [==============================] - 1s 2ms/step - loss: 0.0015 - val_loss: 0.0040\n",
      "Epoch 20/50\n",
      "324/324 [==============================] - 1s 2ms/step - loss: 0.0030 - val_loss: 0.0065\n",
      "Epoch 21/50\n",
      "324/324 [==============================] - 1s 2ms/step - loss: 0.0032 - val_loss: 0.0040\n",
      "Epoch 22/50\n",
      "324/324 [==============================] - 1s 2ms/step - loss: 0.0020 - val_loss: 0.0035\n",
      "Epoch 23/50\n",
      "324/324 [==============================] - 1s 2ms/step - loss: 0.0012 - val_loss: 0.0062\n",
      "Epoch 24/50\n",
      "324/324 [==============================] - 1s 2ms/step - loss: 0.0015 - val_loss: 0.0022\n",
      "Epoch 25/50\n",
      "324/324 [==============================] - 1s 2ms/step - loss: 0.0017 - val_loss: 0.0030\n",
      "Epoch 26/50\n",
      "324/324 [==============================] - 1s 2ms/step - loss: 0.0018 - val_loss: 0.0031\n",
      "Epoch 27/50\n",
      "324/324 [==============================] - 1s 2ms/step - loss: 9.6459e-04 - val_loss: 0.0044\n",
      "Epoch 28/50\n",
      "324/324 [==============================] - 1s 2ms/step - loss: 0.0020 - val_loss: 0.0032\n",
      "Epoch 29/50\n",
      "324/324 [==============================] - 1s 2ms/step - loss: 0.0022 - val_loss: 0.0045\n",
      "Epoch 30/50\n",
      "324/324 [==============================] - 1s 2ms/step - loss: 0.0031 - val_loss: 0.0021\n",
      "Epoch 31/50\n",
      "324/324 [==============================] - 1s 2ms/step - loss: 0.0017 - val_loss: 0.0024\n",
      "Epoch 32/50\n",
      "324/324 [==============================] - 1s 2ms/step - loss: 0.0019 - val_loss: 0.0040\n",
      "Epoch 33/50\n",
      "324/324 [==============================] - 1s 2ms/step - loss: 0.0022 - val_loss: 0.0038\n",
      "Epoch 34/50\n",
      "324/324 [==============================] - 1s 2ms/step - loss: 0.0015 - val_loss: 0.0020\n",
      "Epoch 35/50\n",
      "324/324 [==============================] - 1s 2ms/step - loss: 0.0012 - val_loss: 0.0047\n",
      "Epoch 36/50\n",
      "324/324 [==============================] - 1s 2ms/step - loss: 0.0034 - val_loss: 0.0045\n",
      "Epoch 37/50\n",
      "324/324 [==============================] - 1s 2ms/step - loss: 0.0018 - val_loss: 0.0034\n",
      "Epoch 38/50\n",
      "324/324 [==============================] - 1s 2ms/step - loss: 0.0013 - val_loss: 0.0018\n",
      "Epoch 39/50\n",
      "324/324 [==============================] - 1s 2ms/step - loss: 0.0014 - val_loss: 0.0019\n",
      "Epoch 40/50\n",
      "324/324 [==============================] - 1s 2ms/step - loss: 0.0012 - val_loss: 0.0014\n",
      "Epoch 41/50\n",
      "324/324 [==============================] - 1s 2ms/step - loss: 0.0014 - val_loss: 0.0023\n",
      "Epoch 42/50\n",
      "324/324 [==============================] - 1s 2ms/step - loss: 0.0015 - val_loss: 0.0023\n",
      "Epoch 43/50\n",
      "324/324 [==============================] - 1s 2ms/step - loss: 0.0017 - val_loss: 0.0018\n",
      "Epoch 44/50\n",
      "324/324 [==============================] - 1s 2ms/step - loss: 0.0012 - val_loss: 0.0038\n",
      "Epoch 45/50\n",
      "324/324 [==============================] - 1s 2ms/step - loss: 0.0015 - val_loss: 0.0019\n",
      "Epoch 46/50\n",
      "324/324 [==============================] - 1s 2ms/step - loss: 0.0024 - val_loss: 0.0042\n",
      "Epoch 47/50\n",
      "324/324 [==============================] - 1s 2ms/step - loss: 0.0014 - val_loss: 0.0018\n",
      "Epoch 48/50\n",
      "324/324 [==============================] - 1s 2ms/step - loss: 0.0012 - val_loss: 0.0021\n",
      "Epoch 49/50\n",
      "324/324 [==============================] - 1s 2ms/step - loss: 0.0014 - val_loss: 0.0016\n",
      "Epoch 50/50\n",
      "324/324 [==============================] - 1s 2ms/step - loss: 0.0012 - val_loss: 0.0038\n"
     ]
    }
   ],
   "source": [
    "# Training\n",
    "EPOCHS = 50\n",
    "H = model.fit(X_train,y_train, epochs = EPOCHS, batch_size = 1, validation_split=0.25, shuffle=False, verbose = 1)"
   ]
  },
  {
   "cell_type": "code",
   "execution_count": 48,
   "metadata": {},
   "outputs": [
    {
     "name": "stdout",
     "output_type": "stream",
     "text": [
      "Model: \"sequential_3\"\n",
      "_________________________________________________________________\n",
      "Layer (type)                 Output Shape              Param #   \n",
      "=================================================================\n",
      "lstm_4 (LSTM)                (None, 3, 50)             10400     \n",
      "_________________________________________________________________\n",
      "dropout_4 (Dropout)          (None, 3, 50)             0         \n",
      "_________________________________________________________________\n",
      "lstm_5 (LSTM)                (None, 50)                20200     \n",
      "_________________________________________________________________\n",
      "dropout_5 (Dropout)          (None, 50)                0         \n",
      "_________________________________________________________________\n",
      "dense_3 (Dense)              (None, 1)                 51        \n",
      "=================================================================\n",
      "Total params: 30,651\n",
      "Trainable params: 30,651\n",
      "Non-trainable params: 0\n",
      "_________________________________________________________________\n"
     ]
    }
   ],
   "source": [
    "# Summary\n",
    "model.summary()"
   ]
  },
  {
   "cell_type": "code",
   "execution_count": 49,
   "metadata": {},
   "outputs": [
    {
     "data": {
      "image/png": "[encoded data removed]",
      "text/plain": [
       "<Figure size 432x288 with 1 Axes>"
      ]
     },
     "metadata": {
      "needs_background": "light"
     },
     "output_type": "display_data"
    }
   ],
   "source": [
    "# Plot training and validation loss\n",
    "N = EPOCHS\n",
    "\n",
    "plt.plot(np.arange(0, N), H.history['loss'], label='train_loss')\n",
    "plt.plot(np.arange(0, N), H.history['val_loss'], label='val_loss')\n",
    "plt.title('Training - Loss')\n",
    "plt.xlabel('Epochs')\n",
    "plt.ylabel('Loss')\n",
    "plt.legend(loc='lower left')\n",
    "plt.savefig(\"./plot/LSTM_model4_training_plot.png\")"
   ]
  },
  {
   "cell_type": "code",
   "execution_count": 50,
   "metadata": {},
   "outputs": [],
   "source": [
    "# Prediction and inverse scale\n",
    "y_pred = model.predict(X_test)\n",
    "y_pred_realval = scaler.inverse_transform(y_pred)"
   ]
  },
  {
   "cell_type": "code",
   "execution_count": 51,
   "metadata": {},
   "outputs": [
    {
     "name": "stdout",
     "output_type": "stream",
     "text": [
      "Scaled RMSE:  0.0689846494140442\n",
      "Inverse scaled RMSE:  1320.2276656529707\n",
      "Scaled MAE:  0.03821937450071901\n",
      "Inverse scaled MAE:  732.3340273342395\n"
     ]
    }
   ],
   "source": [
    "# Accuracy\n",
    "lstm_rmse = math.sqrt(mean_squared_error(y_test, y_pred))\n",
    "lstm_mae = mean_absolute_error(y_test,y_pred)\n",
    "print('Scaled RMSE: ',lstm_rmse)\n",
    "print('Inverse scaled RMSE: ', scaler.inverse_transform(np.array(lstm_rmse).reshape(1,-1))[0][0])\n",
    "print('Scaled MAE: ',lstm_mae)\n",
    "print('Inverse scaled MAE: ', scaler.inverse_transform(np.array(lstm_mae).reshape(1,-1))[0][0])"
   ]
  },
  {
   "cell_type": "code",
   "execution_count": 52,
   "metadata": {},
   "outputs": [
    {
     "name": "stdout",
     "output_type": "stream",
     "text": [
      "(106, 1)\n",
      "(546, 1)\n"
     ]
    }
   ],
   "source": [
    "print(y_pred_realval.shape)\n",
    "print(np.array(forecast_data).reshape(len(forecast_data),1).shape)"
   ]
  },
  {
   "cell_type": "code",
   "execution_count": 53,
   "metadata": {},
   "outputs": [
    {
     "data": {
      "text/plain": [
       "[<matplotlib.lines.Line2D at 0x23655b55c10>]"
      ]
     },
     "execution_count": 53,
     "metadata": {},
     "output_type": "execute_result"
    },
    {
     "data": {
      "image/png": "[encoded data removed]",
      "text/plain": [
       "<Figure size 432x288 with 1 Axes>"
      ]
     },
     "metadata": {
      "needs_background": "light"
     },
     "output_type": "display_data"
    }
   ],
   "source": [
    "# Plotting the prediction and the actual values\n",
    "test_predict = np.empty_like(np.array(forecast_data).reshape(len(forecast_data),1))\n",
    "test_predict[:,:] = np.nan\n",
    "test_predict = np.where(test_predict == -9223372036854775808, np.nan, test_predict)\n",
    "test_predict[546-106:,:] = y_pred_realval\n",
    "plt.plot(np.array(forecast_data).reshape(len(forecast_data),1))\n",
    "plt.plot(test_predict)"
   ]
  },
  {
   "cell_type": "markdown",
   "metadata": {},
   "source": [
    "### 6. Forecasting:"
   ]
  },
  {
   "cell_type": "markdown",
   "metadata": {},
   "source": [
    "#### Predicting the next peak"
   ]
  },
  {
   "cell_type": "code",
   "execution_count": 155,
   "metadata": {},
   "outputs": [
    {
     "data": {
      "text/plain": [
       "Timestamp('2020-06-15 00:00:00')"
      ]
     },
     "execution_count": 155,
     "metadata": {},
     "output_type": "execute_result"
    }
   ],
   "source": [
    "# Last observation\n",
    "forecast_data.tail(1).index[0]"
   ]
  },
  {
   "cell_type": "markdown",
   "metadata": {},
   "source": [
    "Above we saw that the peak is around 12,01,02, so we are going to predict the next 8 months."
   ]
  },
  {
   "cell_type": "code",
   "execution_count": 156,
   "metadata": {},
   "outputs": [
    {
     "data": {
      "text/plain": [
       "110"
      ]
     },
     "execution_count": 156,
     "metadata": {},
     "output_type": "execute_result"
    }
   ],
   "source": [
    "len(test_data)"
   ]
  },
  {
   "cell_type": "code",
   "execution_count": 157,
   "metadata": {},
   "outputs": [
    {
     "name": "stdout",
     "output_type": "stream",
     "text": [
      "[0.009653192013502121, 0.022593602538108826, 0.04223279654979706, 0.06764882057905197, 0.10078657418489456, 0.1423988789319992, 0.1937461644411087, 0.2551858723163605, 0.3260883390903473, 0.4039219915866852, 0.48386266827583313, 0.55889892578125, 0.6211710572242737, 0.6643544435501099, 0.685956597328186, 0.687891960144043, 0.6749681234359741, 0.6526792645454407, 0.6257950663566589, 0.5979692339897156, 0.5718380808830261, 0.5492026209831238, 0.531173050403595, 0.5182770490646362, 0.5105537176132202, 0.5076433420181274, 0.508878231048584, 0.5133741497993469, 0.5201229453086853, 0.5280859470367432, 0.5362851619720459, 0.5438847541809082]\n",
      "---------------------------------\n",
      "[[[-5.23313622e-05]\n",
      "  [ 1.04662724e-04]\n",
      "  [-1.04662724e-04]]\n",
      "\n",
      " [[ 1.04662724e-04]\n",
      "  [-1.04662724e-04]\n",
      "  [ 9.65319201e-03]]\n",
      "\n",
      " [[-1.04662724e-04]\n",
      "  [ 9.65319201e-03]\n",
      "  [ 2.25936025e-02]]\n",
      "\n",
      " [[ 9.65319201e-03]\n",
      "  [ 2.25936025e-02]\n",
      "  [ 4.22327965e-02]]\n",
      "\n",
      " [[ 2.25936025e-02]\n",
      "  [ 4.22327965e-02]\n",
      "  [ 6.76488206e-02]]\n",
      "\n",
      " [[ 4.22327965e-02]\n",
      "  [ 6.76488206e-02]\n",
      "  [ 1.00786574e-01]]\n",
      "\n",
      " [[ 6.76488206e-02]\n",
      "  [ 1.00786574e-01]\n",
      "  [ 1.42398879e-01]]\n",
      "\n",
      " [[ 1.00786574e-01]\n",
      "  [ 1.42398879e-01]\n",
      "  [ 1.93746164e-01]]\n",
      "\n",
      " [[ 1.42398879e-01]\n",
      "  [ 1.93746164e-01]\n",
      "  [ 2.55185872e-01]]\n",
      "\n",
      " [[ 1.93746164e-01]\n",
      "  [ 2.55185872e-01]\n",
      "  [ 3.26088339e-01]]\n",
      "\n",
      " [[ 2.55185872e-01]\n",
      "  [ 3.26088339e-01]\n",
      "  [ 4.03921992e-01]]\n",
      "\n",
      " [[ 3.26088339e-01]\n",
      "  [ 4.03921992e-01]\n",
      "  [ 4.83862668e-01]]\n",
      "\n",
      " [[ 4.03921992e-01]\n",
      "  [ 4.83862668e-01]\n",
      "  [ 5.58898926e-01]]\n",
      "\n",
      " [[ 4.83862668e-01]\n",
      "  [ 5.58898926e-01]\n",
      "  [ 6.21171057e-01]]\n",
      "\n",
      " [[ 5.58898926e-01]\n",
      "  [ 6.21171057e-01]\n",
      "  [ 6.64354444e-01]]\n",
      "\n",
      " [[ 6.21171057e-01]\n",
      "  [ 6.64354444e-01]\n",
      "  [ 6.85956597e-01]]\n",
      "\n",
      " [[ 6.64354444e-01]\n",
      "  [ 6.85956597e-01]\n",
      "  [ 6.87891960e-01]]\n",
      "\n",
      " [[ 6.85956597e-01]\n",
      "  [ 6.87891960e-01]\n",
      "  [ 6.74968123e-01]]\n",
      "\n",
      " [[ 6.87891960e-01]\n",
      "  [ 6.74968123e-01]\n",
      "  [ 6.52679265e-01]]\n",
      "\n",
      " [[ 6.74968123e-01]\n",
      "  [ 6.52679265e-01]\n",
      "  [ 6.25795066e-01]]\n",
      "\n",
      " [[ 6.52679265e-01]\n",
      "  [ 6.25795066e-01]\n",
      "  [ 5.97969234e-01]]\n",
      "\n",
      " [[ 6.25795066e-01]\n",
      "  [ 5.97969234e-01]\n",
      "  [ 5.71838081e-01]]\n",
      "\n",
      " [[ 5.97969234e-01]\n",
      "  [ 5.71838081e-01]\n",
      "  [ 5.49202621e-01]]\n",
      "\n",
      " [[ 5.71838081e-01]\n",
      "  [ 5.49202621e-01]\n",
      "  [ 5.31173050e-01]]\n",
      "\n",
      " [[ 5.49202621e-01]\n",
      "  [ 5.31173050e-01]\n",
      "  [ 5.18277049e-01]]\n",
      "\n",
      " [[ 5.31173050e-01]\n",
      "  [ 5.18277049e-01]\n",
      "  [ 5.10553718e-01]]\n",
      "\n",
      " [[ 5.18277049e-01]\n",
      "  [ 5.10553718e-01]\n",
      "  [ 5.07643342e-01]]\n",
      "\n",
      " [[ 5.10553718e-01]\n",
      "  [ 5.07643342e-01]\n",
      "  [ 5.08878231e-01]]\n",
      "\n",
      " [[ 5.07643342e-01]\n",
      "  [ 5.08878231e-01]\n",
      "  [ 5.13374150e-01]]\n",
      "\n",
      " [[ 5.08878231e-01]\n",
      "  [ 5.13374150e-01]\n",
      "  [ 5.20122945e-01]]\n",
      "\n",
      " [[ 5.13374150e-01]\n",
      "  [ 5.20122945e-01]\n",
      "  [ 5.28085947e-01]]\n",
      "\n",
      " [[ 5.20122945e-01]\n",
      "  [ 5.28085947e-01]\n",
      "  [ 5.36285162e-01]]\n",
      "\n",
      " [[ 5.28085947e-01]\n",
      "  [ 5.36285162e-01]\n",
      "  [ 5.43884754e-01]]]\n"
     ]
    }
   ],
   "source": [
    "# We need the last 3 value from the test data to start the prediction\n",
    "x_input = test_data_scaled[len(test_data_scaled)-3:].reshape(1,-1)\n",
    "\n",
    "# x_input to list\n",
    "temp_input = list(x_input)\n",
    "temp_input = temp_input[0].tolist()\n",
    "\n",
    "# Prediction_array\n",
    "prediction_arr = x_input.reshape(3,1)\n",
    "\n",
    "# Find next 32 (8 months == 32 weeks) value\n",
    "output = []\n",
    "time_step = 3\n",
    "i = 0\n",
    "\n",
    "while(i<32):\n",
    "    if(len(temp_input)>3):\n",
    "        # Last 3 element after the first loop\n",
    "        x_input = np.array(temp_input[1:])\n",
    "        # Reshaping\n",
    "        x_input = x_input.reshape(1, time_step, 1)\n",
    "        # Predict\n",
    "        y_hat = model.predict(x_input, verbose = 0)\n",
    "        \n",
    "        # Add to final pred arr\n",
    "        temp_arr = np.vstack((x_input[:,1:].reshape(2,1),y_hat))\n",
    "        prediction_arr = np.append(prediction_arr,temp_arr.reshape(1,3,1), axis=0)\n",
    "        \n",
    "        # Adding to the temp list\n",
    "        temp_input.append(y_hat[0][0].tolist())\n",
    "        # Change temp list to the last 3 value\n",
    "        temp_input = temp_input[1:]\n",
    "        # Add prediction to output\n",
    "        output.append(y_hat[0][0].tolist())\n",
    "        i = i+1\n",
    "    \n",
    "    else:\n",
    "        # Last 3 value reshape and predict\n",
    "        x_input = x_input.reshape(1, time_step, 1)\n",
    "        y_hat = model.predict(x_input, verbose = 0)\n",
    "        \n",
    "        # Add to final prediction arr\n",
    "        temp_arr = np.vstack((x_input[:,1:].reshape(2,1),y_hat))\n",
    "        prediction_arr = np.stack((prediction_arr,temp_arr))\n",
    "        \n",
    "        # Adding the value to temp input list\n",
    "        temp_input.append(y_hat[0][0].tolist())\n",
    "        # Adding the value to output list\n",
    "        output.append(y_hat[0][0].tolist())\n",
    "        i = i+1\n",
    "\n",
    "prediction_arr = prediction_arr.reshape(prediction_arr.shape[0],prediction_arr.shape[1],1)\n",
    "print(output)\n",
    "print('---------------------------------')\n",
    "print(prediction_arr)"
   ]
  },
  {
   "cell_type": "code",
   "execution_count": 158,
   "metadata": {},
   "outputs": [],
   "source": [
    "# Predict and inverse scale\n",
    "y_pred_2yrs = model.predict(prediction_arr)\n",
    "y_pred_2yrs = scaler.inverse_transform(y_pred_2yrs)"
   ]
  },
  {
   "cell_type": "code",
   "execution_count": 159,
   "metadata": {},
   "outputs": [
    {
     "name": "stdout",
     "output_type": "stream",
     "text": [
      "546\n",
      "33\n"
     ]
    }
   ],
   "source": [
    "print(len(forecast_data))\n",
    "print(len(y_pred_2yrs))"
   ]
  },
  {
   "cell_type": "code",
   "execution_count": 160,
   "metadata": {},
   "outputs": [
    {
     "data": {
      "text/plain": [
       "[<matplotlib.lines.Line2D at 0x1c26c7fb340>]"
      ]
     },
     "execution_count": 160,
     "metadata": {},
     "output_type": "execute_result"
    },
    {
     "data": {
      "image/png": "[encoded data removed]",
      "text/plain": [
       "<Figure size 432x288 with 1 Axes>"
      ]
     },
     "metadata": {
      "needs_background": "light"
     },
     "output_type": "display_data"
    }
   ],
   "source": [
    "# Plot the prediction\n",
    "plt.plot(np.arange(0,546),forecast_data)\n",
    "plt.plot(np.arange(546,546+33),y_pred_2yrs)"
   ]
  },
  {
   "cell_type": "code",
   "execution_count": 161,
   "metadata": {},
   "outputs": [],
   "source": [
    "# Get the dates for the predictions, and put it in a dataframe\n",
    "last_date = fludat_pivot.tail(1)['sdate']\n",
    "yhat_temp = y_pred_2yrs.reshape(len(y_pred_2yrs),)\n",
    "dates = []\n",
    "\n",
    "for i in range(len(yhat_temp)):\n",
    "    last_date = last_date + datetime.timedelta(days=7)\n",
    "    dates.append(last_date)"
   ]
  },
  {
   "cell_type": "code",
   "execution_count": 162,
   "metadata": {},
   "outputs": [],
   "source": [
    "df_pred = pd.DataFrame({'Dates':dates,\n",
    "                        'Predicted_value':yhat_temp})"
   ]
  },
  {
   "cell_type": "code",
   "execution_count": 163,
   "metadata": {},
   "outputs": [
    {
     "data": {
      "text/html": [
       "<div>\n",
       "<style scoped>\n",
       "    .dataframe tbody tr th:only-of-type {\n",
       "        vertical-align: middle;\n",
       "    }\n",
       "\n",
       "    .dataframe tbody tr th {\n",
       "        vertical-align: top;\n",
       "    }\n",
       "\n",
       "    .dataframe thead th {\n",
       "        text-align: right;\n",
       "    }\n",
       "</style>\n",
       "<table border=\"1\" class=\"dataframe\">\n",
       "  <thead>\n",
       "    <tr style=\"text-align: right;\">\n",
       "      <th></th>\n",
       "      <th>Dates</th>\n",
       "      <th>Predicted_value</th>\n",
       "    </tr>\n",
       "  </thead>\n",
       "  <tbody>\n",
       "    <tr>\n",
       "      <th>0</th>\n",
       "      <td>545   2020-06-22\n",
       "Name: sdate, dtype: datetime6...</td>\n",
       "      <td>186.462845</td>\n",
       "    </tr>\n",
       "    <tr>\n",
       "      <th>1</th>\n",
       "      <td>545   2020-06-29\n",
       "Name: sdate, dtype: datetime6...</td>\n",
       "      <td>433.741058</td>\n",
       "    </tr>\n",
       "    <tr>\n",
       "      <th>2</th>\n",
       "      <td>545   2020-07-06\n",
       "Name: sdate, dtype: datetime6...</td>\n",
       "      <td>809.026367</td>\n",
       "    </tr>\n",
       "    <tr>\n",
       "      <th>3</th>\n",
       "      <td>545   2020-07-13\n",
       "Name: sdate, dtype: datetime6...</td>\n",
       "      <td>1294.701416</td>\n",
       "    </tr>\n",
       "    <tr>\n",
       "      <th>4</th>\n",
       "      <td>545   2020-07-20\n",
       "Name: sdate, dtype: datetime6...</td>\n",
       "      <td>1927.930542</td>\n",
       "    </tr>\n",
       "  </tbody>\n",
       "</table>\n",
       "</div>"
      ],
      "text/plain": [
       "                                               Dates  Predicted_value\n",
       "0  545   2020-06-22\n",
       "Name: sdate, dtype: datetime6...       186.462845\n",
       "1  545   2020-06-29\n",
       "Name: sdate, dtype: datetime6...       433.741058\n",
       "2  545   2020-07-06\n",
       "Name: sdate, dtype: datetime6...       809.026367\n",
       "3  545   2020-07-13\n",
       "Name: sdate, dtype: datetime6...      1294.701416\n",
       "4  545   2020-07-20\n",
       "Name: sdate, dtype: datetime6...      1927.930542"
      ]
     },
     "execution_count": 163,
     "metadata": {},
     "output_type": "execute_result"
    }
   ],
   "source": [
    "df_pred.head()"
   ]
  },
  {
   "cell_type": "code",
   "execution_count": 164,
   "metadata": {},
   "outputs": [
    {
     "data": {
      "text/html": [
       "<div>\n",
       "<style scoped>\n",
       "    .dataframe tbody tr th:only-of-type {\n",
       "        vertical-align: middle;\n",
       "    }\n",
       "\n",
       "    .dataframe tbody tr th {\n",
       "        vertical-align: top;\n",
       "    }\n",
       "\n",
       "    .dataframe thead th {\n",
       "        text-align: right;\n",
       "    }\n",
       "</style>\n",
       "<table border=\"1\" class=\"dataframe\">\n",
       "  <thead>\n",
       "    <tr style=\"text-align: right;\">\n",
       "      <th></th>\n",
       "      <th>Dates</th>\n",
       "      <th>Predicted_value</th>\n",
       "    </tr>\n",
       "  </thead>\n",
       "  <tbody>\n",
       "    <tr>\n",
       "      <th>0</th>\n",
       "      <td>2020-06-22</td>\n",
       "      <td>186.462845</td>\n",
       "    </tr>\n",
       "    <tr>\n",
       "      <th>1</th>\n",
       "      <td>2020-06-29</td>\n",
       "      <td>433.741058</td>\n",
       "    </tr>\n",
       "    <tr>\n",
       "      <th>2</th>\n",
       "      <td>2020-07-06</td>\n",
       "      <td>809.026367</td>\n",
       "    </tr>\n",
       "    <tr>\n",
       "      <th>3</th>\n",
       "      <td>2020-07-13</td>\n",
       "      <td>1294.701416</td>\n",
       "    </tr>\n",
       "    <tr>\n",
       "      <th>4</th>\n",
       "      <td>2020-07-20</td>\n",
       "      <td>1927.930542</td>\n",
       "    </tr>\n",
       "  </tbody>\n",
       "</table>\n",
       "</div>"
      ],
      "text/plain": [
       "       Dates  Predicted_value\n",
       "0 2020-06-22       186.462845\n",
       "1 2020-06-29       433.741058\n",
       "2 2020-07-06       809.026367\n",
       "3 2020-07-13      1294.701416\n",
       "4 2020-07-20      1927.930542"
      ]
     },
     "execution_count": 164,
     "metadata": {},
     "output_type": "execute_result"
    }
   ],
   "source": [
    "# Dates column cleaning\n",
    "df_pred['Dates'] = df_pred['Dates'].apply(lambda x: str(x).split(' ')[3].replace('\\nName:',''))\n",
    "df_pred['Dates'] = pd.to_datetime(df_pred['Dates'])\n",
    "\n",
    "df_pred.head()"
   ]
  },
  {
   "cell_type": "code",
   "execution_count": 165,
   "metadata": {},
   "outputs": [
    {
     "data": {
      "text/html": [
       "<div>\n",
       "<style scoped>\n",
       "    .dataframe tbody tr th:only-of-type {\n",
       "        vertical-align: middle;\n",
       "    }\n",
       "\n",
       "    .dataframe tbody tr th {\n",
       "        vertical-align: top;\n",
       "    }\n",
       "\n",
       "    .dataframe thead th {\n",
       "        text-align: right;\n",
       "    }\n",
       "</style>\n",
       "<table border=\"1\" class=\"dataframe\">\n",
       "  <thead>\n",
       "    <tr style=\"text-align: right;\">\n",
       "      <th></th>\n",
       "      <th>Dates</th>\n",
       "      <th>Predicted_value</th>\n",
       "    </tr>\n",
       "  </thead>\n",
       "  <tbody>\n",
       "    <tr>\n",
       "      <th>15</th>\n",
       "      <td>2020-10-05</td>\n",
       "      <td>13146.928711</td>\n",
       "    </tr>\n",
       "  </tbody>\n",
       "</table>\n",
       "</div>"
      ],
      "text/plain": [
       "        Dates  Predicted_value\n",
       "15 2020-10-05     13146.928711"
      ]
     },
     "execution_count": 165,
     "metadata": {},
     "output_type": "execute_result"
    }
   ],
   "source": [
    "# Peak\n",
    "df_pred.loc[df_pred['Predicted_value'] == max(df_pred['Predicted_value'])]"
   ]
  },
  {
   "cell_type": "markdown",
   "metadata": {},
   "source": [
    "We can see that the final model did not capture the time series characteristic well enough, we need further hyperparameter tuning for developing a better model."
   ]
  },
  {
   "cell_type": "code",
   "execution_count": 62,
   "metadata": {},
   "outputs": [
    {
     "data": {
      "text/html": [
       "<div>\n",
       "<style scoped>\n",
       "    .dataframe tbody tr th:only-of-type {\n",
       "        vertical-align: middle;\n",
       "    }\n",
       "\n",
       "    .dataframe tbody tr th {\n",
       "        vertical-align: top;\n",
       "    }\n",
       "\n",
       "    .dataframe thead th {\n",
       "        text-align: right;\n",
       "    }\n",
       "</style>\n",
       "<table border=\"1\" class=\"dataframe\">\n",
       "  <thead>\n",
       "    <tr style=\"text-align: right;\">\n",
       "      <th></th>\n",
       "      <th>Models</th>\n",
       "      <th>RMSE</th>\n",
       "      <th>MAE</th>\n",
       "    </tr>\n",
       "  </thead>\n",
       "  <tbody>\n",
       "    <tr>\n",
       "      <th>0</th>\n",
       "      <td>STLF</td>\n",
       "      <td>4228.54</td>\n",
       "      <td>3882.91</td>\n",
       "    </tr>\n",
       "    <tr>\n",
       "      <th>1</th>\n",
       "      <td>ARIMA</td>\n",
       "      <td>3685.53</td>\n",
       "      <td>2403.80</td>\n",
       "    </tr>\n",
       "    <tr>\n",
       "      <th>2</th>\n",
       "      <td>TBATS</td>\n",
       "      <td>2529.20</td>\n",
       "      <td>1297.30</td>\n",
       "    </tr>\n",
       "    <tr>\n",
       "      <th>3</th>\n",
       "      <td>Vanilla_LSTM</td>\n",
       "      <td>894.93</td>\n",
       "      <td>522.59</td>\n",
       "    </tr>\n",
       "    <tr>\n",
       "      <th>4</th>\n",
       "      <td>Stacked_LSTM</td>\n",
       "      <td>1441.63</td>\n",
       "      <td>873.02</td>\n",
       "    </tr>\n",
       "    <tr>\n",
       "      <th>5</th>\n",
       "      <td>Bidirectional_LSTM</td>\n",
       "      <td>1026.92</td>\n",
       "      <td>787.45</td>\n",
       "    </tr>\n",
       "    <tr>\n",
       "      <th>6</th>\n",
       "      <td>Stacked_LSTM_relu</td>\n",
       "      <td>1320.23</td>\n",
       "      <td>732.33</td>\n",
       "    </tr>\n",
       "  </tbody>\n",
       "</table>\n",
       "</div>"
      ],
      "text/plain": [
       "               Models     RMSE      MAE\n",
       "0                STLF  4228.54  3882.91\n",
       "1               ARIMA  3685.53  2403.80\n",
       "2               TBATS  2529.20  1297.30\n",
       "3        Vanilla_LSTM   894.93   522.59\n",
       "4        Stacked_LSTM  1441.63   873.02\n",
       "5  Bidirectional_LSTM  1026.92   787.45\n",
       "6   Stacked_LSTM_relu  1320.23   732.33"
      ]
     },
     "execution_count": 62,
     "metadata": {},
     "output_type": "execute_result"
    }
   ],
   "source": [
    "# Final summary of model performance\n",
    "models_list = ['STLF', 'ARIMA','TBATS','Vanilla_LSTM','Stacked_LSTM','Bidirectional_LSTM','Stacked_LSTM_relu']\n",
    "rmse_list = [4228.54, 3685.53, 2529.2, 894.93, 1441.63, 1026.92, 1320.23]\n",
    "mae_list = [3882.91, 2403.8, 1297.3, 522.59, 873.02, 787.45, 732.33]\n",
    "\n",
    "df_summary  = pd.DataFrame({'Models':models_list,\n",
    "                            'RMSE': rmse_list,\n",
    "                            'MAE': mae_list})\n",
    "\n",
    "df_summary"
   ]
  },
  {
   "cell_type": "code",
   "execution_count": 64,
   "metadata": {},
   "outputs": [],
   "source": [
    "# Export summary table to png\n",
    "dfi.export(df_summary, './plot/df_summary.png')"
   ]
  }
 ],
 "metadata": {
  "kernelspec": {
   "display_name": "Python 3",
   "language": "python",
   "name": "python3"
  },
  "language_info": {
   "codemirror_mode": {
    "name": "ipython",
    "version": 3
   },
   "file_extension": ".py",
   "mimetype": "text/x-python",
   "name": "python",
   "nbconvert_exporter": "python",
   "pygments_lexer": "ipython3",
   "version": "3.8.5"
  }
 },
 "nbformat": 4,
 "nbformat_minor": 4
}
