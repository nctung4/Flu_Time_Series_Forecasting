{
 "cells": [
  {
   "cell_type": "markdown",
   "metadata": {},
   "source": [
    "In this notebook I will apply the LSTM model into the data which was prepared in R."
   ]
  },
  {
   "cell_type": "markdown",
   "metadata": {},
   "source": [
    "### 1. Importing the libraries"
   ]
  },
  {
   "cell_type": "code",
   "execution_count": 229,
   "metadata": {},
   "outputs": [],
   "source": [
    "import pandas as pd\n",
    "import datetime\n",
    "import matplotlib.pyplot as plt\n",
    "import numpy as np\n",
    "import math\n",
    "import datetime\n",
    "from sklearn.preprocessing import MinMaxScaler\n",
    "from sklearn.metrics import mean_squared_error\n",
    "from tensorflow.keras.models import Sequential\n",
    "from tensorflow.keras.layers import Dense, LSTM, Bidirectional, Dropout"
   ]
  },
  {
   "cell_type": "markdown",
   "metadata": {},
   "source": [
    "### 2. Importing the dataset"
   ]
  },
  {
   "cell_type": "code",
   "execution_count": 2,
   "metadata": {},
   "outputs": [],
   "source": [
    "fludat_pivot = pd.read_csv('./dataset/Flu_pivot.csv')"
   ]
  },
  {
   "cell_type": "code",
   "execution_count": 3,
   "metadata": {},
   "outputs": [
    {
     "name": "stdout",
     "output_type": "stream",
     "text": [
      "<class 'pandas.core.frame.DataFrame'>\n",
      "RangeIndex: 546 entries, 0 to 545\n",
      "Data columns (total 5 columns):\n",
      " #   Column     Non-Null Count  Dtype \n",
      "---  ------     --------------  ----- \n",
      " 0   sdate      546 non-null    object\n",
      " 1   Processed  546 non-null    int64 \n",
      " 2   A_total    546 non-null    int64 \n",
      " 3   B_total    546 non-null    int64 \n",
      " 4   All_total  546 non-null    int64 \n",
      "dtypes: int64(4), object(1)\n",
      "memory usage: 21.5+ KB\n"
     ]
    }
   ],
   "source": [
    "fludat_pivot.info()"
   ]
  },
  {
   "cell_type": "code",
   "execution_count": 4,
   "metadata": {},
   "outputs": [],
   "source": [
    "# Parsing to datetime\n",
    "fludat_pivot['sdate'] = pd.to_datetime(fludat_pivot['sdate'])"
   ]
  },
  {
   "cell_type": "markdown",
   "metadata": {},
   "source": [
    "### 3. Data understanding"
   ]
  },
  {
   "cell_type": "code",
   "execution_count": 5,
   "metadata": {},
   "outputs": [
    {
     "data": {
      "text/html": [
       "<div>\n",
       "<style scoped>\n",
       "    .dataframe tbody tr th:only-of-type {\n",
       "        vertical-align: middle;\n",
       "    }\n",
       "\n",
       "    .dataframe tbody tr th {\n",
       "        vertical-align: top;\n",
       "    }\n",
       "\n",
       "    .dataframe thead th {\n",
       "        text-align: right;\n",
       "    }\n",
       "</style>\n",
       "<table border=\"1\" class=\"dataframe\">\n",
       "  <thead>\n",
       "    <tr style=\"text-align: right;\">\n",
       "      <th></th>\n",
       "      <th>sdate</th>\n",
       "      <th>Processed</th>\n",
       "      <th>A_total</th>\n",
       "      <th>B_total</th>\n",
       "      <th>All_total</th>\n",
       "    </tr>\n",
       "  </thead>\n",
       "  <tbody>\n",
       "    <tr>\n",
       "      <th>0</th>\n",
       "      <td>2010-01-04</td>\n",
       "      <td>9312</td>\n",
       "      <td>1999</td>\n",
       "      <td>1</td>\n",
       "      <td>2000</td>\n",
       "    </tr>\n",
       "    <tr>\n",
       "      <th>1</th>\n",
       "      <td>2010-01-11</td>\n",
       "      <td>10728</td>\n",
       "      <td>1404</td>\n",
       "      <td>15</td>\n",
       "      <td>1419</td>\n",
       "    </tr>\n",
       "    <tr>\n",
       "      <th>2</th>\n",
       "      <td>2010-01-18</td>\n",
       "      <td>9027</td>\n",
       "      <td>1135</td>\n",
       "      <td>49</td>\n",
       "      <td>1184</td>\n",
       "    </tr>\n",
       "    <tr>\n",
       "      <th>3</th>\n",
       "      <td>2010-01-25</td>\n",
       "      <td>8030</td>\n",
       "      <td>515</td>\n",
       "      <td>18</td>\n",
       "      <td>533</td>\n",
       "    </tr>\n",
       "    <tr>\n",
       "      <th>4</th>\n",
       "      <td>2010-02-01</td>\n",
       "      <td>7788</td>\n",
       "      <td>502</td>\n",
       "      <td>14</td>\n",
       "      <td>516</td>\n",
       "    </tr>\n",
       "  </tbody>\n",
       "</table>\n",
       "</div>"
      ],
      "text/plain": [
       "       sdate  Processed  A_total  B_total  All_total\n",
       "0 2010-01-04       9312     1999        1       2000\n",
       "1 2010-01-11      10728     1404       15       1419\n",
       "2 2010-01-18       9027     1135       49       1184\n",
       "3 2010-01-25       8030      515       18        533\n",
       "4 2010-02-01       7788      502       14        516"
      ]
     },
     "execution_count": 5,
     "metadata": {},
     "output_type": "execute_result"
    }
   ],
   "source": [
    "fludat_pivot.head()"
   ]
  },
  {
   "cell_type": "code",
   "execution_count": 135,
   "metadata": {},
   "outputs": [],
   "source": [
    "# Extract year,month,day from date\n",
    "fludat_pivot['year'] = fludat_pivot['sdate'].dt.year\n",
    "fludat_pivot['month'] = fludat_pivot['sdate'].dt.month\n",
    "fludat_pivot['day'] = fludat_pivot['sdate'].dt.day"
   ]
  },
  {
   "cell_type": "code",
   "execution_count": 137,
   "metadata": {},
   "outputs": [
    {
     "data": {
      "text/html": [
       "<div>\n",
       "<style scoped>\n",
       "    .dataframe tbody tr th:only-of-type {\n",
       "        vertical-align: middle;\n",
       "    }\n",
       "\n",
       "    .dataframe tbody tr th {\n",
       "        vertical-align: top;\n",
       "    }\n",
       "\n",
       "    .dataframe thead th {\n",
       "        text-align: right;\n",
       "    }\n",
       "</style>\n",
       "<table border=\"1\" class=\"dataframe\">\n",
       "  <thead>\n",
       "    <tr style=\"text-align: right;\">\n",
       "      <th></th>\n",
       "      <th>sdate</th>\n",
       "      <th>Processed</th>\n",
       "      <th>A_total</th>\n",
       "      <th>B_total</th>\n",
       "      <th>All_total</th>\n",
       "      <th>year</th>\n",
       "      <th>month</th>\n",
       "      <th>day</th>\n",
       "    </tr>\n",
       "  </thead>\n",
       "  <tbody>\n",
       "    <tr>\n",
       "      <th>0</th>\n",
       "      <td>2010-01-04</td>\n",
       "      <td>9312</td>\n",
       "      <td>1999</td>\n",
       "      <td>1</td>\n",
       "      <td>2000</td>\n",
       "      <td>2010</td>\n",
       "      <td>1</td>\n",
       "      <td>4</td>\n",
       "    </tr>\n",
       "    <tr>\n",
       "      <th>1</th>\n",
       "      <td>2010-01-11</td>\n",
       "      <td>10728</td>\n",
       "      <td>1404</td>\n",
       "      <td>15</td>\n",
       "      <td>1419</td>\n",
       "      <td>2010</td>\n",
       "      <td>1</td>\n",
       "      <td>11</td>\n",
       "    </tr>\n",
       "    <tr>\n",
       "      <th>2</th>\n",
       "      <td>2010-01-18</td>\n",
       "      <td>9027</td>\n",
       "      <td>1135</td>\n",
       "      <td>49</td>\n",
       "      <td>1184</td>\n",
       "      <td>2010</td>\n",
       "      <td>1</td>\n",
       "      <td>18</td>\n",
       "    </tr>\n",
       "    <tr>\n",
       "      <th>3</th>\n",
       "      <td>2010-01-25</td>\n",
       "      <td>8030</td>\n",
       "      <td>515</td>\n",
       "      <td>18</td>\n",
       "      <td>533</td>\n",
       "      <td>2010</td>\n",
       "      <td>1</td>\n",
       "      <td>25</td>\n",
       "    </tr>\n",
       "    <tr>\n",
       "      <th>4</th>\n",
       "      <td>2010-02-01</td>\n",
       "      <td>7788</td>\n",
       "      <td>502</td>\n",
       "      <td>14</td>\n",
       "      <td>516</td>\n",
       "      <td>2010</td>\n",
       "      <td>2</td>\n",
       "      <td>1</td>\n",
       "    </tr>\n",
       "  </tbody>\n",
       "</table>\n",
       "</div>"
      ],
      "text/plain": [
       "       sdate  Processed  A_total  B_total  All_total  year  month  day\n",
       "0 2010-01-04       9312     1999        1       2000  2010      1    4\n",
       "1 2010-01-11      10728     1404       15       1419  2010      1   11\n",
       "2 2010-01-18       9027     1135       49       1184  2010      1   18\n",
       "3 2010-01-25       8030      515       18        533  2010      1   25\n",
       "4 2010-02-01       7788      502       14        516  2010      2    1"
      ]
     },
     "execution_count": 137,
     "metadata": {},
     "output_type": "execute_result"
    }
   ],
   "source": [
    "fludat_pivot.head()"
   ]
  },
  {
   "cell_type": "code",
   "execution_count": 164,
   "metadata": {},
   "outputs": [
    {
     "data": {
      "image/png": "[encoded data removed]",
      "text/plain": [
       "<Figure size 1080x432 with 1 Axes>"
      ]
     },
     "metadata": {
      "needs_background": "light"
     },
     "output_type": "display_data"
    }
   ],
   "source": [
    "# Check the data through line plot\n",
    "plt.figure(figsize=(15,6))\n",
    "plt.plot(fludat_pivot[['Processed','A_total','B_total','All_total']])\n",
    "plt.legend(['Processed','A_total','B_total','All_total'])\n",
    "plt.title('Flu time series')\n",
    "plt.show()"
   ]
  },
  {
   "cell_type": "code",
   "execution_count": 191,
   "metadata": {},
   "outputs": [
    {
     "data": {
      "text/html": [
       "<div>\n",
       "<style scoped>\n",
       "    .dataframe tbody tr th:only-of-type {\n",
       "        vertical-align: middle;\n",
       "    }\n",
       "\n",
       "    .dataframe tbody tr th {\n",
       "        vertical-align: top;\n",
       "    }\n",
       "\n",
       "    .dataframe thead th {\n",
       "        text-align: right;\n",
       "    }\n",
       "</style>\n",
       "<table border=\"1\" class=\"dataframe\">\n",
       "  <thead>\n",
       "    <tr style=\"text-align: right;\">\n",
       "      <th></th>\n",
       "      <th>month</th>\n",
       "      <th>All_total</th>\n",
       "    </tr>\n",
       "  </thead>\n",
       "  <tbody>\n",
       "    <tr>\n",
       "      <th>0</th>\n",
       "      <td>1</td>\n",
       "      <td>8640.625000</td>\n",
       "    </tr>\n",
       "    <tr>\n",
       "      <th>1</th>\n",
       "      <td>2</td>\n",
       "      <td>10849.133333</td>\n",
       "    </tr>\n",
       "    <tr>\n",
       "      <th>2</th>\n",
       "      <td>3</td>\n",
       "      <td>5264.041667</td>\n",
       "    </tr>\n",
       "    <tr>\n",
       "      <th>3</th>\n",
       "      <td>4</td>\n",
       "      <td>1551.791667</td>\n",
       "    </tr>\n",
       "    <tr>\n",
       "      <th>4</th>\n",
       "      <td>5</td>\n",
       "      <td>283.916667</td>\n",
       "    </tr>\n",
       "    <tr>\n",
       "      <th>5</th>\n",
       "      <td>6</td>\n",
       "      <td>50.911111</td>\n",
       "    </tr>\n",
       "    <tr>\n",
       "      <th>6</th>\n",
       "      <td>7</td>\n",
       "      <td>22.044444</td>\n",
       "    </tr>\n",
       "    <tr>\n",
       "      <th>7</th>\n",
       "      <td>8</td>\n",
       "      <td>18.250000</td>\n",
       "    </tr>\n",
       "    <tr>\n",
       "      <th>8</th>\n",
       "      <td>9</td>\n",
       "      <td>29.279070</td>\n",
       "    </tr>\n",
       "    <tr>\n",
       "      <th>9</th>\n",
       "      <td>10</td>\n",
       "      <td>112.044444</td>\n",
       "    </tr>\n",
       "    <tr>\n",
       "      <th>10</th>\n",
       "      <td>11</td>\n",
       "      <td>456.000000</td>\n",
       "    </tr>\n",
       "    <tr>\n",
       "      <th>11</th>\n",
       "      <td>12</td>\n",
       "      <td>3106.333333</td>\n",
       "    </tr>\n",
       "  </tbody>\n",
       "</table>\n",
       "</div>"
      ],
      "text/plain": [
       "    month     All_total\n",
       "0       1   8640.625000\n",
       "1       2  10849.133333\n",
       "2       3   5264.041667\n",
       "3       4   1551.791667\n",
       "4       5    283.916667\n",
       "5       6     50.911111\n",
       "6       7     22.044444\n",
       "7       8     18.250000\n",
       "8       9     29.279070\n",
       "9      10    112.044444\n",
       "10     11    456.000000\n",
       "11     12   3106.333333"
      ]
     },
     "execution_count": 191,
     "metadata": {},
     "output_type": "execute_result"
    }
   ],
   "source": [
    "# Pivot table to check the average of each month (Positive cases)\n",
    "fludat_pivot.groupby(['month'], as_index=False)['All_total'].mean()"
   ]
  },
  {
   "cell_type": "code",
   "execution_count": 179,
   "metadata": {},
   "outputs": [
    {
     "data": {
      "image/png": "[encoded data removed]",
      "text/plain": [
       "<Figure size 864x432 with 1 Axes>"
      ]
     },
     "metadata": {
      "needs_background": "light"
     },
     "output_type": "display_data"
    }
   ],
   "source": [
    "# Which month is the peak in average\n",
    "plt.figure(figsize=(12,6))\n",
    "plt.plot(fludat_pivot.groupby(['month'], as_index=False)['All_total'].mean()['All_total'])\n",
    "plt.xticks(fludat_pivot.groupby(['month'], as_index=False)['All_total'].mean().index)\n",
    "plt.title('Peak check')\n",
    "plt.show()"
   ]
  },
  {
   "cell_type": "markdown",
   "metadata": {},
   "source": [
    "Peak is around december january february"
   ]
  },
  {
   "cell_type": "code",
   "execution_count": 192,
   "metadata": {},
   "outputs": [
    {
     "data": {
      "text/plain": [
       "sdate\n",
       "2010-01-04    2000\n",
       "2010-01-11    1419\n",
       "2010-01-18    1184\n",
       "2010-01-25     533\n",
       "2010-02-01     516\n",
       "              ... \n",
       "2020-05-18       3\n",
       "2020-05-25       3\n",
       "2020-06-01       1\n",
       "2020-06-08       4\n",
       "2020-06-15       0\n",
       "Name: Positive_cases, Length: 546, dtype: int64"
      ]
     },
     "execution_count": 192,
     "metadata": {},
     "output_type": "execute_result"
    }
   ],
   "source": [
    "# Series\n",
    "forecast_data = fludat_pivot.set_index(fludat_pivot['sdate'])['All_total']\n",
    "forecast_data.name = 'Positive_cases'\n",
    "forecast_data"
   ]
  },
  {
   "cell_type": "code",
   "execution_count": 9,
   "metadata": {},
   "outputs": [
    {
     "data": {
      "text/plain": [
       "[<matplotlib.lines.Line2D at 0x27294495fd0>]"
      ]
     },
     "execution_count": 9,
     "metadata": {},
     "output_type": "execute_result"
    },
    {
     "data": {
      "image/png": "[encoded data removed]",
      "text/plain": [
       "<Figure size 432x288 with 1 Axes>"
      ]
     },
     "metadata": {
      "needs_background": "light"
     },
     "output_type": "display_data"
    }
   ],
   "source": [
    "# Plot series\n",
    "plt.plot(forecast_data)"
   ]
  },
  {
   "cell_type": "markdown",
   "metadata": {},
   "source": [
    "### 4. Data preparation for modeling"
   ]
  },
  {
   "cell_type": "code",
   "execution_count": 11,
   "metadata": {},
   "outputs": [],
   "source": [
    "# Splitting the dataset into train and test 80% - 20%\n",
    "\n",
    "train_size = int(len(forecast_data)*0.8)\n",
    "test_size = len(forecast_data)-train_size\n",
    "\n",
    "training_data = np.array(forecast_data[0:train_size])\n",
    "test_data = np.array(forecast_data[train_size:len(forecast_data)])"
   ]
  },
  {
   "cell_type": "code",
   "execution_count": 12,
   "metadata": {},
   "outputs": [],
   "source": [
    " # LSTM are sensitive to the scale of the data, so we apply minmax scaler\n",
    "scaler = MinMaxScaler(feature_range=(0,1))\n",
    "\n",
    "# Scaled array\n",
    "training_data_scaled = scaler.fit_transform(training_data.reshape(-1,1))\n",
    "test_data_scaled = scaler.transform(test_data.reshape(-1,1))"
   ]
  },
  {
   "cell_type": "code",
   "execution_count": 13,
   "metadata": {},
   "outputs": [
    {
     "data": {
      "text/plain": [
       "(436, 1)"
      ]
     },
     "execution_count": 13,
     "metadata": {},
     "output_type": "execute_result"
    }
   ],
   "source": [
    "training_data_scaled.shape"
   ]
  },
  {
   "cell_type": "code",
   "execution_count": 14,
   "metadata": {},
   "outputs": [
    {
     "data": {
      "text/plain": [
       "(110, 1)"
      ]
     },
     "execution_count": 14,
     "metadata": {},
     "output_type": "execute_result"
    }
   ],
   "source": [
    "test_data_scaled.shape"
   ]
  },
  {
   "cell_type": "code",
   "execution_count": 15,
   "metadata": {},
   "outputs": [],
   "source": [
    "# Within the 'training_data' and 'test_data', we create x_train,x_test, y_train, y_test\n",
    "\n",
    "def create_data(dataset, time_step = 1):\n",
    "    data_X, data_Y = [], []\n",
    "    for i in range(len(dataset)-time_step-1):\n",
    "        a = dataset[i:(i+time_step),0]\n",
    "        data_X.append(a.tolist())\n",
    "        data_Y.append(dataset[i + time_step, 0].tolist())\n",
    "    return np.array(data_X), np.array(data_Y)"
   ]
  },
  {
   "cell_type": "code",
   "execution_count": 16,
   "metadata": {},
   "outputs": [],
   "source": [
    "# time_step hyperparameter tuning\n",
    "time_step = 3\n",
    "\n",
    "X_train, y_train = create_data(training_data_scaled, time_step)\n",
    "X_test, y_test = create_data(test_data_scaled, time_step)"
   ]
  },
  {
   "cell_type": "code",
   "execution_count": 17,
   "metadata": {},
   "outputs": [
    {
     "name": "stdout",
     "output_type": "stream",
     "text": [
      "X_train shape:  (432, 3) , y_train shape:  (432,)\n",
      "------------------------\n",
      "X_test shape:  (106, 3) , y_test shape:  (106,)\n"
     ]
    }
   ],
   "source": [
    "print('X_train shape: ',X_train.shape, ', y_train shape: ',y_train.shape)\n",
    "print('------------------------')\n",
    "print('X_test shape: ',X_test.shape, ', y_test shape: ',y_test.shape)"
   ]
  },
  {
   "cell_type": "markdown",
   "metadata": {},
   "source": [
    "### 5. Modeling"
   ]
  },
  {
   "cell_type": "markdown",
   "metadata": {},
   "source": [
    "We are gonna use different LSTM architectures.."
   ]
  },
  {
   "cell_type": "code",
   "execution_count": 18,
   "metadata": {},
   "outputs": [],
   "source": [
    "# for LSTM we need to add an additional dimension\n",
    "X_train = X_train.reshape(X_train.shape[0], X_train.shape[1], 1)\n",
    "X_test = X_test.reshape(X_test.shape[0], X_test.shape[1], 1)"
   ]
  },
  {
   "cell_type": "markdown",
   "metadata": {},
   "source": [
    "#### a) LSTM layer (32 neurons) - Dropout - Output"
   ]
  },
  {
   "cell_type": "code",
   "execution_count": 113,
   "metadata": {},
   "outputs": [],
   "source": [
    "# Create stack LSTM model\n",
    "model = Sequential()\n",
    "model.add(LSTM(32, input_shape = (3,1)))\n",
    "model.add(Dropout(0.1))\n",
    "model.add(Dense(1))\n",
    "model.compile(loss='mean_squared_error', optimizer='adam')"
   ]
  },
  {
   "cell_type": "code",
   "execution_count": 114,
   "metadata": {},
   "outputs": [
    {
     "name": "stdout",
     "output_type": "stream",
     "text": [
      "Epoch 1/30\n",
      "324/324 [==============================] - 2s 3ms/step - loss: 0.0123 - val_loss: 0.0154\n",
      "Epoch 2/30\n",
      "324/324 [==============================] - 1s 2ms/step - loss: 0.0055 - val_loss: 0.0140\n",
      "Epoch 3/30\n",
      "324/324 [==============================] - 0s 2ms/step - loss: 0.0052 - val_loss: 0.0124\n",
      "Epoch 4/30\n",
      "324/324 [==============================] - 1s 2ms/step - loss: 0.0047 - val_loss: 0.0113\n",
      "Epoch 5/30\n",
      "324/324 [==============================] - 1s 2ms/step - loss: 0.0040 - val_loss: 0.0099\n",
      "Epoch 6/30\n",
      "324/324 [==============================] - 1s 2ms/step - loss: 0.0034 - val_loss: 0.0085\n",
      "Epoch 7/30\n",
      "324/324 [==============================] - 1s 2ms/step - loss: 0.0028 - val_loss: 0.0066\n",
      "Epoch 8/30\n",
      "324/324 [==============================] - 1s 2ms/step - loss: 0.0027 - val_loss: 0.0051\n",
      "Epoch 9/30\n",
      "324/324 [==============================] - 0s 2ms/step - loss: 0.0020 - val_loss: 0.0043\n",
      "Epoch 10/30\n",
      "324/324 [==============================] - 1s 2ms/step - loss: 0.0017 - val_loss: 0.0045\n",
      "Epoch 11/30\n",
      "324/324 [==============================] - 0s 2ms/step - loss: 0.0021 - val_loss: 0.0032\n",
      "Epoch 12/30\n",
      "324/324 [==============================] - 1s 2ms/step - loss: 0.0012 - val_loss: 0.0030\n",
      "Epoch 13/30\n",
      "324/324 [==============================] - 1s 2ms/step - loss: 0.0015 - val_loss: 0.0026\n",
      "Epoch 14/30\n",
      "324/324 [==============================] - 1s 2ms/step - loss: 9.8335e-04 - val_loss: 0.0026\n",
      "Epoch 15/30\n",
      "324/324 [==============================] - 1s 2ms/step - loss: 0.0010 - val_loss: 0.0021\n",
      "Epoch 16/30\n",
      "324/324 [==============================] - 1s 2ms/step - loss: 9.9243e-04 - val_loss: 0.0021\n",
      "Epoch 17/30\n",
      "324/324 [==============================] - 1s 2ms/step - loss: 7.9717e-04 - val_loss: 0.0018\n",
      "Epoch 18/30\n",
      "324/324 [==============================] - 1s 2ms/step - loss: 6.4775e-04 - val_loss: 0.0017\n",
      "Epoch 19/30\n",
      "324/324 [==============================] - 1s 2ms/step - loss: 6.3108e-04 - val_loss: 0.0017\n",
      "Epoch 20/30\n",
      "324/324 [==============================] - 1s 2ms/step - loss: 5.9141e-04 - val_loss: 0.0015\n",
      "Epoch 21/30\n",
      "324/324 [==============================] - 1s 2ms/step - loss: 6.9673e-04 - val_loss: 0.0020\n",
      "Epoch 22/30\n",
      "324/324 [==============================] - 1s 2ms/step - loss: 8.0315e-04 - val_loss: 0.0015\n",
      "Epoch 23/30\n",
      "324/324 [==============================] - 1s 2ms/step - loss: 6.3685e-04 - val_loss: 0.0024\n",
      "Epoch 24/30\n",
      "324/324 [==============================] - 1s 2ms/step - loss: 6.6181e-04 - val_loss: 0.0015\n",
      "Epoch 25/30\n",
      "324/324 [==============================] - 1s 2ms/step - loss: 7.2531e-04 - val_loss: 0.0020\n",
      "Epoch 26/30\n",
      "324/324 [==============================] - 1s 2ms/step - loss: 6.8969e-04 - val_loss: 0.0015\n",
      "Epoch 27/30\n",
      "324/324 [==============================] - 1s 2ms/step - loss: 7.0209e-04 - val_loss: 0.0022\n",
      "Epoch 28/30\n",
      "324/324 [==============================] - 1s 2ms/step - loss: 9.6010e-04 - val_loss: 0.0025\n",
      "Epoch 29/30\n",
      "324/324 [==============================] - 1s 2ms/step - loss: 0.0011 - val_loss: 0.0015\n",
      "Epoch 30/30\n",
      "324/324 [==============================] - 1s 2ms/step - loss: 6.8950e-04 - val_loss: 0.0017\n"
     ]
    }
   ],
   "source": [
    "EPOCHS = 30\n",
    "H = model.fit(X_train,y_train, epochs = EPOCHS, batch_size = 1, validation_split=0.25, shuffle=False, verbose = 1)"
   ]
  },
  {
   "cell_type": "code",
   "execution_count": 115,
   "metadata": {},
   "outputs": [
    {
     "name": "stdout",
     "output_type": "stream",
     "text": [
      "Model: \"sequential_4\"\n",
      "_________________________________________________________________\n",
      "Layer (type)                 Output Shape              Param #   \n",
      "=================================================================\n",
      "lstm_4 (LSTM)                (None, 32)                4352      \n",
      "_________________________________________________________________\n",
      "dropout_4 (Dropout)          (None, 32)                0         \n",
      "_________________________________________________________________\n",
      "dense_4 (Dense)              (None, 1)                 33        \n",
      "=================================================================\n",
      "Total params: 4,385\n",
      "Trainable params: 4,385\n",
      "Non-trainable params: 0\n",
      "_________________________________________________________________\n"
     ]
    }
   ],
   "source": [
    "model.summary()"
   ]
  },
  {
   "cell_type": "code",
   "execution_count": 116,
   "metadata": {},
   "outputs": [
    {
     "data": {
      "image/png": "[encoded data removed]",
      "text/plain": [
       "<Figure size 432x288 with 1 Axes>"
      ]
     },
     "metadata": {
      "needs_background": "light"
     },
     "output_type": "display_data"
    }
   ],
   "source": [
    "N = EPOCHS\n",
    "\n",
    "plt.plot(np.arange(0, N), H.history['loss'], label='train_loss')\n",
    "plt.plot(np.arange(0, N), H.history['val_loss'], label='val_loss')\n",
    "plt.title('Training - Loss')\n",
    "plt.xlabel('Epochs')\n",
    "plt.ylabel('Loss')\n",
    "plt.legend(loc='lower left')\n",
    "plt.savefig(\"./plot/LSTM_model_training_plot.png\")"
   ]
  },
  {
   "cell_type": "code",
   "execution_count": 117,
   "metadata": {},
   "outputs": [],
   "source": [
    "# Prediction\n",
    "y_pred = model.predict(X_test)"
   ]
  },
  {
   "cell_type": "code",
   "execution_count": 119,
   "metadata": {},
   "outputs": [],
   "source": [
    "y_pred_realval = scaler.inverse_transform(y_pred)"
   ]
  },
  {
   "cell_type": "code",
   "execution_count": 120,
   "metadata": {},
   "outputs": [
    {
     "name": "stdout",
     "output_type": "stream",
     "text": [
      "Scaled RMSE:  0.0575557958539093\n",
      "Inverse scaled RMSE:  1101.8337029723527\n"
     ]
    }
   ],
   "source": [
    "lstm_rmse = math.sqrt(mean_squared_error(y_test, y_pred))\n",
    "print('Scaled RMSE: ',lstm_rmse)\n",
    "print('Inverse scaled RMSE: ', scaler.inverse_transform(np.array(lstm_rmse).reshape(1,-1))[0][0])"
   ]
  },
  {
   "cell_type": "code",
   "execution_count": 121,
   "metadata": {},
   "outputs": [
    {
     "name": "stdout",
     "output_type": "stream",
     "text": [
      "(106, 1)\n",
      "(546, 1)\n"
     ]
    }
   ],
   "source": [
    "print(y_pred_realval.shape)\n",
    "print(np.array(forecast_data).reshape(len(forecast_data),1).shape)"
   ]
  },
  {
   "cell_type": "code",
   "execution_count": 122,
   "metadata": {},
   "outputs": [
    {
     "data": {
      "text/plain": [
       "[<matplotlib.lines.Line2D at 0x2729ecf6370>]"
      ]
     },
     "execution_count": 122,
     "metadata": {},
     "output_type": "execute_result"
    },
    {
     "data": {
      "image/png": "[encoded data removed]",
      "text/plain": [
       "<Figure size 432x288 with 1 Axes>"
      ]
     },
     "metadata": {
      "needs_background": "light"
     },
     "output_type": "display_data"
    }
   ],
   "source": [
    "# Plotting\n",
    "test_predict = np.empty_like(np.array(forecast_data).reshape(len(forecast_data),1))\n",
    "test_predict[:,:] = np.nan\n",
    "test_predict = np.where(test_predict == -9223372036854775808, np.nan, test_predict)\n",
    "test_predict[546-106:,:] = y_pred_realval\n",
    "plt.plot(np.array(forecast_data).reshape(len(forecast_data),1))\n",
    "plt.plot(test_predict)"
   ]
  },
  {
   "cell_type": "markdown",
   "metadata": {},
   "source": [
    "#### b) Bidirectional LSTM"
   ]
  },
  {
   "cell_type": "code",
   "execution_count": 106,
   "metadata": {},
   "outputs": [],
   "source": [
    "model = Sequential()\n",
    "model.add(Bidirectional(LSTM(units=32, input_shape=(3,1))))\n",
    "model.add(Dropout(0.1))\n",
    "model.add(Dense(1))\n",
    "model.compile(loss='mean_squared_error', optimizer='adam')"
   ]
  },
  {
   "cell_type": "code",
   "execution_count": null,
   "metadata": {},
   "outputs": [],
   "source": []
  },
  {
   "cell_type": "markdown",
   "metadata": {},
   "source": [
    "### 6. Forecasting"
   ]
  },
  {
   "cell_type": "markdown",
   "metadata": {},
   "source": [
    "### Predicting the next peak"
   ]
  },
  {
   "cell_type": "code",
   "execution_count": 182,
   "metadata": {},
   "outputs": [
    {
     "data": {
      "text/plain": [
       "Timestamp('2020-06-15 00:00:00')"
      ]
     },
     "execution_count": 182,
     "metadata": {},
     "output_type": "execute_result"
    }
   ],
   "source": [
    "# Last observation\n",
    "forecast_data.tail(1).index[0]"
   ]
  },
  {
   "cell_type": "markdown",
   "metadata": {},
   "source": [
    "Above we saw that the peak is around 12,01,02, so we are going to predict the next 8 months."
   ]
  },
  {
   "cell_type": "code",
   "execution_count": 123,
   "metadata": {},
   "outputs": [
    {
     "data": {
      "text/plain": [
       "110"
      ]
     },
     "execution_count": 123,
     "metadata": {},
     "output_type": "execute_result"
    }
   ],
   "source": [
    "len(test_data)"
   ]
  },
  {
   "cell_type": "code",
   "execution_count": 292,
   "metadata": {},
   "outputs": [
    {
     "name": "stdout",
     "output_type": "stream",
     "text": [
      "[0.024866260588169098, 0.0633808821439743, 0.1238301619887352, 0.20749890804290771, 0.31859102845191956, 0.4553428888320923, 0.6065812706947327, 0.7461326122283936, 0.8393996953964233, 0.8673058152198792, 0.8460144400596619, 0.8083953857421875, 0.7718611359596252, 0.7370954155921936, 0.7015198469161987, 0.6644870042800903, 0.6266981959342957, 0.5892954468727112, 0.5535897016525269, 0.5209828615188599, 0.4928675889968872, 0.47049468755722046, 0.45483434200286865, 0.4464512765407562, 0.4454062283039093, 0.451190710067749, 0.46270227432250977, 0.478279709815979, 0.49582818150520325, 0.5130581259727478, 0.5278247594833374, 0.5384902954101562]\n",
      "---------------------------------\n",
      "[[[-5.23313622e-05]\n",
      "  [ 1.04662724e-04]\n",
      "  [-1.04662724e-04]]\n",
      "\n",
      " [[ 1.04662724e-04]\n",
      "  [-1.04662724e-04]\n",
      "  [ 2.48662606e-02]]\n",
      "\n",
      " [[-1.04662724e-04]\n",
      "  [ 2.48662606e-02]\n",
      "  [ 6.33808821e-02]]\n",
      "\n",
      " [[ 2.48662606e-02]\n",
      "  [ 6.33808821e-02]\n",
      "  [ 1.23830162e-01]]\n",
      "\n",
      " [[ 6.33808821e-02]\n",
      "  [ 1.23830162e-01]\n",
      "  [ 2.07498908e-01]]\n",
      "\n",
      " [[ 1.23830162e-01]\n",
      "  [ 2.07498908e-01]\n",
      "  [ 3.18591028e-01]]\n",
      "\n",
      " [[ 2.07498908e-01]\n",
      "  [ 3.18591028e-01]\n",
      "  [ 4.55342889e-01]]\n",
      "\n",
      " [[ 3.18591028e-01]\n",
      "  [ 4.55342889e-01]\n",
      "  [ 6.06581271e-01]]\n",
      "\n",
      " [[ 4.55342889e-01]\n",
      "  [ 6.06581271e-01]\n",
      "  [ 7.46132612e-01]]\n",
      "\n",
      " [[ 6.06581271e-01]\n",
      "  [ 7.46132612e-01]\n",
      "  [ 8.39399695e-01]]\n",
      "\n",
      " [[ 7.46132612e-01]\n",
      "  [ 8.39399695e-01]\n",
      "  [ 8.67305815e-01]]\n",
      "\n",
      " [[ 8.39399695e-01]\n",
      "  [ 8.67305815e-01]\n",
      "  [ 8.46014440e-01]]\n",
      "\n",
      " [[ 8.67305815e-01]\n",
      "  [ 8.46014440e-01]\n",
      "  [ 8.08395386e-01]]\n",
      "\n",
      " [[ 8.46014440e-01]\n",
      "  [ 8.08395386e-01]\n",
      "  [ 7.71861136e-01]]\n",
      "\n",
      " [[ 8.08395386e-01]\n",
      "  [ 7.71861136e-01]\n",
      "  [ 7.37095416e-01]]\n",
      "\n",
      " [[ 7.71861136e-01]\n",
      "  [ 7.37095416e-01]\n",
      "  [ 7.01519847e-01]]\n",
      "\n",
      " [[ 7.37095416e-01]\n",
      "  [ 7.01519847e-01]\n",
      "  [ 6.64487004e-01]]\n",
      "\n",
      " [[ 7.01519847e-01]\n",
      "  [ 6.64487004e-01]\n",
      "  [ 6.26698196e-01]]\n",
      "\n",
      " [[ 6.64487004e-01]\n",
      "  [ 6.26698196e-01]\n",
      "  [ 5.89295447e-01]]\n",
      "\n",
      " [[ 6.26698196e-01]\n",
      "  [ 5.89295447e-01]\n",
      "  [ 5.53589702e-01]]\n",
      "\n",
      " [[ 5.89295447e-01]\n",
      "  [ 5.53589702e-01]\n",
      "  [ 5.20982862e-01]]\n",
      "\n",
      " [[ 5.53589702e-01]\n",
      "  [ 5.20982862e-01]\n",
      "  [ 4.92867589e-01]]\n",
      "\n",
      " [[ 5.20982862e-01]\n",
      "  [ 4.92867589e-01]\n",
      "  [ 4.70494688e-01]]\n",
      "\n",
      " [[ 4.92867589e-01]\n",
      "  [ 4.70494688e-01]\n",
      "  [ 4.54834342e-01]]\n",
      "\n",
      " [[ 4.70494688e-01]\n",
      "  [ 4.54834342e-01]\n",
      "  [ 4.46451277e-01]]\n",
      "\n",
      " [[ 4.54834342e-01]\n",
      "  [ 4.46451277e-01]\n",
      "  [ 4.45406228e-01]]\n",
      "\n",
      " [[ 4.46451277e-01]\n",
      "  [ 4.45406228e-01]\n",
      "  [ 4.51190710e-01]]\n",
      "\n",
      " [[ 4.45406228e-01]\n",
      "  [ 4.51190710e-01]\n",
      "  [ 4.62702274e-01]]\n",
      "\n",
      " [[ 4.51190710e-01]\n",
      "  [ 4.62702274e-01]\n",
      "  [ 4.78279710e-01]]\n",
      "\n",
      " [[ 4.62702274e-01]\n",
      "  [ 4.78279710e-01]\n",
      "  [ 4.95828182e-01]]\n",
      "\n",
      " [[ 4.78279710e-01]\n",
      "  [ 4.95828182e-01]\n",
      "  [ 5.13058126e-01]]\n",
      "\n",
      " [[ 4.95828182e-01]\n",
      "  [ 5.13058126e-01]\n",
      "  [ 5.27824759e-01]]\n",
      "\n",
      " [[ 5.13058126e-01]\n",
      "  [ 5.27824759e-01]\n",
      "  [ 5.38490295e-01]]]\n"
     ]
    }
   ],
   "source": [
    "# We need the last 3 value from the test data to start the prediction\n",
    "x_input = test_data_scaled[len(test_data_scaled)-3:].reshape(1,-1)\n",
    "\n",
    "# x_input to list\n",
    "temp_input = list(x_input)\n",
    "temp_input = temp_input[0].tolist()\n",
    "\n",
    "# prediction_array\n",
    "prediction_arr = x_input.reshape(3,1)\n",
    "\n",
    "# find next 32 (8 months == 32 weeks) value\n",
    "output = []\n",
    "time_step = 3\n",
    "i = 0\n",
    "\n",
    "while(i<32):\n",
    "    if(len(temp_input)>3):\n",
    "        # last 3 element after the first loop\n",
    "        x_input = np.array(temp_input[1:])\n",
    "        #reshaping\n",
    "        x_input = x_input.reshape(1, time_step, 1)\n",
    "        # predict\n",
    "        y_hat = model.predict(x_input, verbose = 0)\n",
    "        \n",
    "        # add to final pred arr\n",
    "        temp_arr = np.vstack((x_input[:,1:].reshape(2,1),y_hat))\n",
    "        prediction_arr = np.append(prediction_arr,temp_arr.reshape(1,3,1), axis=0)\n",
    "        \n",
    "        # adding to the temp list\n",
    "        temp_input.append(y_hat[0][0].tolist())\n",
    "        # change temp list to the last 3 value\n",
    "        temp_input = temp_input[1:]\n",
    "        # add prediction to output\n",
    "        output.append(y_hat[0][0].tolist())\n",
    "        i = i+1\n",
    "    \n",
    "    else:\n",
    "        # last 3 value reshape and predict\n",
    "        x_input = x_input.reshape(1, time_step, 1)\n",
    "        y_hat = model.predict(x_input, verbose = 0)\n",
    "        \n",
    "        # add to final prediction arr\n",
    "        temp_arr = np.vstack((x_input[:,1:].reshape(2,1),y_hat))\n",
    "        prediction_arr = np.stack((prediction_arr,temp_arr))\n",
    "        \n",
    "        # adding the value to temp input list\n",
    "        temp_input.append(y_hat[0][0].tolist())\n",
    "        # adding the value to output list\n",
    "        output.append(y_hat[0][0].tolist())\n",
    "        i = i+1\n",
    "\n",
    "prediction_arr = prediction_arr.reshape(prediction_arr.shape[0],prediction_arr.shape[1],1)\n",
    "print(output)\n",
    "print('---------------------------------')\n",
    "print(prediction_arr)"
   ]
  },
  {
   "cell_type": "code",
   "execution_count": 293,
   "metadata": {},
   "outputs": [],
   "source": [
    "y_pred_2yrs = model.predict(prediction_arr)\n",
    "y_pred_2yrs = scaler.inverse_transform(y_pred_2yrs)"
   ]
  },
  {
   "cell_type": "code",
   "execution_count": 294,
   "metadata": {},
   "outputs": [
    {
     "name": "stdout",
     "output_type": "stream",
     "text": [
      "546\n",
      "33\n"
     ]
    }
   ],
   "source": [
    "print(len(forecast_data))\n",
    "print(len(y_pred_2yrs))"
   ]
  },
  {
   "cell_type": "code",
   "execution_count": 295,
   "metadata": {},
   "outputs": [
    {
     "data": {
      "text/plain": [
       "[<matplotlib.lines.Line2D at 0x272aeaf7220>]"
      ]
     },
     "execution_count": 295,
     "metadata": {},
     "output_type": "execute_result"
    },
    {
     "data": {
      "image/png": "[encoded data removed]",
      "text/plain": [
       "<Figure size 432x288 with 1 Axes>"
      ]
     },
     "metadata": {
      "needs_background": "light"
     },
     "output_type": "display_data"
    }
   ],
   "source": [
    "plt.plot(np.arange(0,546),forecast_data)\n",
    "plt.plot(np.arange(546,546+33),y_pred_2yrs)"
   ]
  },
  {
   "cell_type": "code",
   "execution_count": 296,
   "metadata": {},
   "outputs": [],
   "source": [
    "last_date = fludat_pivot.tail(1)['sdate']\n",
    "yhat_temp = y_pred_2yrs.reshape(len(y_pred_2yrs),)\n",
    "dates = []\n",
    "\n",
    "for i in range(len(yhat_temp)):\n",
    "    last_date = last_date + datetime.timedelta(days=7)\n",
    "    dates.append(last_date)"
   ]
  },
  {
   "cell_type": "code",
   "execution_count": 297,
   "metadata": {},
   "outputs": [],
   "source": [
    "df_pred = pd.DataFrame({'Dates':dates,\n",
    "                        'Predicted_value':yhat_temp})"
   ]
  },
  {
   "cell_type": "code",
   "execution_count": 298,
   "metadata": {},
   "outputs": [
    {
     "data": {
      "text/html": [
       "<div>\n",
       "<style scoped>\n",
       "    .dataframe tbody tr th:only-of-type {\n",
       "        vertical-align: middle;\n",
       "    }\n",
       "\n",
       "    .dataframe tbody tr th {\n",
       "        vertical-align: top;\n",
       "    }\n",
       "\n",
       "    .dataframe thead th {\n",
       "        text-align: right;\n",
       "    }\n",
       "</style>\n",
       "<table border=\"1\" class=\"dataframe\">\n",
       "  <thead>\n",
       "    <tr style=\"text-align: right;\">\n",
       "      <th></th>\n",
       "      <th>Dates</th>\n",
       "      <th>Predicted_value</th>\n",
       "    </tr>\n",
       "  </thead>\n",
       "  <tbody>\n",
       "    <tr>\n",
       "      <th>0</th>\n",
       "      <td>545   2020-06-22\n",
       "Name: sdate, dtype: datetime6...</td>\n",
       "      <td>477.169495</td>\n",
       "    </tr>\n",
       "    <tr>\n",
       "      <th>1</th>\n",
       "      <td>545   2020-06-29\n",
       "Name: sdate, dtype: datetime6...</td>\n",
       "      <td>1213.145020</td>\n",
       "    </tr>\n",
       "    <tr>\n",
       "      <th>2</th>\n",
       "      <td>545   2020-07-06\n",
       "Name: sdate, dtype: datetime6...</td>\n",
       "      <td>2368.270508</td>\n",
       "    </tr>\n",
       "    <tr>\n",
       "      <th>3</th>\n",
       "      <td>545   2020-07-13\n",
       "Name: sdate, dtype: datetime6...</td>\n",
       "      <td>3967.096680</td>\n",
       "    </tr>\n",
       "    <tr>\n",
       "      <th>4</th>\n",
       "      <td>545   2020-07-20\n",
       "Name: sdate, dtype: datetime6...</td>\n",
       "      <td>6089.956055</td>\n",
       "    </tr>\n",
       "  </tbody>\n",
       "</table>\n",
       "</div>"
      ],
      "text/plain": [
       "                                               Dates  Predicted_value\n",
       "0  545   2020-06-22\n",
       "Name: sdate, dtype: datetime6...       477.169495\n",
       "1  545   2020-06-29\n",
       "Name: sdate, dtype: datetime6...      1213.145020\n",
       "2  545   2020-07-06\n",
       "Name: sdate, dtype: datetime6...      2368.270508\n",
       "3  545   2020-07-13\n",
       "Name: sdate, dtype: datetime6...      3967.096680\n",
       "4  545   2020-07-20\n",
       "Name: sdate, dtype: datetime6...      6089.956055"
      ]
     },
     "execution_count": 298,
     "metadata": {},
     "output_type": "execute_result"
    }
   ],
   "source": [
    "df_pred.head()"
   ]
  },
  {
   "cell_type": "code",
   "execution_count": 299,
   "metadata": {},
   "outputs": [
    {
     "data": {
      "text/html": [
       "<div>\n",
       "<style scoped>\n",
       "    .dataframe tbody tr th:only-of-type {\n",
       "        vertical-align: middle;\n",
       "    }\n",
       "\n",
       "    .dataframe tbody tr th {\n",
       "        vertical-align: top;\n",
       "    }\n",
       "\n",
       "    .dataframe thead th {\n",
       "        text-align: right;\n",
       "    }\n",
       "</style>\n",
       "<table border=\"1\" class=\"dataframe\">\n",
       "  <thead>\n",
       "    <tr style=\"text-align: right;\">\n",
       "      <th></th>\n",
       "      <th>Dates</th>\n",
       "      <th>Predicted_value</th>\n",
       "    </tr>\n",
       "  </thead>\n",
       "  <tbody>\n",
       "    <tr>\n",
       "      <th>0</th>\n",
       "      <td>2020-06-22</td>\n",
       "      <td>477.169495</td>\n",
       "    </tr>\n",
       "    <tr>\n",
       "      <th>1</th>\n",
       "      <td>2020-06-29</td>\n",
       "      <td>1213.145020</td>\n",
       "    </tr>\n",
       "    <tr>\n",
       "      <th>2</th>\n",
       "      <td>2020-07-06</td>\n",
       "      <td>2368.270508</td>\n",
       "    </tr>\n",
       "    <tr>\n",
       "      <th>3</th>\n",
       "      <td>2020-07-13</td>\n",
       "      <td>3967.096680</td>\n",
       "    </tr>\n",
       "    <tr>\n",
       "      <th>4</th>\n",
       "      <td>2020-07-20</td>\n",
       "      <td>6089.956055</td>\n",
       "    </tr>\n",
       "  </tbody>\n",
       "</table>\n",
       "</div>"
      ],
      "text/plain": [
       "       Dates  Predicted_value\n",
       "0 2020-06-22       477.169495\n",
       "1 2020-06-29      1213.145020\n",
       "2 2020-07-06      2368.270508\n",
       "3 2020-07-13      3967.096680\n",
       "4 2020-07-20      6089.956055"
      ]
     },
     "execution_count": 299,
     "metadata": {},
     "output_type": "execute_result"
    }
   ],
   "source": [
    "df_pred['Dates'] = df_pred['Dates'].apply(lambda x: str(x).split(' ')[3].replace('\\nName:',''))\n",
    "df_pred['Dates'] = pd.to_datetime(df_pred['Dates'])\n",
    "\n",
    "df_pred.head()"
   ]
  },
  {
   "cell_type": "code",
   "execution_count": 300,
   "metadata": {},
   "outputs": [
    {
     "data": {
      "text/html": [
       "<div>\n",
       "<style scoped>\n",
       "    .dataframe tbody tr th:only-of-type {\n",
       "        vertical-align: middle;\n",
       "    }\n",
       "\n",
       "    .dataframe tbody tr th {\n",
       "        vertical-align: top;\n",
       "    }\n",
       "\n",
       "    .dataframe thead th {\n",
       "        text-align: right;\n",
       "    }\n",
       "</style>\n",
       "<table border=\"1\" class=\"dataframe\">\n",
       "  <thead>\n",
       "    <tr style=\"text-align: right;\">\n",
       "      <th></th>\n",
       "      <th>Dates</th>\n",
       "      <th>Predicted_value</th>\n",
       "    </tr>\n",
       "  </thead>\n",
       "  <tbody>\n",
       "    <tr>\n",
       "      <th>9</th>\n",
       "      <td>2020-08-24</td>\n",
       "      <td>16575.345703</td>\n",
       "    </tr>\n",
       "  </tbody>\n",
       "</table>\n",
       "</div>"
      ],
      "text/plain": [
       "       Dates  Predicted_value\n",
       "9 2020-08-24     16575.345703"
      ]
     },
     "execution_count": 300,
     "metadata": {},
     "output_type": "execute_result"
    }
   ],
   "source": [
    "df_pred.loc[df_pred['Predicted_value'] == max(df_pred['Predicted_value'])]"
   ]
  },
  {
   "cell_type": "code",
   "execution_count": 304,
   "metadata": {},
   "outputs": [
    {
     "data": {
      "text/html": [
       "<div>\n",
       "<style scoped>\n",
       "    .dataframe tbody tr th:only-of-type {\n",
       "        vertical-align: middle;\n",
       "    }\n",
       "\n",
       "    .dataframe tbody tr th {\n",
       "        vertical-align: top;\n",
       "    }\n",
       "\n",
       "    .dataframe thead th {\n",
       "        text-align: right;\n",
       "    }\n",
       "</style>\n",
       "<table border=\"1\" class=\"dataframe\">\n",
       "  <thead>\n",
       "    <tr style=\"text-align: right;\">\n",
       "      <th></th>\n",
       "      <th>sdate</th>\n",
       "      <th>Processed</th>\n",
       "      <th>A_total</th>\n",
       "      <th>B_total</th>\n",
       "      <th>All_total</th>\n",
       "      <th>year</th>\n",
       "      <th>month</th>\n",
       "      <th>day</th>\n",
       "    </tr>\n",
       "  </thead>\n",
       "  <tbody>\n",
       "    <tr>\n",
       "      <th>541</th>\n",
       "      <td>2020-05-18</td>\n",
       "      <td>4516</td>\n",
       "      <td>1</td>\n",
       "      <td>2</td>\n",
       "      <td>3</td>\n",
       "      <td>2020</td>\n",
       "      <td>5</td>\n",
       "      <td>18</td>\n",
       "    </tr>\n",
       "    <tr>\n",
       "      <th>542</th>\n",
       "      <td>2020-05-25</td>\n",
       "      <td>3262</td>\n",
       "      <td>1</td>\n",
       "      <td>2</td>\n",
       "      <td>3</td>\n",
       "      <td>2020</td>\n",
       "      <td>5</td>\n",
       "      <td>25</td>\n",
       "    </tr>\n",
       "    <tr>\n",
       "      <th>543</th>\n",
       "      <td>2020-06-01</td>\n",
       "      <td>3122</td>\n",
       "      <td>1</td>\n",
       "      <td>0</td>\n",
       "      <td>1</td>\n",
       "      <td>2020</td>\n",
       "      <td>6</td>\n",
       "      <td>1</td>\n",
       "    </tr>\n",
       "    <tr>\n",
       "      <th>544</th>\n",
       "      <td>2020-06-08</td>\n",
       "      <td>2734</td>\n",
       "      <td>2</td>\n",
       "      <td>2</td>\n",
       "      <td>4</td>\n",
       "      <td>2020</td>\n",
       "      <td>6</td>\n",
       "      <td>8</td>\n",
       "    </tr>\n",
       "    <tr>\n",
       "      <th>545</th>\n",
       "      <td>2020-06-15</td>\n",
       "      <td>0</td>\n",
       "      <td>0</td>\n",
       "      <td>0</td>\n",
       "      <td>0</td>\n",
       "      <td>2020</td>\n",
       "      <td>6</td>\n",
       "      <td>15</td>\n",
       "    </tr>\n",
       "  </tbody>\n",
       "</table>\n",
       "</div>"
      ],
      "text/plain": [
       "         sdate  Processed  A_total  B_total  All_total  year  month  day\n",
       "541 2020-05-18       4516        1        2          3  2020      5   18\n",
       "542 2020-05-25       3262        1        2          3  2020      5   25\n",
       "543 2020-06-01       3122        1        0          1  2020      6    1\n",
       "544 2020-06-08       2734        2        2          4  2020      6    8\n",
       "545 2020-06-15          0        0        0          0  2020      6   15"
      ]
     },
     "execution_count": 304,
     "metadata": {},
     "output_type": "execute_result"
    }
   ],
   "source": [
    "fludat_pivot.tail()"
   ]
  },
  {
   "cell_type": "code",
   "execution_count": 305,
   "metadata": {},
   "outputs": [
    {
     "data": {
      "text/plain": [
       "array([[[ 2.01475744e-02],\n",
       "        [ 7.27405934e-03],\n",
       "        [ 7.16939662e-03]],\n",
       "\n",
       "       [[ 7.27405934e-03],\n",
       "        [ 7.16939662e-03],\n",
       "        [ 3.19221309e-03]],\n",
       "\n",
       "       [[ 7.16939662e-03],\n",
       "        [ 3.19221309e-03],\n",
       "        [ 1.83159768e-03]],\n",
       "\n",
       "       [[ 3.19221309e-03],\n",
       "        [ 1.83159768e-03],\n",
       "        [ 1.30828405e-03]],\n",
       "\n",
       "       [[ 1.83159768e-03],\n",
       "        [ 1.30828405e-03],\n",
       "        [ 9.41964519e-04]],\n",
       "\n",
       "       [[ 1.30828405e-03],\n",
       "        [ 9.41964519e-04],\n",
       "        [ 8.89633157e-04]],\n",
       "\n",
       "       [[ 9.41964519e-04],\n",
       "        [ 8.89633157e-04],\n",
       "        [ 6.27976346e-04]],\n",
       "\n",
       "       [[ 8.89633157e-04],\n",
       "        [ 6.27976346e-04],\n",
       "        [ 1.04662724e-03]],\n",
       "\n",
       "       [[ 6.27976346e-04],\n",
       "        [ 1.04662724e-03],\n",
       "        [ 6.27976346e-04]],\n",
       "\n",
       "       [[ 1.04662724e-03],\n",
       "        [ 6.27976346e-04],\n",
       "        [ 1.20362133e-03]],\n",
       "\n",
       "       [[ 6.27976346e-04],\n",
       "        [ 1.20362133e-03],\n",
       "        [ 6.80307708e-04]],\n",
       "\n",
       "       [[ 1.20362133e-03],\n",
       "        [ 6.80307708e-04],\n",
       "        [ 8.37301795e-04]],\n",
       "\n",
       "       [[ 6.80307708e-04],\n",
       "        [ 8.37301795e-04],\n",
       "        [ 4.70982260e-04]],\n",
       "\n",
       "       [[ 8.37301795e-04],\n",
       "        [ 4.70982260e-04],\n",
       "        [ 7.84970433e-04]],\n",
       "\n",
       "       [[ 4.70982260e-04],\n",
       "        [ 7.84970433e-04],\n",
       "        [ 1.25595269e-03]],\n",
       "\n",
       "       [[ 7.84970433e-04],\n",
       "        [ 1.25595269e-03],\n",
       "        [ 8.89633157e-04]],\n",
       "\n",
       "       [[ 1.25595269e-03],\n",
       "        [ 8.89633157e-04],\n",
       "        [ 1.04662724e-03]],\n",
       "\n",
       "       [[ 8.89633157e-04],\n",
       "        [ 1.04662724e-03],\n",
       "        [ 6.27976346e-04]],\n",
       "\n",
       "       [[ 1.04662724e-03],\n",
       "        [ 6.27976346e-04],\n",
       "        [ 3.66319535e-03]],\n",
       "\n",
       "       [[ 6.27976346e-04],\n",
       "        [ 3.66319535e-03],\n",
       "        [ 4.18650897e-03]],\n",
       "\n",
       "       [[ 3.66319535e-03],\n",
       "        [ 4.18650897e-03],\n",
       "        [ 6.33209482e-03]],\n",
       "\n",
       "       [[ 4.18650897e-03],\n",
       "        [ 6.33209482e-03],\n",
       "        [ 7.84970433e-03]],\n",
       "\n",
       "       [[ 6.33209482e-03],\n",
       "        [ 7.84970433e-03],\n",
       "        [ 1.11465801e-02]],\n",
       "\n",
       "       [[ 7.84970433e-03],\n",
       "        [ 1.11465801e-02],\n",
       "        [ 1.72693495e-02]],\n",
       "\n",
       "       [[ 1.11465801e-02],\n",
       "        [ 1.72693495e-02],\n",
       "        [ 1.99905804e-02]],\n",
       "\n",
       "       [[ 1.72693495e-02],\n",
       "        [ 1.99905804e-02],\n",
       "        [ 2.23978230e-02]],\n",
       "\n",
       "       [[ 1.99905804e-02],\n",
       "        [ 2.23978230e-02],\n",
       "        [ 3.83065571e-02]],\n",
       "\n",
       "       [[ 2.23978230e-02],\n",
       "        [ 3.83065571e-02],\n",
       "        [ 6.29546287e-02]],\n",
       "\n",
       "       [[ 3.83065571e-02],\n",
       "        [ 6.29546287e-02],\n",
       "        [ 9.23648543e-02]],\n",
       "\n",
       "       [[ 6.29546287e-02],\n",
       "        [ 9.23648543e-02],\n",
       "        [ 1.82479460e-01]],\n",
       "\n",
       "       [[ 9.23648543e-02],\n",
       "        [ 1.82479460e-01],\n",
       "        [ 2.68564551e-01]],\n",
       "\n",
       "       [[ 1.82479460e-01],\n",
       "        [ 2.68564551e-01],\n",
       "        [ 3.69564080e-01]],\n",
       "\n",
       "       [[ 2.68564551e-01],\n",
       "        [ 3.69564080e-01],\n",
       "        [ 5.66330002e-01]],\n",
       "\n",
       "       [[ 3.69564080e-01],\n",
       "        [ 5.66330002e-01],\n",
       "        [ 7.52367994e-01]],\n",
       "\n",
       "       [[ 5.66330002e-01],\n",
       "        [ 7.52367994e-01],\n",
       "        [ 1.02370611e+00]],\n",
       "\n",
       "       [[ 7.52367994e-01],\n",
       "        [ 1.02370611e+00],\n",
       "        [ 1.26385473e+00]],\n",
       "\n",
       "       [[ 1.02370611e+00],\n",
       "        [ 1.26385473e+00],\n",
       "        [ 1.43592025e+00]],\n",
       "\n",
       "       [[ 1.26385473e+00],\n",
       "        [ 1.43592025e+00],\n",
       "        [ 1.33371710e+00]],\n",
       "\n",
       "       [[ 1.43592025e+00],\n",
       "        [ 1.33371710e+00],\n",
       "        [ 1.08603276e+00]],\n",
       "\n",
       "       [[ 1.33371710e+00],\n",
       "        [ 1.08603276e+00],\n",
       "        [ 7.22277461e-01]],\n",
       "\n",
       "       [[ 1.08603276e+00],\n",
       "        [ 7.22277461e-01],\n",
       "        [ 5.23627610e-01]],\n",
       "\n",
       "       [[ 7.22277461e-01],\n",
       "        [ 5.23627610e-01],\n",
       "        [ 4.03893453e-01]],\n",
       "\n",
       "       [[ 5.23627610e-01],\n",
       "        [ 4.03893453e-01],\n",
       "        [ 3.02789262e-01]],\n",
       "\n",
       "       [[ 4.03893453e-01],\n",
       "        [ 3.02789262e-01],\n",
       "        [ 2.15814538e-01]],\n",
       "\n",
       "       [[ 3.02789262e-01],\n",
       "        [ 2.15814538e-01],\n",
       "        [ 1.61285258e-01]],\n",
       "\n",
       "       [[ 2.15814538e-01],\n",
       "        [ 1.61285258e-01],\n",
       "        [ 1.26851222e-01]],\n",
       "\n",
       "       [[ 1.61285258e-01],\n",
       "        [ 1.26851222e-01],\n",
       "        [ 9.18938720e-02]],\n",
       "\n",
       "       [[ 1.26851222e-01],\n",
       "        [ 9.18938720e-02],\n",
       "        [ 7.49908420e-02]],\n",
       "\n",
       "       [[ 9.18938720e-02],\n",
       "        [ 7.49908420e-02],\n",
       "        [ 3.77832435e-02]],\n",
       "\n",
       "       [[ 7.49908420e-02],\n",
       "        [ 3.77832435e-02],\n",
       "        [ 2.62703438e-02]],\n",
       "\n",
       "       [[ 3.77832435e-02],\n",
       "        [ 2.62703438e-02],\n",
       "        [ 2.24501544e-02]],\n",
       "\n",
       "       [[ 2.62703438e-02],\n",
       "        [ 2.24501544e-02],\n",
       "        [ 1.72693495e-02]],\n",
       "\n",
       "       [[ 2.24501544e-02],\n",
       "        [ 1.72693495e-02],\n",
       "        [ 8.94866293e-03]],\n",
       "\n",
       "       [[ 1.72693495e-02],\n",
       "        [ 8.94866293e-03],\n",
       "        [ 6.27976346e-03]],\n",
       "\n",
       "       [[ 8.94866293e-03],\n",
       "        [ 6.27976346e-03],\n",
       "        [ 5.96577529e-03]],\n",
       "\n",
       "       [[ 6.27976346e-03],\n",
       "        [ 5.96577529e-03],\n",
       "        [ 3.45386990e-03]],\n",
       "\n",
       "       [[ 5.96577529e-03],\n",
       "        [ 3.45386990e-03],\n",
       "        [ 2.93055628e-03]],\n",
       "\n",
       "       [[ 3.45386990e-03],\n",
       "        [ 2.93055628e-03],\n",
       "        [ 2.09325449e-03]],\n",
       "\n",
       "       [[ 2.93055628e-03],\n",
       "        [ 2.09325449e-03],\n",
       "        [ 2.35491130e-03]],\n",
       "\n",
       "       [[ 2.09325449e-03],\n",
       "        [ 2.35491130e-03],\n",
       "        [ 1.51760950e-03]],\n",
       "\n",
       "       [[ 2.35491130e-03],\n",
       "        [ 1.51760950e-03],\n",
       "        [ 2.19791721e-03]],\n",
       "\n",
       "       [[ 1.51760950e-03],\n",
       "        [ 2.19791721e-03],\n",
       "        [ 2.30257994e-03]],\n",
       "\n",
       "       [[ 2.19791721e-03],\n",
       "        [ 2.30257994e-03],\n",
       "        [ 2.04092313e-03]],\n",
       "\n",
       "       [[ 2.30257994e-03],\n",
       "        [ 2.04092313e-03],\n",
       "        [ 2.66889947e-03]],\n",
       "\n",
       "       [[ 2.04092313e-03],\n",
       "        [ 2.66889947e-03],\n",
       "        [ 2.82589356e-03]],\n",
       "\n",
       "       [[ 2.66889947e-03],\n",
       "        [ 2.82589356e-03],\n",
       "        [ 2.77356220e-03]],\n",
       "\n",
       "       [[ 2.82589356e-03],\n",
       "        [ 2.77356220e-03],\n",
       "        [ 1.88392904e-03]],\n",
       "\n",
       "       [[ 2.77356220e-03],\n",
       "        [ 1.88392904e-03],\n",
       "        [ 3.03521901e-03]],\n",
       "\n",
       "       [[ 1.88392904e-03],\n",
       "        [ 3.03521901e-03],\n",
       "        [ 3.08755037e-03]],\n",
       "\n",
       "       [[ 3.03521901e-03],\n",
       "        [ 3.08755037e-03],\n",
       "        [ 2.45957402e-03]],\n",
       "\n",
       "       [[ 3.08755037e-03],\n",
       "        [ 2.45957402e-03],\n",
       "        [ 1.07279292e-02]],\n",
       "\n",
       "       [[ 2.45957402e-03],\n",
       "        [ 1.07279292e-02],\n",
       "        [ 1.17745565e-02]],\n",
       "\n",
       "       [[ 1.07279292e-02],\n",
       "        [ 1.17745565e-02],\n",
       "        [ 1.43911246e-02]],\n",
       "\n",
       "       [[ 1.17745565e-02],\n",
       "        [ 1.43911246e-02],\n",
       "        [ 1.82113140e-02]],\n",
       "\n",
       "       [[ 1.43911246e-02],\n",
       "        [ 1.82113140e-02],\n",
       "        [ 2.54330420e-02]],\n",
       "\n",
       "       [[ 1.82113140e-02],\n",
       "        [ 2.54330420e-02],\n",
       "        [ 2.90962374e-02]],\n",
       "\n",
       "       [[ 2.54330420e-02],\n",
       "        [ 2.90962374e-02],\n",
       "        [ 4.51096342e-02]],\n",
       "\n",
       "       [[ 2.90962374e-02],\n",
       "        [ 4.51096342e-02],\n",
       "        [ 8.87016589e-02]],\n",
       "\n",
       "       [[ 4.51096342e-02],\n",
       "        [ 8.87016589e-02],\n",
       "        [ 1.54325187e-01]],\n",
       "\n",
       "       [[ 8.87016589e-02],\n",
       "        [ 1.54325187e-01],\n",
       "        [ 1.38939767e-01]],\n",
       "\n",
       "       [[ 1.54325187e-01],\n",
       "        [ 1.38939767e-01],\n",
       "        [ 2.00062798e-01]],\n",
       "\n",
       "       [[ 1.38939767e-01],\n",
       "        [ 2.00062798e-01],\n",
       "        [ 2.86880528e-01]],\n",
       "\n",
       "       [[ 2.00062798e-01],\n",
       "        [ 2.86880528e-01],\n",
       "        [ 2.75053640e-01]],\n",
       "\n",
       "       [[ 2.86880528e-01],\n",
       "        [ 2.75053640e-01],\n",
       "        [ 2.95619865e-01]],\n",
       "\n",
       "       [[ 2.75053640e-01],\n",
       "        [ 2.95619865e-01],\n",
       "        [ 3.72651630e-01]],\n",
       "\n",
       "       [[ 2.95619865e-01],\n",
       "        [ 3.72651630e-01],\n",
       "        [ 4.54079230e-01]],\n",
       "\n",
       "       [[ 3.72651630e-01],\n",
       "        [ 4.54079230e-01],\n",
       "        [ 5.75487990e-01]],\n",
       "\n",
       "       [[ 4.54079230e-01],\n",
       "        [ 5.75487990e-01],\n",
       "        [ 7.37610550e-01]],\n",
       "\n",
       "       [[ 5.75487990e-01],\n",
       "        [ 7.37610550e-01],\n",
       "        [ 7.50013083e-01]],\n",
       "\n",
       "       [[ 7.37610550e-01],\n",
       "        [ 7.50013083e-01],\n",
       "        [ 7.27405934e-01]],\n",
       "\n",
       "       [[ 7.50013083e-01],\n",
       "        [ 7.27405934e-01],\n",
       "        [ 6.13585222e-01]],\n",
       "\n",
       "       [[ 7.27405934e-01],\n",
       "        [ 6.13585222e-01],\n",
       "        [ 6.24313151e-01]],\n",
       "\n",
       "       [[ 6.13585222e-01],\n",
       "        [ 6.24313151e-01],\n",
       "        [ 5.25616202e-01]],\n",
       "\n",
       "       [[ 6.24313151e-01],\n",
       "        [ 5.25616202e-01],\n",
       "        [ 3.88560364e-01]],\n",
       "\n",
       "       [[ 5.25616202e-01],\n",
       "        [ 3.88560364e-01],\n",
       "        [ 1.85619342e-01]],\n",
       "\n",
       "       [[ 3.88560364e-01],\n",
       "        [ 1.85619342e-01],\n",
       "        [ 8.12706055e-02]],\n",
       "\n",
       "       [[ 1.85619342e-01],\n",
       "        [ 8.12706055e-02],\n",
       "        [ 3.94578471e-02]],\n",
       "\n",
       "       [[ 8.12706055e-02],\n",
       "        [ 3.94578471e-02],\n",
       "        [ 1.48621069e-02]],\n",
       "\n",
       "       [[ 3.94578471e-02],\n",
       "        [ 1.48621069e-02],\n",
       "        [ 7.53571615e-03]],\n",
       "\n",
       "       [[ 1.48621069e-02],\n",
       "        [ 7.53571615e-03],\n",
       "        [ 4.29117170e-03]],\n",
       "\n",
       "       [[ 7.53571615e-03],\n",
       "        [ 4.29117170e-03],\n",
       "        [ 9.94295882e-04]],\n",
       "\n",
       "       [[ 4.29117170e-03],\n",
       "        [ 9.94295882e-04],\n",
       "        [ 3.66319535e-04]],\n",
       "\n",
       "       [[ 9.94295882e-04],\n",
       "        [ 3.66319535e-04],\n",
       "        [ 1.56994087e-04]],\n",
       "\n",
       "       [[ 3.66319535e-04],\n",
       "        [ 1.56994087e-04],\n",
       "        [ 5.23313622e-05]],\n",
       "\n",
       "       [[ 1.56994087e-04],\n",
       "        [ 5.23313622e-05],\n",
       "        [ 5.23313622e-05]],\n",
       "\n",
       "       [[ 5.23313622e-05],\n",
       "        [ 5.23313622e-05],\n",
       "        [-5.23313622e-05]]])"
      ]
     },
     "execution_count": 305,
     "metadata": {},
     "output_type": "execute_result"
    }
   ],
   "source": [
    "X_test"
   ]
  },
  {
   "cell_type": "code",
   "execution_count": 309,
   "metadata": {},
   "outputs": [
    {
     "data": {
      "text/plain": [
       "array([[-5.23313622e-05],\n",
       "       [ 1.04662724e-04],\n",
       "       [-1.04662724e-04]])"
      ]
     },
     "execution_count": 309,
     "metadata": {},
     "output_type": "execute_result"
    }
   ],
   "source": [
    "test_data_scaled[-3:]"
   ]
  },
  {
   "cell_type": "code",
   "execution_count": 312,
   "metadata": {},
   "outputs": [
    {
     "data": {
      "text/plain": [
       "array([[477.16937]], dtype=float32)"
      ]
     },
     "execution_count": 312,
     "metadata": {},
     "output_type": "execute_result"
    }
   ],
   "source": [
    "scaler.inverse_transform(model.predict(test_data_scaled[-3:].reshape(1,3,1),verbose=0))"
   ]
  }
 ],
 "metadata": {
  "kernelspec": {
   "display_name": "Python 3",
   "language": "python",
   "name": "python3"
  },
  "language_info": {
   "codemirror_mode": {
    "name": "ipython",
    "version": 3
   },
   "file_extension": ".py",
   "mimetype": "text/x-python",
   "name": "python",
   "nbconvert_exporter": "python",
   "pygments_lexer": "ipython3",
   "version": "3.8.5"
  }
 },
 "nbformat": 4,
 "nbformat_minor": 4
}
